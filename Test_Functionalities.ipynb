{
 "cells": [
  {
   "cell_type": "markdown",
   "id": "db4ff6cb",
   "metadata": {},
   "source": [
    "## Rotary Positional Embeddings"
   ]
  },
  {
   "cell_type": "markdown",
   "id": "b202b728",
   "metadata": {},
   "source": [
    "https://nn.labml.ai/transformers/rope/index.html\n",
    "\n",
    "https://blog.eleuther.ai/rotary-embeddings/"
   ]
  },
  {
   "cell_type": "markdown",
   "id": "94e2c60c",
   "metadata": {},
   "source": [
    "### Transfromers Again"
   ]
  },
  {
   "cell_type": "code",
   "execution_count": 1,
   "id": "d5c4c35e",
   "metadata": {},
   "outputs": [],
   "source": [
    "import torch\n",
    "from torch import nn"
   ]
  },
  {
   "cell_type": "code",
   "execution_count": 2,
   "id": "5b0b3d7b",
   "metadata": {},
   "outputs": [],
   "source": [
    "class Config:    \n",
    "    vocab_size = 4026\n",
    "    dim = 552\n",
    "    n_heads = 12\n",
    "    head_size = dim // n_heads\n",
    "    n_layers = 12\n",
    "    n_kv_heads = 3\n",
    "    seq_len = 1024\n",
    "    multiple_of = 256\n",
    "    \n",
    "config = Config()"
   ]
  },
  {
   "cell_type": "code",
   "execution_count": 3,
   "id": "68c76d0e",
   "metadata": {},
   "outputs": [],
   "source": [
    "\n",
    "class RoPE(nn.Module):\n",
    "    def __init__(self,config):\n",
    "        super().__init__()\n",
    "        self.config = config\n",
    "        self.cos_mthetas = None\n",
    "        self.sin_mthetas = None\n",
    "        self.__set_thetas()\n",
    "        \n",
    "    def __set_thetas(self):\n",
    "        \"\"\"This sets the parameters of the rope as per the formula\n",
    "        Θ = {θi = 10000−2(i−1)/d, i ∈ [1, 2, ..., d/2]}\n",
    "        \"\"\"\n",
    "        assert self.config.head_size % 2 == 0, f\"Head size:{self.config.head_size} shouls be even number\"\n",
    "        self.d = self.config.head_size\n",
    "        self.m = self.config.seq_len\n",
    "        \n",
    "        i_s = torch.tensor(range(1,self.d//2+1))\n",
    "        i_s = torch.cat([i_s,i_s], axis=-1)\n",
    "        m_s = torch.tensor(range(self.m)).unsqueeze(axis=-1)\n",
    "        \n",
    "        thetas = 10000 ** (-2*(i_s-1)/self.d)\n",
    "        self.cos_mthetas = torch.cos(m_s * thetas).to(\"cuda\")\n",
    "        self.sin_mthetas = torch.sin(m_s * thetas).to(\"cuda\")\n",
    "        \n",
    "    def forward(self, x):\n",
    "        \"\"\" assumes x in the format of \"\"\"\n",
    "        d  = x.shape[-1]\n",
    "        print(f\"shapes in RoPE in oredr x, : {x.shape, self.cos_mthetas.shape},d:{d}\")\n",
    "        assert d == self.d\n",
    "        \n",
    "        x = self.cos_mthetas * x + self.sin_mthetas * torch.cat([-1 * x[:,:,:,self.d//2:],x[:,:,:,:self.d//2]], axis=-1)\n",
    "        return x\n",
    "        \n",
    "    \n",
    "    "
   ]
  },
  {
   "cell_type": "code",
   "execution_count": 14,
   "id": "239bfac7",
   "metadata": {},
   "outputs": [],
   "source": [
    "d = config.head_size\n",
    "m = config.seq_len\n",
    "\n",
    "i_s = torch.tensor(range(1,d//2+1))\n",
    "i_s = torch.cat([i_s,i_s], axis=-1)\n",
    "m_s = torch.tensor(range(m)).unsqueeze(axis=-1)\n",
    "\n",
    "thetas = 10000 ** (-2*(i_s-1)/d)\n",
    "cos_mthetas = torch.cos(m_s * thetas)\n",
    "sin_mthetas = torch.sin(m_s * thetas)"
   ]
  },
  {
   "cell_type": "code",
   "execution_count": 15,
   "id": "c06da1aa",
   "metadata": {},
   "outputs": [
    {
     "data": {
      "text/plain": [
       "(torch.Size([1024, 1]),\n",
       " torch.Size([46]),\n",
       " torch.Size([1024, 46]),\n",
       " torch.Size([1024, 46]))"
      ]
     },
     "execution_count": 15,
     "metadata": {},
     "output_type": "execute_result"
    }
   ],
   "source": [
    "m_s.shape, thetas.shape, cos_mthetas.shape, sin_mthetas.shape"
   ]
  },
  {
   "cell_type": "code",
   "execution_count": 21,
   "id": "b9b447f2",
   "metadata": {},
   "outputs": [],
   "source": [
    "x = torch.rand(size=(4, 12, 16, d))\n",
    "d  = x.shape[-1]\n",
    "t = x.shape[-2]\n",
    "x = cos_mthetas[:t,:] * x + sin_mthetas[:t,:] * torch.cat([-1 * x[:,:,:,d//2:],x[:,:,:,:d//2]], axis=-1)"
   ]
  },
  {
   "cell_type": "code",
   "execution_count": 22,
   "id": "8b152d70",
   "metadata": {},
   "outputs": [
    {
     "data": {
      "text/plain": [
       "torch.Size([4, 12, 16, 46])"
      ]
     },
     "execution_count": 22,
     "metadata": {},
     "output_type": "execute_result"
    }
   ],
   "source": [
    "x.shape"
   ]
  },
  {
   "cell_type": "code",
   "execution_count": 4,
   "id": "e5801d7f",
   "metadata": {},
   "outputs": [],
   "source": [
    "def repeat_kv(x: torch.Tensor, n_rep: int) -> torch.Tensor:\n",
    "    \"\"\"torch.repeat_interleave(x, dim=2, repeats=n_rep)\"\"\"\n",
    "    bs, slen, n_kv_heads, head_dim = x.shape\n",
    "    if n_rep == 1:\n",
    "        return x\n",
    "    return (\n",
    "        x[:, :, :, None, :]\n",
    "        .expand(bs, slen, n_kv_heads, n_rep, head_dim)\n",
    "        .reshape(bs, slen, n_kv_heads * n_rep, head_dim)\n",
    "    )\n",
    "\n",
    "class MultiHeadAttention(nn.Module):\n",
    "    def __init__(self, config):\n",
    "        super().__init__()\n",
    "        self.config = config\n",
    "        self.n_rep = self.config.n_heads // self.config.n_kv_heads\n",
    "        self.query = nn.Linear(self.config.dim, self.config.n_heads * self.config.head_size, bias=False)\n",
    "        self.key = nn.Linear(self.config.dim, self.config.n_kv_heads * self.config.head_size, bias=False)\n",
    "        self.value = nn.Linear(self.config.dim, self.config.n_kv_heads * self.config.head_size, bias=False)\n",
    "        self.rope = RoPE(self.config)\n",
    "        self.proj = nn.Linear(self.config.n_heads * self.config.head_size, self.config.n_heads * self.config.head_size, bias=False)\n",
    "        \n",
    "    def forward(self, x, y=None):\n",
    "        b,t,d = x.shape\n",
    "        q = self.query(x).view(b,t,self.config.n_heads,self.config.head_size)\n",
    "        k = self.key(x).view(b,t,self.config.n_kv_heads,self.config.head_size)\n",
    "        v = self.value(x).view(b,t,self.config.n_kv_heads,self.config.head_size)\n",
    "        print(f\"Shapes of Q, K, V: {q.shape, k.shape, v.shape}\")\n",
    "        \n",
    "        ## Add rotary embeddings        \n",
    "        q = self.rope(q.permute(0,2,1,3)).permute(0,2,1,3)\n",
    "        k = self.rope(k.permute(0,2,1,3)).permute(0,2,1,3)\n",
    "        \n",
    "        ##GQA \n",
    "        k = repeat_kv(k,self.n_rep)\n",
    "        v = repeat_kv(v,self.n_rep)\n",
    "        print(f\"Shapes of Q, K, V: {q.shape, k.shape, v.shape}\")\n",
    "        # make heads into a batch dimension\n",
    "        q = q.transpose(1, 2)  # (bs, n_local_heads, seqlen, head_dim)\n",
    "        k = k.transpose(1, 2)\n",
    "        v = v.transpose(1, 2)\n",
    "        \n",
    "        ## Flash attention\n",
    "        x = nn.functional.scaled_dot_product_attention(q, k, v, is_causal=True)\n",
    "        \n",
    "         # restore time as batch dimension and concat heads\n",
    "        x = x.transpose(1, 2).contiguous().view(b, t, -1)\n",
    "\n",
    "        # final projection into the residual stream\n",
    "        x = self.proj(x)\n",
    "        \n",
    "        return x\n",
    "        \n",
    "\n",
    "        \n",
    "        \n",
    "        \n",
    "    "
   ]
  },
  {
   "cell_type": "code",
   "execution_count": 5,
   "id": "4b9cddbe",
   "metadata": {},
   "outputs": [],
   "source": [
    "class FeedForwordNetwork(nn.Module):\n",
    "    def __init__(self, config):\n",
    "        super().__init__()\n",
    "        self.config = config        \n",
    "        hidden_units = int(self.config.dim * 4 * 2/3) ##\n",
    "        hidden_units = int(hidden_units - (hidden_units % self.config.multiple_of) + self.config.multiple_of)\n",
    "        \n",
    "        self.w = nn.Linear(self.config.dim, hidden_units)\n",
    "        self.v = nn.Linear(self.config.dim, hidden_units)\n",
    "        self.w2 = nn.Linear(hidden_units, self.config.dim)\n",
    "        self.silu = nn.SiLU()\n",
    "        \n",
    "    def forward(self, x):\n",
    "        out = self.w2(self.silu(self.w(x)) * self.v(x))\n",
    "        return out"
   ]
  },
  {
   "cell_type": "code",
   "execution_count": 6,
   "id": "43ef5958",
   "metadata": {},
   "outputs": [],
   "source": [
    "class RMSNorm(nn.Module):\n",
    "    def __init__(self, config):\n",
    "        super().__init__()\n",
    "        self.eps = 1e-5\n",
    "        self.dim = config.dim\n",
    "        self.weight = nn.Parameter(torch.ones(self.dim))\n",
    "\n",
    "    def _norm(self, x):\n",
    "        return x * torch.rsqrt(x.pow(2).mean(-1, keepdim=True) + self.eps)\n",
    "\n",
    "    def forward(self, x):\n",
    "        output = self._norm(x.float()).type_as(x)\n",
    "        return output * self.weight"
   ]
  },
  {
   "cell_type": "code",
   "execution_count": 7,
   "id": "91314226",
   "metadata": {},
   "outputs": [],
   "source": [
    "class AttentionLayer(nn.Module):\n",
    "    def __init__(self, config):\n",
    "        super().__init__()\n",
    "        self.config = config\n",
    "        self.mha = MultiHeadAttention(self.config)\n",
    "        self.ffn = FeedForwordNetwork(self.config)\n",
    "        self.anorm = RMSNorm(config)\n",
    "        self.fnorm = RMSNorm(config)\n",
    "        \n",
    "    def forward(self,x):\n",
    "        x = x + self.mha(self.anorm(x))\n",
    "        x = x + self.ffn(self.fnorm(x))\n",
    "        return x\n",
    "        "
   ]
  },
  {
   "cell_type": "code",
   "execution_count": 8,
   "id": "d366db8f",
   "metadata": {},
   "outputs": [],
   "source": [
    "class Model(nn.Module):\n",
    "    def __init__(self, config):\n",
    "        super().__init__()\n",
    "        self.config = config\n",
    "        self.embedding_layer = nn.Embedding(self.config.vocab_size, self.config.dim)\n",
    "        self.layers = nn.Sequential(*[AttentionLayer(self.config) for _ in range(self.config.n_layers)])\n",
    "        self.hnorm = RMSNorm(config)\n",
    "        self.clf_head = nn.Linear(self.config.dim, self.config.vocab_size)\n",
    "    \n",
    "    def forward(self, x, y=None):\n",
    "        x = self.embedding_layer(x)\n",
    "        x = self.layers(x)\n",
    "        x = self.hnorm(x)\n",
    "        x = self.clf_head(x)\n",
    "        return x\n",
    "        \n",
    "            "
   ]
  },
  {
   "cell_type": "code",
   "execution_count": 211,
   "id": "6be5f666",
   "metadata": {},
   "outputs": [
    {
     "name": "stdout",
     "output_type": "stream",
     "text": [
      "2048\n",
      "1365\n",
      "1536\n"
     ]
    }
   ],
   "source": [
    "multiple_of = 256\n",
    "hidden_dim = 4 * 512\n",
    "print(hidden_dim)\n",
    "hidden_dim = int(2 * hidden_dim / 3)\n",
    "print(hidden_dim)\n",
    "hidden_dim = multiple_of * ((hidden_dim + multiple_of - 1) // multiple_of)\n",
    "print(hidden_dim)"
   ]
  },
  {
   "cell_type": "code",
   "execution_count": null,
   "id": "397f70d1",
   "metadata": {},
   "outputs": [],
   "source": []
  },
  {
   "cell_type": "code",
   "execution_count": null,
   "id": "5f74aa12",
   "metadata": {},
   "outputs": [],
   "source": []
  },
  {
   "cell_type": "markdown",
   "id": "3e1c7679",
   "metadata": {},
   "source": [
    "## Testing "
   ]
  },
  {
   "cell_type": "code",
   "execution_count": 178,
   "id": "529e9cde",
   "metadata": {},
   "outputs": [],
   "source": [
    "### Attention"
   ]
  },
  {
   "cell_type": "code",
   "execution_count": 239,
   "id": "b8b903dd",
   "metadata": {},
   "outputs": [
    {
     "data": {
      "text/plain": [
       "43.0"
      ]
     },
     "execution_count": 239,
     "metadata": {},
     "output_type": "execute_result"
    }
   ],
   "source": [
    "516 / 12"
   ]
  },
  {
   "cell_type": "code",
   "execution_count": 253,
   "id": "24ce3f76",
   "metadata": {},
   "outputs": [
    {
     "data": {
      "text/plain": [
       "552"
      ]
     },
     "execution_count": 253,
     "metadata": {},
     "output_type": "execute_result"
    }
   ],
   "source": [
    "46 * 12"
   ]
  },
  {
   "cell_type": "code",
   "execution_count": 254,
   "id": "cdb7fc88",
   "metadata": {},
   "outputs": [
    {
     "data": {
      "text/plain": [
       "46.0"
      ]
     },
     "execution_count": 254,
     "metadata": {},
     "output_type": "execute_result"
    }
   ],
   "source": [
    "552 / 12"
   ]
  },
  {
   "cell_type": "code",
   "execution_count": 259,
   "id": "548b3ea8",
   "metadata": {},
   "outputs": [],
   "source": [
    "attention = Attention(config)"
   ]
  },
  {
   "cell_type": "code",
   "execution_count": 260,
   "id": "5717e951",
   "metadata": {},
   "outputs": [
    {
     "name": "stdout",
     "output_type": "stream",
     "text": [
      "Shapes of Q, K, V: (torch.Size([16, 1024, 12, 46]), torch.Size([16, 1024, 3, 46]), torch.Size([16, 1024, 3, 46]))\n",
      "shapes in RoPE in oredr x, : (torch.Size([16, 12, 1024, 46]), torch.Size([1024, 46])),d:46\n",
      "shapes in RoPE in oredr x, : (torch.Size([16, 3, 1024, 46]), torch.Size([1024, 46])),d:46\n",
      "Shapes of Q, K, V: (torch.Size([16, 1024, 12, 46]), torch.Size([16, 1024, 12, 46]), torch.Size([16, 1024, 12, 46]))\n"
     ]
    }
   ],
   "source": [
    "x = torch.ones(size=(16, config.seq_len, config.dim)) * 1.0\n",
    "out = attention(x)"
   ]
  },
  {
   "cell_type": "code",
   "execution_count": 261,
   "id": "c5a4994e",
   "metadata": {},
   "outputs": [
    {
     "data": {
      "text/plain": [
       "(torch.Size([16, 1024, 552]), torch.Size([16, 1024, 552]))"
      ]
     },
     "execution_count": 261,
     "metadata": {},
     "output_type": "execute_result"
    }
   ],
   "source": [
    "x.shape, out.shape"
   ]
  },
  {
   "cell_type": "code",
   "execution_count": 266,
   "id": "3446f826",
   "metadata": {},
   "outputs": [],
   "source": [
    "ff = FeedForword(config)\n",
    "ffout = ff(out)"
   ]
  },
  {
   "cell_type": "code",
   "execution_count": 267,
   "id": "cc29eedd",
   "metadata": {},
   "outputs": [
    {
     "data": {
      "text/plain": [
       "(torch.Size([16, 1024, 552]),\n",
       " torch.Size([16, 1024, 552]),\n",
       " torch.Size([16, 1024, 552]))"
      ]
     },
     "execution_count": 267,
     "metadata": {},
     "output_type": "execute_result"
    }
   ],
   "source": [
    "x.shape, out.shape, ffout.shape"
   ]
  },
  {
   "cell_type": "code",
   "execution_count": 197,
   "id": "e0f8eec3",
   "metadata": {},
   "outputs": [
    {
     "data": {
      "text/plain": [
       "torch.Size([16, 1024, 8, 64])"
      ]
     },
     "execution_count": 197,
     "metadata": {},
     "output_type": "execute_result"
    }
   ],
   "source": [
    "x = x.view(16, config.seq_len, config.n_heads, config.head_size)\n",
    "x.shape"
   ]
  },
  {
   "cell_type": "markdown",
   "id": "737e0c8d",
   "metadata": {},
   "source": [
    "## AttentionLayer Test"
   ]
  },
  {
   "cell_type": "code",
   "execution_count": 283,
   "id": "22923d80",
   "metadata": {},
   "outputs": [
    {
     "name": "stdout",
     "output_type": "stream",
     "text": [
      "Shapes of Q, K, V: (torch.Size([16, 1024, 12, 46]), torch.Size([16, 1024, 3, 46]), torch.Size([16, 1024, 3, 46]))\n",
      "shapes in RoPE in oredr x, : (torch.Size([16, 12, 1024, 46]), torch.Size([1024, 46])),d:46\n",
      "shapes in RoPE in oredr x, : (torch.Size([16, 3, 1024, 46]), torch.Size([1024, 46])),d:46\n",
      "Shapes of Q, K, V: (torch.Size([16, 1024, 12, 46]), torch.Size([16, 1024, 12, 46]), torch.Size([16, 1024, 12, 46]))\n",
      "torch.Size([16, 1024, 552]) torch.Size([16, 1024, 552])\n"
     ]
    }
   ],
   "source": [
    "x = torch.ones(size=(16, config.seq_len, config.dim)) * 1.0\n",
    "layer = AttentionLayer(config)\n",
    "out = layer(x)\n",
    "print(x.shape, out.shape)"
   ]
  },
  {
   "cell_type": "markdown",
   "id": "94c3c833",
   "metadata": {},
   "source": [
    "### Model Test"
   ]
  },
  {
   "cell_type": "code",
   "execution_count": 9,
   "id": "9fa67888",
   "metadata": {},
   "outputs": [
    {
     "name": "stdout",
     "output_type": "stream",
     "text": [
      "Shapes of Q, K, V: (torch.Size([16, 1024, 12, 46]), torch.Size([16, 1024, 3, 46]), torch.Size([16, 1024, 3, 46]))\n",
      "shapes in RoPE in oredr x, : (torch.Size([16, 12, 1024, 46]), torch.Size([1024, 46])),d:46\n",
      "shapes in RoPE in oredr x, : (torch.Size([16, 3, 1024, 46]), torch.Size([1024, 46])),d:46\n",
      "Shapes of Q, K, V: (torch.Size([16, 1024, 12, 46]), torch.Size([16, 1024, 12, 46]), torch.Size([16, 1024, 12, 46]))\n",
      "Shapes of Q, K, V: (torch.Size([16, 1024, 12, 46]), torch.Size([16, 1024, 3, 46]), torch.Size([16, 1024, 3, 46]))\n",
      "shapes in RoPE in oredr x, : (torch.Size([16, 12, 1024, 46]), torch.Size([1024, 46])),d:46\n",
      "shapes in RoPE in oredr x, : (torch.Size([16, 3, 1024, 46]), torch.Size([1024, 46])),d:46\n",
      "Shapes of Q, K, V: (torch.Size([16, 1024, 12, 46]), torch.Size([16, 1024, 12, 46]), torch.Size([16, 1024, 12, 46]))\n",
      "Shapes of Q, K, V: (torch.Size([16, 1024, 12, 46]), torch.Size([16, 1024, 3, 46]), torch.Size([16, 1024, 3, 46]))\n",
      "shapes in RoPE in oredr x, : (torch.Size([16, 12, 1024, 46]), torch.Size([1024, 46])),d:46\n",
      "shapes in RoPE in oredr x, : (torch.Size([16, 3, 1024, 46]), torch.Size([1024, 46])),d:46\n",
      "Shapes of Q, K, V: (torch.Size([16, 1024, 12, 46]), torch.Size([16, 1024, 12, 46]), torch.Size([16, 1024, 12, 46]))\n",
      "Shapes of Q, K, V: (torch.Size([16, 1024, 12, 46]), torch.Size([16, 1024, 3, 46]), torch.Size([16, 1024, 3, 46]))\n",
      "shapes in RoPE in oredr x, : (torch.Size([16, 12, 1024, 46]), torch.Size([1024, 46])),d:46\n",
      "shapes in RoPE in oredr x, : (torch.Size([16, 3, 1024, 46]), torch.Size([1024, 46])),d:46\n",
      "Shapes of Q, K, V: (torch.Size([16, 1024, 12, 46]), torch.Size([16, 1024, 12, 46]), torch.Size([16, 1024, 12, 46]))\n",
      "Shapes of Q, K, V: (torch.Size([16, 1024, 12, 46]), torch.Size([16, 1024, 3, 46]), torch.Size([16, 1024, 3, 46]))\n",
      "shapes in RoPE in oredr x, : (torch.Size([16, 12, 1024, 46]), torch.Size([1024, 46])),d:46\n",
      "shapes in RoPE in oredr x, : (torch.Size([16, 3, 1024, 46]), torch.Size([1024, 46])),d:46\n",
      "Shapes of Q, K, V: (torch.Size([16, 1024, 12, 46]), torch.Size([16, 1024, 12, 46]), torch.Size([16, 1024, 12, 46]))\n",
      "Shapes of Q, K, V: (torch.Size([16, 1024, 12, 46]), torch.Size([16, 1024, 3, 46]), torch.Size([16, 1024, 3, 46]))\n",
      "shapes in RoPE in oredr x, : (torch.Size([16, 12, 1024, 46]), torch.Size([1024, 46])),d:46\n",
      "shapes in RoPE in oredr x, : (torch.Size([16, 3, 1024, 46]), torch.Size([1024, 46])),d:46\n",
      "Shapes of Q, K, V: (torch.Size([16, 1024, 12, 46]), torch.Size([16, 1024, 12, 46]), torch.Size([16, 1024, 12, 46]))\n",
      "Shapes of Q, K, V: (torch.Size([16, 1024, 12, 46]), torch.Size([16, 1024, 3, 46]), torch.Size([16, 1024, 3, 46]))\n",
      "shapes in RoPE in oredr x, : (torch.Size([16, 12, 1024, 46]), torch.Size([1024, 46])),d:46\n",
      "shapes in RoPE in oredr x, : (torch.Size([16, 3, 1024, 46]), torch.Size([1024, 46])),d:46\n",
      "Shapes of Q, K, V: (torch.Size([16, 1024, 12, 46]), torch.Size([16, 1024, 12, 46]), torch.Size([16, 1024, 12, 46]))\n"
     ]
    },
    {
     "ename": "OutOfMemoryError",
     "evalue": "CUDA out of memory. Tried to allocate 36.00 MiB. GPU 0 has a total capacty of 6.00 GiB of which 0 bytes is free. Of the allocated memory 5.16 GiB is allocated by PyTorch, and 131.97 MiB is reserved by PyTorch but unallocated. If reserved but unallocated memory is large try setting max_split_size_mb to avoid fragmentation.  See documentation for Memory Management and PYTORCH_CUDA_ALLOC_CONF",
     "output_type": "error",
     "traceback": [
      "\u001b[1;31m---------------------------------------------------------------------------\u001b[0m",
      "\u001b[1;31mOutOfMemoryError\u001b[0m                          Traceback (most recent call last)",
      "Cell \u001b[1;32mIn[9], line 3\u001b[0m\n\u001b[0;32m      1\u001b[0m x \u001b[38;5;241m=\u001b[39m torch\u001b[38;5;241m.\u001b[39mones(size\u001b[38;5;241m=\u001b[39m(\u001b[38;5;241m16\u001b[39m, config\u001b[38;5;241m.\u001b[39mseq_len), dtype\u001b[38;5;241m=\u001b[39mtorch\u001b[38;5;241m.\u001b[39mint32)\u001b[38;5;241m.\u001b[39mto(\u001b[38;5;124m\"\u001b[39m\u001b[38;5;124mcuda\u001b[39m\u001b[38;5;124m\"\u001b[39m)\n\u001b[0;32m      2\u001b[0m model \u001b[38;5;241m=\u001b[39m Model(config)\u001b[38;5;241m.\u001b[39mto(\u001b[38;5;124m\"\u001b[39m\u001b[38;5;124mcuda\u001b[39m\u001b[38;5;124m\"\u001b[39m)\n\u001b[1;32m----> 3\u001b[0m out \u001b[38;5;241m=\u001b[39m \u001b[43mmodel\u001b[49m\u001b[43m(\u001b[49m\u001b[43mx\u001b[49m\u001b[43m)\u001b[49m\n\u001b[0;32m      4\u001b[0m \u001b[38;5;28mprint\u001b[39m(x\u001b[38;5;241m.\u001b[39mshape, out\u001b[38;5;241m.\u001b[39mshape)\n",
      "File \u001b[1;32m~\\anaconda3\\envs\\venv_clear_text\\lib\\site-packages\\torch\\nn\\modules\\module.py:1518\u001b[0m, in \u001b[0;36mModule._wrapped_call_impl\u001b[1;34m(self, *args, **kwargs)\u001b[0m\n\u001b[0;32m   1516\u001b[0m     \u001b[38;5;28;01mreturn\u001b[39;00m \u001b[38;5;28mself\u001b[39m\u001b[38;5;241m.\u001b[39m_compiled_call_impl(\u001b[38;5;241m*\u001b[39margs, \u001b[38;5;241m*\u001b[39m\u001b[38;5;241m*\u001b[39mkwargs)  \u001b[38;5;66;03m# type: ignore[misc]\u001b[39;00m\n\u001b[0;32m   1517\u001b[0m \u001b[38;5;28;01melse\u001b[39;00m:\n\u001b[1;32m-> 1518\u001b[0m     \u001b[38;5;28;01mreturn\u001b[39;00m \u001b[38;5;28;43mself\u001b[39;49m\u001b[38;5;241;43m.\u001b[39;49m\u001b[43m_call_impl\u001b[49m\u001b[43m(\u001b[49m\u001b[38;5;241;43m*\u001b[39;49m\u001b[43margs\u001b[49m\u001b[43m,\u001b[49m\u001b[43m \u001b[49m\u001b[38;5;241;43m*\u001b[39;49m\u001b[38;5;241;43m*\u001b[39;49m\u001b[43mkwargs\u001b[49m\u001b[43m)\u001b[49m\n",
      "File \u001b[1;32m~\\anaconda3\\envs\\venv_clear_text\\lib\\site-packages\\torch\\nn\\modules\\module.py:1527\u001b[0m, in \u001b[0;36mModule._call_impl\u001b[1;34m(self, *args, **kwargs)\u001b[0m\n\u001b[0;32m   1522\u001b[0m \u001b[38;5;66;03m# If we don't have any hooks, we want to skip the rest of the logic in\u001b[39;00m\n\u001b[0;32m   1523\u001b[0m \u001b[38;5;66;03m# this function, and just call forward.\u001b[39;00m\n\u001b[0;32m   1524\u001b[0m \u001b[38;5;28;01mif\u001b[39;00m \u001b[38;5;129;01mnot\u001b[39;00m (\u001b[38;5;28mself\u001b[39m\u001b[38;5;241m.\u001b[39m_backward_hooks \u001b[38;5;129;01mor\u001b[39;00m \u001b[38;5;28mself\u001b[39m\u001b[38;5;241m.\u001b[39m_backward_pre_hooks \u001b[38;5;129;01mor\u001b[39;00m \u001b[38;5;28mself\u001b[39m\u001b[38;5;241m.\u001b[39m_forward_hooks \u001b[38;5;129;01mor\u001b[39;00m \u001b[38;5;28mself\u001b[39m\u001b[38;5;241m.\u001b[39m_forward_pre_hooks\n\u001b[0;32m   1525\u001b[0m         \u001b[38;5;129;01mor\u001b[39;00m _global_backward_pre_hooks \u001b[38;5;129;01mor\u001b[39;00m _global_backward_hooks\n\u001b[0;32m   1526\u001b[0m         \u001b[38;5;129;01mor\u001b[39;00m _global_forward_hooks \u001b[38;5;129;01mor\u001b[39;00m _global_forward_pre_hooks):\n\u001b[1;32m-> 1527\u001b[0m     \u001b[38;5;28;01mreturn\u001b[39;00m \u001b[43mforward_call\u001b[49m\u001b[43m(\u001b[49m\u001b[38;5;241;43m*\u001b[39;49m\u001b[43margs\u001b[49m\u001b[43m,\u001b[49m\u001b[43m \u001b[49m\u001b[38;5;241;43m*\u001b[39;49m\u001b[38;5;241;43m*\u001b[39;49m\u001b[43mkwargs\u001b[49m\u001b[43m)\u001b[49m\n\u001b[0;32m   1529\u001b[0m \u001b[38;5;28;01mtry\u001b[39;00m:\n\u001b[0;32m   1530\u001b[0m     result \u001b[38;5;241m=\u001b[39m \u001b[38;5;28;01mNone\u001b[39;00m\n",
      "Cell \u001b[1;32mIn[8], line 12\u001b[0m, in \u001b[0;36mModel.forward\u001b[1;34m(self, x, y)\u001b[0m\n\u001b[0;32m     10\u001b[0m \u001b[38;5;28;01mdef\u001b[39;00m \u001b[38;5;21mforward\u001b[39m(\u001b[38;5;28mself\u001b[39m, x, y\u001b[38;5;241m=\u001b[39m\u001b[38;5;28;01mNone\u001b[39;00m):\n\u001b[0;32m     11\u001b[0m     x \u001b[38;5;241m=\u001b[39m \u001b[38;5;28mself\u001b[39m\u001b[38;5;241m.\u001b[39membedding_layer(x)\n\u001b[1;32m---> 12\u001b[0m     x \u001b[38;5;241m=\u001b[39m \u001b[38;5;28;43mself\u001b[39;49m\u001b[38;5;241;43m.\u001b[39;49m\u001b[43mlayers\u001b[49m\u001b[43m(\u001b[49m\u001b[43mx\u001b[49m\u001b[43m)\u001b[49m\n\u001b[0;32m     13\u001b[0m     x \u001b[38;5;241m=\u001b[39m \u001b[38;5;28mself\u001b[39m\u001b[38;5;241m.\u001b[39mhnorm(x)\n\u001b[0;32m     14\u001b[0m     x \u001b[38;5;241m=\u001b[39m \u001b[38;5;28mself\u001b[39m\u001b[38;5;241m.\u001b[39mclf_head(x)\n",
      "File \u001b[1;32m~\\anaconda3\\envs\\venv_clear_text\\lib\\site-packages\\torch\\nn\\modules\\module.py:1518\u001b[0m, in \u001b[0;36mModule._wrapped_call_impl\u001b[1;34m(self, *args, **kwargs)\u001b[0m\n\u001b[0;32m   1516\u001b[0m     \u001b[38;5;28;01mreturn\u001b[39;00m \u001b[38;5;28mself\u001b[39m\u001b[38;5;241m.\u001b[39m_compiled_call_impl(\u001b[38;5;241m*\u001b[39margs, \u001b[38;5;241m*\u001b[39m\u001b[38;5;241m*\u001b[39mkwargs)  \u001b[38;5;66;03m# type: ignore[misc]\u001b[39;00m\n\u001b[0;32m   1517\u001b[0m \u001b[38;5;28;01melse\u001b[39;00m:\n\u001b[1;32m-> 1518\u001b[0m     \u001b[38;5;28;01mreturn\u001b[39;00m \u001b[38;5;28;43mself\u001b[39;49m\u001b[38;5;241;43m.\u001b[39;49m\u001b[43m_call_impl\u001b[49m\u001b[43m(\u001b[49m\u001b[38;5;241;43m*\u001b[39;49m\u001b[43margs\u001b[49m\u001b[43m,\u001b[49m\u001b[43m \u001b[49m\u001b[38;5;241;43m*\u001b[39;49m\u001b[38;5;241;43m*\u001b[39;49m\u001b[43mkwargs\u001b[49m\u001b[43m)\u001b[49m\n",
      "File \u001b[1;32m~\\anaconda3\\envs\\venv_clear_text\\lib\\site-packages\\torch\\nn\\modules\\module.py:1527\u001b[0m, in \u001b[0;36mModule._call_impl\u001b[1;34m(self, *args, **kwargs)\u001b[0m\n\u001b[0;32m   1522\u001b[0m \u001b[38;5;66;03m# If we don't have any hooks, we want to skip the rest of the logic in\u001b[39;00m\n\u001b[0;32m   1523\u001b[0m \u001b[38;5;66;03m# this function, and just call forward.\u001b[39;00m\n\u001b[0;32m   1524\u001b[0m \u001b[38;5;28;01mif\u001b[39;00m \u001b[38;5;129;01mnot\u001b[39;00m (\u001b[38;5;28mself\u001b[39m\u001b[38;5;241m.\u001b[39m_backward_hooks \u001b[38;5;129;01mor\u001b[39;00m \u001b[38;5;28mself\u001b[39m\u001b[38;5;241m.\u001b[39m_backward_pre_hooks \u001b[38;5;129;01mor\u001b[39;00m \u001b[38;5;28mself\u001b[39m\u001b[38;5;241m.\u001b[39m_forward_hooks \u001b[38;5;129;01mor\u001b[39;00m \u001b[38;5;28mself\u001b[39m\u001b[38;5;241m.\u001b[39m_forward_pre_hooks\n\u001b[0;32m   1525\u001b[0m         \u001b[38;5;129;01mor\u001b[39;00m _global_backward_pre_hooks \u001b[38;5;129;01mor\u001b[39;00m _global_backward_hooks\n\u001b[0;32m   1526\u001b[0m         \u001b[38;5;129;01mor\u001b[39;00m _global_forward_hooks \u001b[38;5;129;01mor\u001b[39;00m _global_forward_pre_hooks):\n\u001b[1;32m-> 1527\u001b[0m     \u001b[38;5;28;01mreturn\u001b[39;00m \u001b[43mforward_call\u001b[49m\u001b[43m(\u001b[49m\u001b[38;5;241;43m*\u001b[39;49m\u001b[43margs\u001b[49m\u001b[43m,\u001b[49m\u001b[43m \u001b[49m\u001b[38;5;241;43m*\u001b[39;49m\u001b[38;5;241;43m*\u001b[39;49m\u001b[43mkwargs\u001b[49m\u001b[43m)\u001b[49m\n\u001b[0;32m   1529\u001b[0m \u001b[38;5;28;01mtry\u001b[39;00m:\n\u001b[0;32m   1530\u001b[0m     result \u001b[38;5;241m=\u001b[39m \u001b[38;5;28;01mNone\u001b[39;00m\n",
      "File \u001b[1;32m~\\anaconda3\\envs\\venv_clear_text\\lib\\site-packages\\torch\\nn\\modules\\container.py:215\u001b[0m, in \u001b[0;36mSequential.forward\u001b[1;34m(self, input)\u001b[0m\n\u001b[0;32m    213\u001b[0m \u001b[38;5;28;01mdef\u001b[39;00m \u001b[38;5;21mforward\u001b[39m(\u001b[38;5;28mself\u001b[39m, \u001b[38;5;28minput\u001b[39m):\n\u001b[0;32m    214\u001b[0m     \u001b[38;5;28;01mfor\u001b[39;00m module \u001b[38;5;129;01min\u001b[39;00m \u001b[38;5;28mself\u001b[39m:\n\u001b[1;32m--> 215\u001b[0m         \u001b[38;5;28minput\u001b[39m \u001b[38;5;241m=\u001b[39m \u001b[43mmodule\u001b[49m\u001b[43m(\u001b[49m\u001b[38;5;28;43minput\u001b[39;49m\u001b[43m)\u001b[49m\n\u001b[0;32m    216\u001b[0m     \u001b[38;5;28;01mreturn\u001b[39;00m \u001b[38;5;28minput\u001b[39m\n",
      "File \u001b[1;32m~\\anaconda3\\envs\\venv_clear_text\\lib\\site-packages\\torch\\nn\\modules\\module.py:1518\u001b[0m, in \u001b[0;36mModule._wrapped_call_impl\u001b[1;34m(self, *args, **kwargs)\u001b[0m\n\u001b[0;32m   1516\u001b[0m     \u001b[38;5;28;01mreturn\u001b[39;00m \u001b[38;5;28mself\u001b[39m\u001b[38;5;241m.\u001b[39m_compiled_call_impl(\u001b[38;5;241m*\u001b[39margs, \u001b[38;5;241m*\u001b[39m\u001b[38;5;241m*\u001b[39mkwargs)  \u001b[38;5;66;03m# type: ignore[misc]\u001b[39;00m\n\u001b[0;32m   1517\u001b[0m \u001b[38;5;28;01melse\u001b[39;00m:\n\u001b[1;32m-> 1518\u001b[0m     \u001b[38;5;28;01mreturn\u001b[39;00m \u001b[38;5;28;43mself\u001b[39;49m\u001b[38;5;241;43m.\u001b[39;49m\u001b[43m_call_impl\u001b[49m\u001b[43m(\u001b[49m\u001b[38;5;241;43m*\u001b[39;49m\u001b[43margs\u001b[49m\u001b[43m,\u001b[49m\u001b[43m \u001b[49m\u001b[38;5;241;43m*\u001b[39;49m\u001b[38;5;241;43m*\u001b[39;49m\u001b[43mkwargs\u001b[49m\u001b[43m)\u001b[49m\n",
      "File \u001b[1;32m~\\anaconda3\\envs\\venv_clear_text\\lib\\site-packages\\torch\\nn\\modules\\module.py:1527\u001b[0m, in \u001b[0;36mModule._call_impl\u001b[1;34m(self, *args, **kwargs)\u001b[0m\n\u001b[0;32m   1522\u001b[0m \u001b[38;5;66;03m# If we don't have any hooks, we want to skip the rest of the logic in\u001b[39;00m\n\u001b[0;32m   1523\u001b[0m \u001b[38;5;66;03m# this function, and just call forward.\u001b[39;00m\n\u001b[0;32m   1524\u001b[0m \u001b[38;5;28;01mif\u001b[39;00m \u001b[38;5;129;01mnot\u001b[39;00m (\u001b[38;5;28mself\u001b[39m\u001b[38;5;241m.\u001b[39m_backward_hooks \u001b[38;5;129;01mor\u001b[39;00m \u001b[38;5;28mself\u001b[39m\u001b[38;5;241m.\u001b[39m_backward_pre_hooks \u001b[38;5;129;01mor\u001b[39;00m \u001b[38;5;28mself\u001b[39m\u001b[38;5;241m.\u001b[39m_forward_hooks \u001b[38;5;129;01mor\u001b[39;00m \u001b[38;5;28mself\u001b[39m\u001b[38;5;241m.\u001b[39m_forward_pre_hooks\n\u001b[0;32m   1525\u001b[0m         \u001b[38;5;129;01mor\u001b[39;00m _global_backward_pre_hooks \u001b[38;5;129;01mor\u001b[39;00m _global_backward_hooks\n\u001b[0;32m   1526\u001b[0m         \u001b[38;5;129;01mor\u001b[39;00m _global_forward_hooks \u001b[38;5;129;01mor\u001b[39;00m _global_forward_pre_hooks):\n\u001b[1;32m-> 1527\u001b[0m     \u001b[38;5;28;01mreturn\u001b[39;00m \u001b[43mforward_call\u001b[49m\u001b[43m(\u001b[49m\u001b[38;5;241;43m*\u001b[39;49m\u001b[43margs\u001b[49m\u001b[43m,\u001b[49m\u001b[43m \u001b[49m\u001b[38;5;241;43m*\u001b[39;49m\u001b[38;5;241;43m*\u001b[39;49m\u001b[43mkwargs\u001b[49m\u001b[43m)\u001b[49m\n\u001b[0;32m   1529\u001b[0m \u001b[38;5;28;01mtry\u001b[39;00m:\n\u001b[0;32m   1530\u001b[0m     result \u001b[38;5;241m=\u001b[39m \u001b[38;5;28;01mNone\u001b[39;00m\n",
      "Cell \u001b[1;32mIn[7], line 11\u001b[0m, in \u001b[0;36mAttentionLayer.forward\u001b[1;34m(self, x)\u001b[0m\n\u001b[0;32m     10\u001b[0m \u001b[38;5;28;01mdef\u001b[39;00m \u001b[38;5;21mforward\u001b[39m(\u001b[38;5;28mself\u001b[39m,x):\n\u001b[1;32m---> 11\u001b[0m     x \u001b[38;5;241m=\u001b[39m \u001b[43mx\u001b[49m\u001b[43m \u001b[49m\u001b[38;5;241;43m+\u001b[39;49m\u001b[43m \u001b[49m\u001b[38;5;28;43mself\u001b[39;49m\u001b[38;5;241;43m.\u001b[39;49m\u001b[43mmha\u001b[49m\u001b[43m(\u001b[49m\u001b[38;5;28;43mself\u001b[39;49m\u001b[38;5;241;43m.\u001b[39;49m\u001b[43manorm\u001b[49m\u001b[43m(\u001b[49m\u001b[43mx\u001b[49m\u001b[43m)\u001b[49m\u001b[43m)\u001b[49m\n\u001b[0;32m     12\u001b[0m     x \u001b[38;5;241m=\u001b[39m x \u001b[38;5;241m+\u001b[39m \u001b[38;5;28mself\u001b[39m\u001b[38;5;241m.\u001b[39mffn(\u001b[38;5;28mself\u001b[39m\u001b[38;5;241m.\u001b[39mfnorm(x))\n\u001b[0;32m     13\u001b[0m     \u001b[38;5;28;01mreturn\u001b[39;00m x\n",
      "\u001b[1;31mOutOfMemoryError\u001b[0m: CUDA out of memory. Tried to allocate 36.00 MiB. GPU 0 has a total capacty of 6.00 GiB of which 0 bytes is free. Of the allocated memory 5.16 GiB is allocated by PyTorch, and 131.97 MiB is reserved by PyTorch but unallocated. If reserved but unallocated memory is large try setting max_split_size_mb to avoid fragmentation.  See documentation for Memory Management and PYTORCH_CUDA_ALLOC_CONF"
     ]
    }
   ],
   "source": [
    "x = torch.ones(size=(16, config.seq_len), dtype=torch.int32).to(\"cuda\")\n",
    "model = Model(config).to(\"cuda\")\n",
    "out = model(x)\n",
    "print(x.shape, out.shape)"
   ]
  },
  {
   "cell_type": "code",
   "execution_count": 10,
   "id": "ce82b0ec",
   "metadata": {},
   "outputs": [
    {
     "name": "stdout",
     "output_type": "stream",
     "text": [
      "\n",
      "#######Total parameter of the model: 44.17053\n"
     ]
    }
   ],
   "source": [
    "total_params = sum(p.numel() for p in model.parameters() if p.requires_grad)\n",
    "print(f\"\\n#######Total parameter of the model: {total_params * 1e-6}\")"
   ]
  },
  {
   "cell_type": "code",
   "execution_count": null,
   "id": "0bf50bab",
   "metadata": {},
   "outputs": [],
   "source": []
  },
  {
   "cell_type": "code",
   "execution_count": 199,
   "id": "218cf000",
   "metadata": {},
   "outputs": [],
   "source": [
    "xq = torch.rand(size=(16, config.seq_len, config.n_heads, config.head_size))\n",
    "xq_r, xq_i = xq.float().reshape(xq.shape[:-1] + (-1, 2)).unbind(-1)"
   ]
  },
  {
   "cell_type": "code",
   "execution_count": 201,
   "id": "71748ac5",
   "metadata": {},
   "outputs": [
    {
     "data": {
      "text/plain": [
       "torch.Size([16, 1024, 8, -1, 2])"
      ]
     },
     "execution_count": 201,
     "metadata": {},
     "output_type": "execute_result"
    }
   ],
   "source": [
    "xq.shape[:-1] + (-1, 2)"
   ]
  },
  {
   "cell_type": "code",
   "execution_count": 202,
   "id": "4473b4b8",
   "metadata": {},
   "outputs": [
    {
     "data": {
      "text/plain": [
       "torch.Size([16, 1024, 8, 32, 2])"
      ]
     },
     "execution_count": 202,
     "metadata": {},
     "output_type": "execute_result"
    }
   ],
   "source": [
    "xq.float().reshape(xq.shape[:-1] + (-1, 2)).shape"
   ]
  },
  {
   "cell_type": "code",
   "execution_count": null,
   "id": "4bfa3936",
   "metadata": {},
   "outputs": [],
   "source": []
  },
  {
   "cell_type": "code",
   "execution_count": 167,
   "id": "b99a10b6",
   "metadata": {},
   "outputs": [],
   "source": [
    "rope = RoPE(config)"
   ]
  },
  {
   "cell_type": "code",
   "execution_count": 168,
   "id": "01843ec9",
   "metadata": {},
   "outputs": [],
   "source": [
    "x = torch.ones(size=(16, config.seq_len, config.dim)) * 1.0"
   ]
  },
  {
   "cell_type": "code",
   "execution_count": 169,
   "id": "2d2c02c1",
   "metadata": {},
   "outputs": [
    {
     "data": {
      "text/plain": [
       "(torch.Size([16, 1024, 512]), torch.Size([16, 1024, 8, 64]))"
      ]
     },
     "execution_count": 169,
     "metadata": {},
     "output_type": "execute_result"
    }
   ],
   "source": [
    "x.shape, x.view(16, config.seq_len, config.n_heads, config.head_size).shape"
   ]
  },
  {
   "cell_type": "code",
   "execution_count": 170,
   "id": "9b500585",
   "metadata": {},
   "outputs": [],
   "source": [
    "x = x.view(16, config.seq_len, config.n_heads, config.head_size)"
   ]
  },
  {
   "cell_type": "code",
   "execution_count": 171,
   "id": "a7c3265f",
   "metadata": {},
   "outputs": [],
   "source": [
    "x = x.permute(0, 2, 1, 3)"
   ]
  },
  {
   "cell_type": "code",
   "execution_count": 172,
   "id": "943f08ac",
   "metadata": {},
   "outputs": [
    {
     "data": {
      "text/plain": [
       "torch.Size([16, 8, 1024, 64])"
      ]
     },
     "execution_count": 172,
     "metadata": {},
     "output_type": "execute_result"
    }
   ],
   "source": [
    "x.shape"
   ]
  },
  {
   "cell_type": "code",
   "execution_count": null,
   "id": "f62c44aa",
   "metadata": {},
   "outputs": [],
   "source": []
  },
  {
   "cell_type": "code",
   "execution_count": null,
   "id": "dfec69fd",
   "metadata": {},
   "outputs": [],
   "source": []
  },
  {
   "cell_type": "code",
   "execution_count": 173,
   "id": "337db8d1",
   "metadata": {},
   "outputs": [],
   "source": [
    "x_rope = rope(x)"
   ]
  },
  {
   "cell_type": "code",
   "execution_count": 174,
   "id": "27f44d35",
   "metadata": {},
   "outputs": [
    {
     "data": {
      "text/plain": [
       "(torch.Size([16, 8, 1024, 64]), torch.Size([16, 8, 1024, 64]))"
      ]
     },
     "execution_count": 174,
     "metadata": {},
     "output_type": "execute_result"
    }
   ],
   "source": [
    "x.shape, x_rope.shape"
   ]
  },
  {
   "cell_type": "code",
   "execution_count": 73,
   "id": "7b1d9131",
   "metadata": {},
   "outputs": [
    {
     "data": {
      "text/plain": [
       "(tensor([1., 1.]), tensor([1., 1.]))"
      ]
     },
     "execution_count": 73,
     "metadata": {},
     "output_type": "execute_result"
    }
   ],
   "source": [
    "x[0,0,:], x_rope[0,0,:]"
   ]
  },
  {
   "cell_type": "code",
   "execution_count": 75,
   "id": "43e4df5b",
   "metadata": {},
   "outputs": [
    {
     "data": {
      "text/plain": [
       "torch.Size([1024, 2])"
      ]
     },
     "execution_count": 75,
     "metadata": {},
     "output_type": "execute_result"
    }
   ],
   "source": [
    "x_rope[0,:,:].shape"
   ]
  },
  {
   "cell_type": "code",
   "execution_count": 76,
   "id": "c519eb69",
   "metadata": {},
   "outputs": [],
   "source": [
    "import seaborn as sns\n",
    "import matplotlib.pyplot as plt"
   ]
  },
  {
   "cell_type": "code",
   "execution_count": 95,
   "id": "996ec059",
   "metadata": {},
   "outputs": [
    {
     "data": {
      "image/png": "[encoded data removed]",
      "text/plain": [
       "<Figure size 640x480 with 1 Axes>"
      ]
     },
     "metadata": {},
     "output_type": "display_data"
    }
   ],
   "source": [
    "sns.scatterplot(x=x_rope[0,:1,0], y=x_rope[0,:1,1])\n",
    "plt.xlim((-2,2))\n",
    "plt.ylim((-2,2))\n",
    "plt.show()"
   ]
  },
  {
   "cell_type": "code",
   "execution_count": 97,
   "id": "2e9fa0a7",
   "metadata": {},
   "outputs": [
    {
     "data": {
      "text/plain": [
       "torch.Size([1024, 2])"
      ]
     },
     "execution_count": 97,
     "metadata": {},
     "output_type": "execute_result"
    }
   ],
   "source": [
    "x_rope[0,:,:].shape"
   ]
  },
  {
   "cell_type": "code",
   "execution_count": 139,
   "id": "bb46c192",
   "metadata": {},
   "outputs": [],
   "source": [
    "data = [[(0.0, 0.0, i),tuple(point +[i,])] for i,point in enumerate(x_rope[0,:,:].numpy().tolist())]"
   ]
  },
  {
   "cell_type": "code",
   "execution_count": 140,
   "id": "497d7ba1",
   "metadata": {},
   "outputs": [
    {
     "data": {
      "text/plain": [
       "[(0.0, 0.0, 0),\n",
       " (1.0, 1.0, 0),\n",
       " (0.0, 0.0, 1),\n",
       " (-0.30116862058639526, 1.3817732334136963, 1),\n",
       " (0.0, 0.0, 2)]"
      ]
     },
     "execution_count": 140,
     "metadata": {},
     "output_type": "execute_result"
    }
   ],
   "source": [
    "data = [row for sub in data for row in sub]\n",
    "data[:5]"
   ]
  },
  {
   "cell_type": "code",
   "execution_count": 141,
   "id": "b14ead7d",
   "metadata": {},
   "outputs": [
    {
     "data": {
      "text/html": [
       "<div>\n",
       "<style scoped>\n",
       "    .dataframe tbody tr th:only-of-type {\n",
       "        vertical-align: middle;\n",
       "    }\n",
       "\n",
       "    .dataframe tbody tr th {\n",
       "        vertical-align: top;\n",
       "    }\n",
       "\n",
       "    .dataframe thead th {\n",
       "        text-align: right;\n",
       "    }\n",
       "</style>\n",
       "<table border=\"1\" class=\"dataframe\">\n",
       "  <thead>\n",
       "    <tr style=\"text-align: right;\">\n",
       "      <th></th>\n",
       "      <th>x1</th>\n",
       "      <th>x2</th>\n",
       "      <th>t</th>\n",
       "    </tr>\n",
       "  </thead>\n",
       "  <tbody>\n",
       "    <tr>\n",
       "      <th>0</th>\n",
       "      <td>0.000000</td>\n",
       "      <td>0.000000</td>\n",
       "      <td>0</td>\n",
       "    </tr>\n",
       "    <tr>\n",
       "      <th>1</th>\n",
       "      <td>1.000000</td>\n",
       "      <td>1.000000</td>\n",
       "      <td>0</td>\n",
       "    </tr>\n",
       "    <tr>\n",
       "      <th>2</th>\n",
       "      <td>0.000000</td>\n",
       "      <td>0.000000</td>\n",
       "      <td>1</td>\n",
       "    </tr>\n",
       "    <tr>\n",
       "      <th>3</th>\n",
       "      <td>-0.301169</td>\n",
       "      <td>1.381773</td>\n",
       "      <td>1</td>\n",
       "    </tr>\n",
       "    <tr>\n",
       "      <th>4</th>\n",
       "      <td>0.000000</td>\n",
       "      <td>0.000000</td>\n",
       "      <td>2</td>\n",
       "    </tr>\n",
       "  </tbody>\n",
       "</table>\n",
       "</div>"
      ],
      "text/plain": [
       "         x1        x2  t\n",
       "0  0.000000  0.000000  0\n",
       "1  1.000000  1.000000  0\n",
       "2  0.000000  0.000000  1\n",
       "3 -0.301169  1.381773  1\n",
       "4  0.000000  0.000000  2"
      ]
     },
     "execution_count": 141,
     "metadata": {},
     "output_type": "execute_result"
    }
   ],
   "source": [
    "df = pd.DataFrame(data=data, columns=[\"x1\",\"x2\",\"t\"])\n",
    "df.head()"
   ]
  },
  {
   "cell_type": "code",
   "execution_count": 142,
   "id": "341163f8",
   "metadata": {},
   "outputs": [
    {
     "data": {
      "image/png": "[encoded data removed]",
      "text/plain": [
       "<Figure size 640x480 with 1 Axes>"
      ]
     },
     "metadata": {},
     "output_type": "display_data"
    }
   ],
   "source": [
    "sns.lineplot(x=\"x1\", y=\"x2\",hue=\"t\",data=df)\n",
    "plt.xlim((-2,2))\n",
    "plt.ylim((-2,2))\n",
    "plt.show()"
   ]
  },
  {
   "cell_type": "code",
   "execution_count": 108,
   "id": "9d1202b3",
   "metadata": {},
   "outputs": [
    {
     "data": {
      "text/plain": [
       "(0.31338733434677124, -1.3790533542633057)"
      ]
     },
     "execution_count": 108,
     "metadata": {},
     "output_type": "execute_result"
    }
   ],
   "source": [
    "tuple( [0.31338733434677124, -1.3790533542633057])"
   ]
  },
  {
   "cell_type": "code",
   "execution_count": 99,
   "id": "34ff6c36",
   "metadata": {},
   "outputs": [
    {
     "data": {
      "text/html": [
       "<div>\n",
       "<style scoped>\n",
       "    .dataframe tbody tr th:only-of-type {\n",
       "        vertical-align: middle;\n",
       "    }\n",
       "\n",
       "    .dataframe tbody tr th {\n",
       "        vertical-align: top;\n",
       "    }\n",
       "\n",
       "    .dataframe thead th {\n",
       "        text-align: right;\n",
       "    }\n",
       "</style>\n",
       "<table border=\"1\" class=\"dataframe\">\n",
       "  <thead>\n",
       "    <tr style=\"text-align: right;\">\n",
       "      <th></th>\n",
       "      <th>x1</th>\n",
       "      <th>x2</th>\n",
       "    </tr>\n",
       "  </thead>\n",
       "  <tbody>\n",
       "    <tr>\n",
       "      <th>0</th>\n",
       "      <td>1.000000</td>\n",
       "      <td>1.000000</td>\n",
       "    </tr>\n",
       "    <tr>\n",
       "      <th>1</th>\n",
       "      <td>-0.301169</td>\n",
       "      <td>1.381773</td>\n",
       "    </tr>\n",
       "    <tr>\n",
       "      <th>2</th>\n",
       "      <td>-1.325444</td>\n",
       "      <td>0.493151</td>\n",
       "    </tr>\n",
       "    <tr>\n",
       "      <th>3</th>\n",
       "      <td>-1.131112</td>\n",
       "      <td>-0.848872</td>\n",
       "    </tr>\n",
       "    <tr>\n",
       "      <th>4</th>\n",
       "      <td>0.103159</td>\n",
       "      <td>-1.410446</td>\n",
       "    </tr>\n",
       "    <tr>\n",
       "      <th>...</th>\n",
       "      <td>...</td>\n",
       "      <td>...</td>\n",
       "    </tr>\n",
       "    <tr>\n",
       "      <th>1019</th>\n",
       "      <td>-0.469731</td>\n",
       "      <td>1.333924</td>\n",
       "    </tr>\n",
       "    <tr>\n",
       "      <th>1020</th>\n",
       "      <td>-1.376255</td>\n",
       "      <td>0.325457</td>\n",
       "    </tr>\n",
       "    <tr>\n",
       "      <th>1021</th>\n",
       "      <td>-1.017456</td>\n",
       "      <td>-0.982233</td>\n",
       "    </tr>\n",
       "    <tr>\n",
       "      <th>1022</th>\n",
       "      <td>0.276787</td>\n",
       "      <td>-1.386863</td>\n",
       "    </tr>\n",
       "    <tr>\n",
       "      <th>1023</th>\n",
       "      <td>1.316554</td>\n",
       "      <td>-0.516417</td>\n",
       "    </tr>\n",
       "  </tbody>\n",
       "</table>\n",
       "<p>1024 rows × 2 columns</p>\n",
       "</div>"
      ],
      "text/plain": [
       "            x1        x2\n",
       "0     1.000000  1.000000\n",
       "1    -0.301169  1.381773\n",
       "2    -1.325444  0.493151\n",
       "3    -1.131112 -0.848872\n",
       "4     0.103159 -1.410446\n",
       "...        ...       ...\n",
       "1019 -0.469731  1.333924\n",
       "1020 -1.376255  0.325457\n",
       "1021 -1.017456 -0.982233\n",
       "1022  0.276787 -1.386863\n",
       "1023  1.316554 -0.516417\n",
       "\n",
       "[1024 rows x 2 columns]"
      ]
     },
     "execution_count": 99,
     "metadata": {},
     "output_type": "execute_result"
    }
   ],
   "source": [
    "import pandas as pd\n",
    "pd.DataFrame(x_rope[0,:,:], columns=['x1','x2'])"
   ]
  },
  {
   "cell_type": "code",
   "execution_count": 53,
   "id": "a2524461",
   "metadata": {},
   "outputs": [],
   "source": [
    "import torch\n",
    "from torch import nn"
   ]
  },
  {
   "cell_type": "code",
   "execution_count": 54,
   "id": "507aab7e",
   "metadata": {},
   "outputs": [],
   "source": [
    "l = nn.Linear(2,1)"
   ]
  },
  {
   "cell_type": "code",
   "execution_count": 63,
   "id": "a750f03b",
   "metadata": {},
   "outputs": [
    {
     "data": {
      "text/plain": [
       "torch.Size([5, 2])"
      ]
     },
     "execution_count": 63,
     "metadata": {},
     "output_type": "execute_result"
    }
   ],
   "source": [
    "x = torch.rand(5, 2)\n",
    "x.shape"
   ]
  },
  {
   "cell_type": "code",
   "execution_count": 64,
   "id": "62d4bc6c",
   "metadata": {},
   "outputs": [],
   "source": [
    "z = l(x)"
   ]
  },
  {
   "cell_type": "code",
   "execution_count": 65,
   "id": "d1be4c5c",
   "metadata": {},
   "outputs": [],
   "source": [
    "z.sum().backward()"
   ]
  },
  {
   "cell_type": "code",
   "execution_count": 43,
   "id": "f15d4032",
   "metadata": {},
   "outputs": [
    {
     "name": "stdout",
     "output_type": "stream",
     "text": [
      "('weight', Parameter containing:\n",
      "tensor([[ 0.6814, -0.5939]], requires_grad=True))\n",
      "('bias', Parameter containing:\n",
      "tensor([-0.5288], requires_grad=True))\n"
     ]
    }
   ],
   "source": [
    "for param  in l.named_parameters():\n",
    "    print(param)"
   ]
  },
  {
   "cell_type": "code",
   "execution_count": 66,
   "id": "27879489",
   "metadata": {},
   "outputs": [
    {
     "data": {
      "text/plain": [
       "tensor([[7.5985, 6.5285]])"
      ]
     },
     "execution_count": 66,
     "metadata": {},
     "output_type": "execute_result"
    }
   ],
   "source": [
    "l.weight.grad"
   ]
  },
  {
   "cell_type": "code",
   "execution_count": 88,
   "id": "7b6b0e6a",
   "metadata": {},
   "outputs": [],
   "source": [
    "class ToyModel(nn.Module):\n",
    "    def __init__(self):\n",
    "        super(ToyModel, self).__init__()\n",
    "        self.net1 = nn.Linear(10, 15)\n",
    "        self.relu = nn.ReLU()\n",
    "        self.net2 = nn.Linear(15, 5)\n",
    "\n",
    "    def forward(self, x):\n",
    "        return self.net2(self.relu(self.net1(x)))"
   ]
  },
  {
   "cell_type": "code",
   "execution_count": 89,
   "id": "cb1c12f0",
   "metadata": {},
   "outputs": [],
   "source": [
    "model = ToyModel()"
   ]
  },
  {
   "cell_type": "code",
   "execution_count": 85,
   "id": "0610b673",
   "metadata": {},
   "outputs": [
    {
     "data": {
      "text/plain": [
       "tensor([-0.0299,  0.1744], grad_fn=<SliceBackward0>)"
      ]
     },
     "execution_count": 85,
     "metadata": {},
     "output_type": "execute_result"
    }
   ],
   "source": [
    "model.net1.weight[0,:2]"
   ]
  },
  {
   "cell_type": "code",
   "execution_count": 91,
   "id": "81741375",
   "metadata": {},
   "outputs": [],
   "source": [
    "x = torch.rand(32, 10)\n",
    "y = model(x)\n",
    "y.sum().backward()"
   ]
  },
  {
   "cell_type": "code",
   "execution_count": 95,
   "id": "d62138e0",
   "metadata": {},
   "outputs": [
    {
     "data": {
      "text/plain": [
       "(torch.Size([15, 10]), torch.Size([15, 10]))"
      ]
     },
     "execution_count": 95,
     "metadata": {},
     "output_type": "execute_result"
    }
   ],
   "source": [
    "model.net1.weight.grad.shape, model.net1.weight.shape"
   ]
  },
  {
   "cell_type": "code",
   "execution_count": 96,
   "id": "6985cfe4",
   "metadata": {},
   "outputs": [
    {
     "data": {
      "text/plain": [
       "tensor([-1.9570, -2.0191])"
      ]
     },
     "execution_count": 96,
     "metadata": {},
     "output_type": "execute_result"
    }
   ],
   "source": [
    "model.net1.weight.grad[0,:2]"
   ]
  },
  {
   "cell_type": "code",
   "execution_count": 98,
   "id": "9fef0c26",
   "metadata": {},
   "outputs": [
    {
     "data": {
      "text/plain": [
       "0"
      ]
     },
     "execution_count": 98,
     "metadata": {},
     "output_type": "execute_result"
    }
   ],
   "source": [
    "2 % 2"
   ]
  },
  {
   "cell_type": "code",
   "execution_count": 80,
   "id": "ef698994",
   "metadata": {},
   "outputs": [],
   "source": [
    "## configuration settings\n",
    "class Config:\n",
    "    \n",
    "    vocab_size = 4096\n",
    "    dim = 552\n",
    "    n_heads = 12\n",
    "    head_size = dim // n_heads\n",
    "    n_layers = 12\n",
    "    n_kv_heads = 3\n",
    "    seq_len = 1024\n",
    "    multiple_of = 256                \n",
    "    batch_size = 16 \n",
    "    global_batch_size = 100000 # number of tokens per update\n",
    "    grad_accumulation_steps = int(global_batch_size/(seq_len * batch_size))\n",
    "    learning_rate=5e-4\n",
    "    total_params = 0\n",
    "    tokenizer_path = \"saved_artifacts/tokenizers\"\n",
    "    n_train_examples = -1\n",
    "    n_val_examples = -1\n",
    "\n",
    "config = Config()"
   ]
  },
  {
   "cell_type": "code",
   "execution_count": 82,
   "id": "0b367b70",
   "metadata": {},
   "outputs": [
    {
     "data": {
      "text/plain": [
       "4096"
      ]
     },
     "execution_count": 82,
     "metadata": {},
     "output_type": "execute_result"
    }
   ],
   "source": [
    "Config.vocab_size"
   ]
  },
  {
   "cell_type": "code",
   "execution_count": 10,
   "id": "90eaa1a3",
   "metadata": {},
   "outputs": [
    {
     "name": "stderr",
     "output_type": "stream",
     "text": [
      "C:\\Users\\chaitanyamanem\\anaconda3\\envs\\venv_clear_text\\lib\\site-packages\\huggingface_hub\\repocard.py:105: UserWarning: Repo card metadata block was not found. Setting CardData to empty.\n",
      "  warnings.warn(\"Repo card metadata block was not found. Setting CardData to empty.\")\n"
     ]
    },
    {
     "data": {
      "application/vnd.jupyter.widget-view+json": {
       "model_id": "a7cd176c73c9428685106d26ab76dd82",
       "version_major": 2,
       "version_minor": 0
      },
      "text/plain": [
       "Map (num_proc=4):   0%|          | 0/2119719 [00:00<?, ? examples/s]"
      ]
     },
     "metadata": {},
     "output_type": "display_data"
    },
    {
     "data": {
      "application/vnd.jupyter.widget-view+json": {
       "model_id": "2dcf109433214505b443bacc053f15c2",
       "version_major": 2,
       "version_minor": 0
      },
      "text/plain": [
       "Map (num_proc=4):   0%|          | 0/21990 [00:00<?, ? examples/s]"
      ]
     },
     "metadata": {},
     "output_type": "display_data"
    }
   ],
   "source": [
    "from tinystories_dataset import TinyStories\n",
    "dataste = TinyStories(config)"
   ]
  },
  {
   "cell_type": "code",
   "execution_count": 11,
   "id": "3067b56a",
   "metadata": {},
   "outputs": [],
   "source": [
    "train_dataloder = dataste.getTrainDataLoader(ddp=False)"
   ]
  },
  {
   "cell_type": "code",
   "execution_count": 7,
   "id": "fb48211e",
   "metadata": {},
   "outputs": [
    {
     "name": "stdout",
     "output_type": "stream",
     "text": [
      "torch.Size([16, 1024])\n"
     ]
    }
   ],
   "source": [
    "for batch in train_dataloder:\n",
    "    print(batch[\"inputs\"].shape)\n",
    "    break"
   ]
  },
  {
   "cell_type": "code",
   "execution_count": 16,
   "id": "2fd0bb49",
   "metadata": {},
   "outputs": [
    {
     "name": "stdout",
     "output_type": "stream",
     "text": [
      "Iters now: 30254\n",
      "Iters earlier: 121016\n"
     ]
    }
   ],
   "source": [
    "print(f\"Iters now: {len(train_dataloder)}\")\n",
    "print(f\"Iters earlier: { 4 * len(train_dataloder)}\")"
   ]
  },
  {
   "cell_type": "code",
   "execution_count": 22,
   "id": "c393c2cd",
   "metadata": {},
   "outputs": [
    {
     "data": {
      "text/plain": [
       "4"
      ]
     },
     "execution_count": 22,
     "metadata": {},
     "output_type": "execute_result"
    }
   ],
   "source": [
    "int(150_000/(1024 * 16 * 2))"
   ]
  },
  {
   "cell_type": "code",
   "execution_count": 18,
   "id": "4eb9265d",
   "metadata": {},
   "outputs": [
    {
     "data": {
      "text/plain": [
       "98304"
      ]
     },
     "execution_count": 18,
     "metadata": {},
     "output_type": "execute_result"
    }
   ],
   "source": [
    "3  * 1024 * 16 * 2"
   ]
  },
  {
   "cell_type": "code",
   "execution_count": 23,
   "id": "03b16f3f",
   "metadata": {},
   "outputs": [
    {
     "data": {
      "text/plain": [
       "131072"
      ]
     },
     "execution_count": 23,
     "metadata": {},
     "output_type": "execute_result"
    }
   ],
   "source": [
    "1024 * 16 * 2 * 4"
   ]
  },
  {
   "cell_type": "code",
   "execution_count": 25,
   "id": "d33e9948",
   "metadata": {},
   "outputs": [
    {
     "name": "stdout",
     "output_type": "stream",
     "text": [
      "--- 10.010102272033691 seconds ---\n"
     ]
    }
   ],
   "source": [
    "##\n",
    "import logging\n",
    "import time\n",
    "\n",
    "start_time = time.time()\n",
    "duration_secs = time.sleep(10)\n",
    "\n",
    "print(\"--- %s seconds ---\" % (time.time() - start_time))"
   ]
  },
  {
   "cell_type": "code",
   "execution_count": 50,
   "id": "ac5e47c1",
   "metadata": {},
   "outputs": [
    {
     "data": {
      "text/plain": [
       "(1, 61, 3690)"
      ]
     },
     "execution_count": 50,
     "metadata": {},
     "output_type": "execute_result"
    }
   ],
   "source": [
    "duration_secs = 3690\n",
    "duration_secs // (60*60), duration_secs // 60, duration_secs"
   ]
  },
  {
   "cell_type": "code",
   "execution_count": 51,
   "id": "dfa00a1e",
   "metadata": {},
   "outputs": [
    {
     "data": {
      "text/plain": [
       "7200"
      ]
     },
     "execution_count": 51,
     "metadata": {},
     "output_type": "execute_result"
    }
   ],
   "source": [
    "120 * 60"
   ]
  },
  {
   "cell_type": "code",
   "execution_count": 52,
   "id": "a68538ca",
   "metadata": {},
   "outputs": [
    {
     "data": {
      "text/plain": [
       "(1, 1, 30)"
      ]
     },
     "execution_count": 52,
     "metadata": {},
     "output_type": "execute_result"
    }
   ],
   "source": [
    "duration_secs // (60*60), (duration_secs % (60*60)) // 60, (duration_secs % (60*60)) % 60"
   ]
  },
  {
   "cell_type": "code",
   "execution_count": 47,
   "id": "014e75f9",
   "metadata": {},
   "outputs": [
    {
     "data": {
      "text/plain": [
       "3691"
      ]
     },
     "execution_count": 47,
     "metadata": {},
     "output_type": "execute_result"
    }
   ],
   "source": [
    "61 * 60 + 31"
   ]
  },
  {
   "cell_type": "code",
   "execution_count": 66,
   "id": "44cefae4",
   "metadata": {},
   "outputs": [],
   "source": [
    "import logging\n",
    "from datetime import datetime\n",
    "import os\n",
    "file_name = os.path.join(\"saved_artifacts\",\"logs\",datetime.now().strftime('log_%Y_%m_%d_%H_%M_%S.log'))\n",
    "logging.basicConfig(level=logging.DEBUG, filename=file_name, filemode='w', format='%(name)s - %(levelname)s - %(message)s')\n",
    "logging.info('Execution started at ')"
   ]
  },
  {
   "cell_type": "code",
   "execution_count": 64,
   "id": "ec861bb9",
   "metadata": {},
   "outputs": [
    {
     "ename": "AttributeError",
     "evalue": "'float' object has no attribute 'strftime'",
     "output_type": "error",
     "traceback": [
      "\u001b[1;31m---------------------------------------------------------------------------\u001b[0m",
      "\u001b[1;31mAttributeError\u001b[0m                            Traceback (most recent call last)",
      "Cell \u001b[1;32mIn[64], line 1\u001b[0m\n\u001b[1;32m----> 1\u001b[0m \u001b[43mtime\u001b[49m\u001b[38;5;241;43m.\u001b[39;49m\u001b[43mtime\u001b[49m\u001b[43m(\u001b[49m\u001b[43m)\u001b[49m\u001b[38;5;241;43m.\u001b[39;49m\u001b[43mstrftime\u001b[49m(\u001b[38;5;124m'\u001b[39m\u001b[38;5;124mlog_\u001b[39m\u001b[38;5;124m%\u001b[39m\u001b[38;5;124mY_\u001b[39m\u001b[38;5;124m%\u001b[39m\u001b[38;5;124mm_\u001b[39m\u001b[38;5;132;01m%d\u001b[39;00m\u001b[38;5;124m_\u001b[39m\u001b[38;5;124m%\u001b[39m\u001b[38;5;124mH_\u001b[39m\u001b[38;5;124m%\u001b[39m\u001b[38;5;124mM_\u001b[39m\u001b[38;5;124m%\u001b[39m\u001b[38;5;124mS.log\u001b[39m\u001b[38;5;124m'\u001b[39m)\n",
      "\u001b[1;31mAttributeError\u001b[0m: 'float' object has no attribute 'strftime'"
     ]
    }
   ],
   "source": [
    "time.time()"
   ]
  },
  {
   "cell_type": "code",
   "execution_count": 63,
   "id": "c45e74d6",
   "metadata": {},
   "outputs": [
    {
     "data": {
      "text/plain": [
       "'log_2024_02_10_10_44_39.log'"
      ]
     },
     "execution_count": 63,
     "metadata": {},
     "output_type": "execute_result"
    }
   ],
   "source": [
    "datetime.now().strftime('log_%Y_%m_%d_%H_%M_%S.log')\n",
    "\n"
   ]
  },
  {
   "cell_type": "code",
   "execution_count": 69,
   "id": "35d82731",
   "metadata": {},
   "outputs": [
    {
     "name": "stdout",
     "output_type": "stream",
     "text": [
      "0:00:05.010611\n"
     ]
    }
   ],
   "source": [
    "start_time = datetime.now()\n",
    "time.sleep(5)\n",
    "print(datetime.now()-start_time)\n"
   ]
  },
  {
   "cell_type": "code",
   "execution_count": null,
   "id": "70f621a1",
   "metadata": {},
   "outputs": [],
   "source": [
    "100 - 1.13"
   ]
  },
  {
   "cell_type": "code",
   "execution_count": 83,
   "id": "2af9b718",
   "metadata": {},
   "outputs": [
    {
     "data": {
      "text/plain": [
       "15127.0"
      ]
     },
     "execution_count": 83,
     "metadata": {},
     "output_type": "execute_result"
    }
   ],
   "source": [
    "30254 / 2"
   ]
  },
  {
   "cell_type": "code",
   "execution_count": 84,
   "id": "f1a1c7fc",
   "metadata": {},
   "outputs": [
    {
     "data": {
      "text/plain": [
       "67.8"
      ]
     },
     "execution_count": 84,
     "metadata": {},
     "output_type": "execute_result"
    }
   ],
   "source": [
    "60 * 1.13"
   ]
  },
  {
   "cell_type": "code",
   "execution_count": null,
   "id": "04dd5aa5",
   "metadata": {},
   "outputs": [],
   "source": [
    "1 step \n",
    "68/100"
   ]
  },
  {
   "cell_type": "code",
   "execution_count": 85,
   "id": "99661607",
   "metadata": {},
   "outputs": [
    {
     "data": {
      "text/plain": [
       "10286.36"
      ]
     },
     "execution_count": 85,
     "metadata": {},
     "output_type": "execute_result"
    }
   ],
   "source": [
    "15127 * 0.68"
   ]
  },
  {
   "cell_type": "code",
   "execution_count": 87,
   "id": "1df089de",
   "metadata": {},
   "outputs": [
    {
     "data": {
      "text/plain": [
       "171.43933333333334"
      ]
     },
     "execution_count": 87,
     "metadata": {},
     "output_type": "execute_result"
    }
   ],
   "source": [
    "10286.36 / 60"
   ]
  },
  {
   "cell_type": "code",
   "execution_count": 88,
   "id": "8df0fd1d",
   "metadata": {},
   "outputs": [
    {
     "data": {
      "text/plain": [
       "3276800000"
      ]
     },
     "execution_count": 88,
     "metadata": {},
     "output_type": "execute_result"
    }
   ],
   "source": [
    "1024 * 16 * 2"
   ]
  },
  {
   "cell_type": "code",
   "execution_count": 89,
   "id": "f60fb824",
   "metadata": {},
   "outputs": [
    {
     "data": {
      "text/plain": [
       "60508"
      ]
     },
     "execution_count": 89,
     "metadata": {},
     "output_type": "execute_result"
    }
   ],
   "source": [
    "15127 * 4"
   ]
  },
  {
   "cell_type": "code",
   "execution_count": 90,
   "id": "91f45913",
   "metadata": {},
   "outputs": [
    {
     "data": {
      "text/plain": [
       "1638400000"
      ]
     },
     "execution_count": 90,
     "metadata": {},
     "output_type": "execute_result"
    }
   ],
   "source": [
    "400_000 * 4 * 1024 = ? * 16 * 1024 * 2"
   ]
  },
  {
   "cell_type": "code",
   "execution_count": 91,
   "id": "56f43f83",
   "metadata": {},
   "outputs": [
    {
     "data": {
      "text/plain": [
       "50000.0"
      ]
     },
     "execution_count": 91,
     "metadata": {},
     "output_type": "execute_result"
    }
   ],
   "source": [
    "1638400000 / (16 * 1024 * 2)"
   ]
  },
  {
   "cell_type": "code",
   "execution_count": 92,
   "id": "7ade7ea6",
   "metadata": {},
   "outputs": [
    {
     "data": {
      "text/plain": [
       "1.128"
      ]
     },
     "execution_count": 92,
     "metadata": {},
     "output_type": "execute_result"
    }
   ],
   "source": [
    "1.208 - 0.08"
   ]
  },
  {
   "cell_type": "code",
   "execution_count": 159,
   "id": "76b8e817",
   "metadata": {},
   "outputs": [
    {
     "name": "stdout",
     "output_type": "stream",
     "text": [
      "dot product:26.0\n",
      "dot product:53.0\n",
      "dot product:36.0\n"
     ]
    }
   ],
   "source": [
    "import torch\n",
    "import numpy as np\n",
    "\n",
    "vectors = np.array([\n",
    "    [1,0,0],\n",
    "    [1,3.0,4.0],\n",
    "    \n",
    "    [2,0,0],\n",
    "    [2,4.0,3.0],\n",
    "    \n",
    "    [3,0,0],\n",
    "    [3,10.0,5.0],\n",
    "    \n",
    "    [4,0,0],\n",
    "    [4,10.0,0.5],     \n",
    "    \n",
    "\n",
    "    \n",
    "])\n",
    "\n",
    "#similarity\n",
    "vector1 = vectors[1,:]\n",
    "for i in range(3,vectors.shape[0]):\n",
    "    if (i+1)%2 == 0:\n",
    "        vector2 = vectors[i,:]\n",
    "        print(f\"dot product:{(torch.tensor(vector1).unsqueeze(0) @ torch.tensor(vector2).unsqueeze(0).transpose(-2,-1)).item()}\")\n",
    "        \n"
   ]
  },
  {
   "cell_type": "code",
   "execution_count": 157,
   "id": "eb9e2b89",
   "metadata": {},
   "outputs": [
    {
     "data": {
      "image/png": "[encoded data removed]",
      "text/plain": [
       "<Figure size 640x480 with 1 Axes>"
      ]
     },
     "metadata": {},
     "output_type": "display_data"
    }
   ],
   "source": [
    "# importing package \n",
    "import matplotlib.pyplot as plt \n",
    "import seaborn as sns\n",
    "\n",
    "# plot lines \n",
    "sns.lineplot(x=vectors[:,1], y=vectors[:,2], hue=vectors[:,0]) \n",
    "plt.legend() \n",
    "plt.show()"
   ]
  },
  {
   "cell_type": "code",
   "execution_count": 142,
   "id": "bbe8327a",
   "metadata": {},
   "outputs": [
    {
     "data": {
      "text/plain": [
       "tensor([[16.]])"
      ]
     },
     "execution_count": 142,
     "metadata": {},
     "output_type": "execute_result"
    }
   ],
   "source": []
  },
  {
   "cell_type": "code",
   "execution_count": 116,
   "id": "c48198d3",
   "metadata": {},
   "outputs": [
    {
     "data": {
      "text/plain": [
       "(tensor([[0.0667, 0.6802]]), tensor([[0.5924, 0.9558]]))"
      ]
     },
     "execution_count": 116,
     "metadata": {},
     "output_type": "execute_result"
    }
   ],
   "source": [
    "vector1, vector2"
   ]
  },
  {
   "cell_type": "code",
   "execution_count": 113,
   "id": "c7719468",
   "metadata": {},
   "outputs": [
    {
     "data": {
      "text/plain": [
       "tensor([[1.2315]])"
      ]
     },
     "execution_count": 113,
     "metadata": {},
     "output_type": "execute_result"
    }
   ],
   "source": [
    "vector1 @ torch.transpose(vector1,0,1)"
   ]
  },
  {
   "cell_type": "code",
   "execution_count": 101,
   "id": "b2cc1774",
   "metadata": {},
   "outputs": [
    {
     "data": {
      "text/plain": [
       "(tensor([[0.3271, 0.8240]]), tensor([[0.6256, 0.8163]]))"
      ]
     },
     "execution_count": 101,
     "metadata": {},
     "output_type": "execute_result"
    }
   ],
   "source": []
  },
  {
   "cell_type": "code",
   "execution_count": 128,
   "id": "afa03737",
   "metadata": {},
   "outputs": [
    {
     "data": {
      "text/plain": [
       "tensor([1.0000])"
      ]
     },
     "execution_count": 128,
     "metadata": {},
     "output_type": "execute_result"
    }
   ],
   "source": [
    "torch.cosine_similarity(vector1,vector1)"
   ]
  },
  {
   "cell_type": "code",
   "execution_count": 131,
   "id": "9a76ba9e",
   "metadata": {},
   "outputs": [
    {
     "data": {
      "text/plain": [
       "tensor([[32.]])"
      ]
     },
     "execution_count": 131,
     "metadata": {},
     "output_type": "execute_result"
    }
   ],
   "source": [
    "import numpy as np\n",
    "vector1 @ torch.transpose(vector1,0,1)"
   ]
  },
  {
   "cell_type": "code",
   "execution_count": 121,
   "id": "875290a7",
   "metadata": {},
   "outputs": [
    {
     "data": {
      "text/plain": [
       "2"
      ]
     },
     "execution_count": 121,
     "metadata": {},
     "output_type": "execute_result"
    }
   ],
   "source": []
  },
  {
   "cell_type": "code",
   "execution_count": 29,
   "id": "57e7be71",
   "metadata": {},
   "outputs": [],
   "source": [
    "import math\n",
    "\n",
    "warmup_iters = 2000\n",
    "max_iters = 100_000\n",
    "lr_decay_iters = max_iters\n",
    "learning_rate = 7e-4\n",
    "min_lr = learning_rate / 10\n",
    "\n",
    "\n",
    "def get_lr(it):\n",
    "    # 1) linear warmup for warmup_iters steps\n",
    "    if it < warmup_iters:\n",
    "        return learning_rate * it / warmup_iters\n",
    "    # 2) if it > lr_decay_iters, return min learning rate\n",
    "    if it > lr_decay_iters:\n",
    "        return min_lr\n",
    "    # 3) in between, use cosine decay down to min learning rate\n",
    "    decay_ratio = (it - warmup_iters) / (lr_decay_iters - warmup_iters)\n",
    "    assert 0 <= decay_ratio <= 1\n",
    "    coeff = 0.5 * (1.0 + math.cos(math.pi * decay_ratio))  # coeff ranges 0..1\n",
    "    return min_lr + coeff * (learning_rate - min_lr)"
   ]
  },
  {
   "cell_type": "code",
   "execution_count": 30,
   "id": "1292c270",
   "metadata": {},
   "outputs": [],
   "source": [
    "lrs = [get_lr(it) for it in range(max_iters)]"
   ]
  },
  {
   "cell_type": "code",
   "execution_count": 31,
   "id": "b47284ca",
   "metadata": {},
   "outputs": [
    {
     "data": {
      "image/png": "[encoded data removed]",
      "text/plain": [
       "<Figure size 640x480 with 1 Axes>"
      ]
     },
     "metadata": {},
     "output_type": "display_data"
    }
   ],
   "source": [
    "import matplotlib.pyplot as plt\n",
    "import seaborn as sns\n",
    "\n",
    "sns.lineplot(x=list(range(len(lrs))), y=lrs)\n",
    "plt.show()"
   ]
  },
  {
   "cell_type": "code",
   "execution_count": 28,
   "id": "508c0355",
   "metadata": {},
   "outputs": [
    {
     "data": {
      "text/plain": [
       "[3.5e-07, 7e-07, 1.05e-06, 1.4e-06]"
      ]
     },
     "execution_count": 28,
     "metadata": {},
     "output_type": "execute_result"
    }
   ],
   "source": [
    "lrs[:4]"
   ]
  },
  {
   "cell_type": "code",
   "execution_count": 18,
   "id": "53695411",
   "metadata": {},
   "outputs": [
    {
     "data": {
      "text/plain": [
       "5e-05"
      ]
     },
     "execution_count": 18,
     "metadata": {},
     "output_type": "execute_result"
    }
   ],
   "source": [
    "5e-4 / 10"
   ]
  },
  {
   "cell_type": "code",
   "execution_count": 33,
   "id": "4771cfa2",
   "metadata": {},
   "outputs": [
    {
     "data": {
      "text/plain": [
       "23"
      ]
     },
     "execution_count": 33,
     "metadata": {},
     "output_type": "execute_result"
    }
   ],
   "source": [
    "import numpy as np\n",
    "np.array([4,3]) @ np.array([5,1])"
   ]
  },
  {
   "cell_type": "code",
   "execution_count": 41,
   "id": "82448d12",
   "metadata": {},
   "outputs": [
    {
     "data": {
      "text/plain": [
       "5.75"
      ]
     },
     "execution_count": 41,
     "metadata": {},
     "output_type": "execute_result"
    }
   ],
   "source": [
    "23/4"
   ]
  },
  {
   "cell_type": "code",
   "execution_count": 34,
   "id": "87ae215b",
   "metadata": {},
   "outputs": [],
   "source": [
    "import numpy as np\n",
    "\n",
    "def unit_vector(vector):\n",
    "    \"\"\" Returns the unit vector of the vector.  \"\"\"\n",
    "    return vector / np.linalg.norm(vector)\n",
    "\n",
    "def angle_between(v1, v2):\n",
    "    \"\"\" Returns the angle in radians between vectors 'v1' and 'v2'::\n",
    "\n",
    "            >>> angle_between((1, 0, 0), (0, 1, 0))\n",
    "            1.5707963267948966\n",
    "            >>> angle_between((1, 0, 0), (1, 0, 0))\n",
    "            0.0\n",
    "            >>> angle_between((1, 0, 0), (-1, 0, 0))\n",
    "            3.141592653589793\n",
    "    \"\"\"\n",
    "    v1_u = unit_vector(v1)\n",
    "    v2_u = unit_vector(v2)\n",
    "    return np.arccos(np.clip(np.dot(v1_u, v2_u), -1.0, 1.0))"
   ]
  },
  {
   "cell_type": "code",
   "execution_count": 35,
   "id": "c22792da",
   "metadata": {},
   "outputs": [
    {
     "data": {
      "text/plain": [
       "0.4461055489434035"
      ]
     },
     "execution_count": 35,
     "metadata": {},
     "output_type": "execute_result"
    }
   ],
   "source": [
    "angle_between(np.array([4,3]), np.array([5,1]))"
   ]
  },
  {
   "cell_type": "code",
   "execution_count": 62,
   "id": "cfd4ca95",
   "metadata": {},
   "outputs": [
    {
     "data": {
      "text/plain": [
       "(5.0990195135927845, 5.1478150704935)"
      ]
     },
     "execution_count": 62,
     "metadata": {},
     "output_type": "execute_result"
    }
   ],
   "source": [
    "import math\n",
    "math.sqrt((5 ** 2 + 1 ** 2)), math.sqrt((4.5 ** 2 + 2.5 ** 2))"
   ]
  },
  {
   "cell_type": "code",
   "execution_count": 63,
   "id": "602e451b",
   "metadata": {},
   "outputs": [
    {
     "data": {
      "text/plain": [
       "23"
      ]
     },
     "execution_count": 63,
     "metadata": {},
     "output_type": "execute_result"
    }
   ],
   "source": [
    "np.array([4,3]) @ np.array([5,1])"
   ]
  },
  {
   "cell_type": "code",
   "execution_count": 64,
   "id": "8df37902",
   "metadata": {},
   "outputs": [
    {
     "data": {
      "text/plain": [
       "23.5"
      ]
     },
     "execution_count": 64,
     "metadata": {},
     "output_type": "execute_result"
    }
   ],
   "source": [
    "np.array([4,3]) @ np.array([2.5,4.5])"
   ]
  },
  {
   "cell_type": "code",
   "execution_count": 47,
   "id": "1d4f6522",
   "metadata": {},
   "outputs": [
    {
     "data": {
      "text/plain": [
       "20.346153846153847"
      ]
     },
     "execution_count": 47,
     "metadata": {},
     "output_type": "execute_result"
    }
   ],
   "source": [
    "((23/25.495097567963924) * 5) ** 2"
   ]
  },
  {
   "cell_type": "code",
   "execution_count": 49,
   "id": "41551e81",
   "metadata": {},
   "outputs": [
    {
     "data": {
      "text/plain": [
       "6.782"
      ]
     },
     "execution_count": 49,
     "metadata": {},
     "output_type": "execute_result"
    }
   ],
   "source": [
    "20.346/3"
   ]
  },
  {
   "cell_type": "code",
   "execution_count": 69,
   "id": "547aa07e",
   "metadata": {},
   "outputs": [
    {
     "data": {
      "text/plain": [
       "(3.0, 3.111269837220809)"
      ]
     },
     "execution_count": 69,
     "metadata": {},
     "output_type": "execute_result"
    }
   ],
   "source": [
    "math.sqrt(2.4**2 + 1.8**2), math.sqrt(2.2**2 + 2.2 ** 2)"
   ]
  },
  {
   "cell_type": "code",
   "execution_count": 77,
   "id": "cb83a0bb",
   "metadata": {},
   "outputs": [
    {
     "data": {
      "text/plain": [
       "(2.9841204734393685, 3.110029099542318)"
      ]
     },
     "execution_count": 77,
     "metadata": {},
     "output_type": "execute_result"
    }
   ],
   "source": [
    "math.sqrt(-0.217**2 + 2.992**2), math.sqrt((-2.915)**2 + 1.084 ** 2)"
   ]
  },
  {
   "cell_type": "code",
   "execution_count": 76,
   "id": "a8244bea",
   "metadata": {},
   "outputs": [
    {
     "data": {
      "text/plain": [
       "3.110029099542318"
      ]
     },
     "execution_count": 76,
     "metadata": {},
     "output_type": "execute_result"
    }
   ],
   "source": []
  },
  {
   "cell_type": "code",
   "execution_count": 28,
   "id": "7beb7db7",
   "metadata": {},
   "outputs": [
    {
     "data": {
      "text/plain": [
       "0.000244140625"
      ]
     },
     "execution_count": 28,
     "metadata": {},
     "output_type": "execute_result"
    }
   ],
   "source": [
    "import math\n",
    "\n",
    "1/4096"
   ]
  },
  {
   "cell_type": "code",
   "execution_count": 29,
   "id": "d3e59383",
   "metadata": {},
   "outputs": [
    {
     "data": {
      "text/plain": [
       "1.0002441704297478"
      ]
     },
     "execution_count": 29,
     "metadata": {},
     "output_type": "execute_result"
    }
   ],
   "source": [
    "math.exp(0.000244140625)"
   ]
  },
  {
   "cell_type": "code",
   "execution_count": 31,
   "id": "79b098b8",
   "metadata": {},
   "outputs": [
    {
     "data": {
      "text/plain": [
       "491.52"
      ]
     },
     "execution_count": 31,
     "metadata": {},
     "output_type": "execute_result"
    }
   ],
   "source": [
    "(1024 * 16 * 30000) / 1_000_000"
   ]
  },
  {
   "cell_type": "code",
   "execution_count": 32,
   "id": "d946df10",
   "metadata": {},
   "outputs": [
    {
     "data": {
      "text/plain": [
       "0.49152"
      ]
     },
     "execution_count": 32,
     "metadata": {},
     "output_type": "execute_result"
    }
   ],
   "source": [
    "(1024 * 16 * 30000) / 1_000_000_000"
   ]
  },
  {
   "cell_type": "code",
   "execution_count": 33,
   "id": "5bd0a897",
   "metadata": {},
   "outputs": [
    {
     "data": {
      "text/plain": [
       "40960.0"
      ]
     },
     "execution_count": 33,
     "metadata": {},
     "output_type": "execute_result"
    }
   ],
   "source": [
    "2.5 * 16 * 1024"
   ]
  },
  {
   "cell_type": "markdown",
   "id": "de597496",
   "metadata": {},
   "source": [
    "## Inference Test"
   ]
  },
  {
   "cell_type": "markdown",
   "id": "6b5c0901",
   "metadata": {},
   "source": [
    "##### Batch Generate"
   ]
  },
  {
   "cell_type": "code",
   "execution_count": 6,
   "id": "a25a9aab",
   "metadata": {},
   "outputs": [],
   "source": [
    "class Config:\n",
    "    def __init__(self, world_size):\n",
    "        self.vocab_size = 4096\n",
    "        self.dim = 768\n",
    "        self.n_heads = 8\n",
    "        self.head_size = self.dim // self.n_heads\n",
    "        self.n_layers = 8\n",
    "        self.n_kv_heads = 8\n",
    "        self.seq_len = 1024\n",
    "        self.multiple_of = 256                \n",
    "        self.batch_size = 64 \n",
    "        self.global_batch_size = 150_000 # number of tokens per update\n",
    "        self.world_size = world_size\n",
    "        self.grad_accumulation_steps = int(self.global_batch_size/(self.seq_len * self.batch_size * self.world_size))\n",
    "        self.grad_clip = 1.0\n",
    "        self.learning_rate=1e-4\n",
    "        self.min_lr = self.learning_rate / 10\n",
    "        self.warmup_steps = 1000\n",
    "        self.total_params = 0\n",
    "        self.tokenizer_path = \"saved_artifacts/tokenizers\"\n",
    "        self.saved_checkpoint_path = \"saved_artifacts/models/model240221\"\n",
    "        self.rank = 0\n",
    "        \n",
    "config = Config(1)"
   ]
  },
  {
   "cell_type": "code",
   "execution_count": 7,
   "id": "747280ec",
   "metadata": {},
   "outputs": [],
   "source": [
    "from model import Model\n",
    "import torch\n",
    "import sentencepiece as spm\n",
    "import tqdm\n",
    "from automodel import AutoModel\n",
    "\n",
    "\n",
    "tokenizer = spm.SentencePieceProcessor(model_file='saved_artifacts/tokenizers/tok_4096.model')    \n",
    "model = Model(config)\n",
    "model = AutoModel(model, config, device='cuda')\n"
   ]
  },
  {
   "cell_type": "code",
   "execution_count": 15,
   "id": "9751698d",
   "metadata": {},
   "outputs": [],
   "source": [
    "prompts = [\n",
    "    \"Hello\",\n",
    "    \"Once there was a girl named Lilly\",\n",
    "    \"Rowdy baby\"\n",
    "]\n",
    "tokenized_prompts = []\n",
    "max_seq_len = 0\n",
    "for prompt in prompts:\n",
    "    tokenized_prompt = tokenizer.tokenize(prompt, add_bos=True, add_eos=True)\n",
    "    max_seq_len = max(len(tokenized_prompt) ,max_seq_len)\n",
    "    tokenized_prompts.append(tokenized_prompt)\n",
    "\n",
    "tokenized_prompts = [tokenized_prompt + [tokenizer.eos_id()]*(max_seq_len-len(tokenized_prompt))for tokenized_prompt in tokenized_prompts]\n",
    "    \n",
    "x = torch.tensor(tokenized_prompts, dtype=torch.long).to(\"cuda\")\n",
    "\n",
    "generation_config = {\n",
    "    'padding_token': tokenizer.eos_id(),\n",
    "    'bos_id': tokenizer.bos_id(),\n",
    "    'max_new_tokens': 500,\n",
    "    'temperature': 0.1\n",
    "}\n",
    "\n",
    "prompts, generations = model.generate(x,generation_config)"
   ]
  },
  {
   "cell_type": "code",
   "execution_count": 16,
   "id": "5289a0bd",
   "metadata": {},
   "outputs": [],
   "source": [
    "prompts = tokenizer.decode(prompts)\n",
    "generations = tokenizer.decode(generations)\n"
   ]
  },
  {
   "cell_type": "code",
   "execution_count": 23,
   "id": "a855070e",
   "metadata": {},
   "outputs": [],
   "source": [
    "result = [{'prompt': prompt, 'generation': generation} for prompt, generation in zip(prompts,generations)]\n",
    "result\n",
    "\n",
    "import csv\n",
    "\n",
    "\n",
    "keys = result[0].keys()\n",
    "\n",
    "with open('people.csv', 'w', newline='') as output_file:\n",
    "    dict_writer = csv.DictWriter(output_file, keys)\n",
    "    dict_writer.writeheader()\n",
    "    dict_writer.writerows(result)"
   ]
  },
  {
   "cell_type": "code",
   "execution_count": 18,
   "id": "1a2e6f38",
   "metadata": {},
   "outputs": [
    {
     "data": {
      "text/plain": [
       "['Hello, little dog. I am a dog. I am a boy. I like to play with you. You are my friend. You are loyal. You are fun. You are fun. You are fun.\"\\n\\nThe boy and the dog run and play. They chase a ball and a stick. They laugh and bark. They are happy. They are friends.\\n\\nBut then, the boy and the dog see a big cat. The cat is black and white. The cat is mean. The cat hisses and scratches. The cat says, \"This is my park. You are not my friends. You are not fun. You are mean. You are mean. You are not loyal. You are bad.\"\\n\\nThe boy and the dog are scared. They do not like the cat. They do not like the cat. They do not like the cat. They want to go away.\\n\\nBut then, they hear a voice. The voice is loud and angry. The voice says, \"Hey, you! Leave the cat alone! He is my friend. He is my family. He is loyal. He is fun. He is fun. He is my friend.\"\\n\\nThe boy and the dog are surprised. They look at the cat. The cat is not mean. The cat is not bad. The cat is not mean. The cat is not loyal. The cat is not mean. The cat is not mean. The cat is not bad.\\n\\nThe boy and the dog are happy. They are not scared. They are not hurt. They are not mean. They are not fun. They are loyal. They are not fun.\\n\\nThey say, \"Thank you, cat. You are right. You are our friend. You are our friend. You are loyal. You are fun. You are fun. You are fun. You are fun. You are fun. You are our friend.\"\\n\\nThe cat smiles. The cat says, \"You are welcome, boy. You are welcome, boy. You are welcome, boy. You are welcome, boy. You are welcome, boy. You are welcome, boy. You are welcome, boy. You are welcome, boy. You are welcome, boy. You are welcome, boy. You are welcome, boy. You are welcome, boy. You are welcome, boy. You are welcome, boy. You are welcome, boy. You are welcome,',\n",
       " \"Once there was a girl named Lilly. Lilly was three years old and loved to play. One day, Lilly was playing in the garden when she saw a big, round, yellow squash. She was so excited and ran to pick it up.\\n\\nLilly held the squash in her hands and looked at it closely. She noticed that it was very flexible. She could bend it and twist it in all sorts of ways. Lilly was so happy and started to play with the squash.\\n\\nShe rolled it around and made it bounce. She even tried to make it do tricks. Lilly was having so much fun. She was laughing and smiling as she played with the squash.\\n\\nLilly played with the squash until it was time to go inside. She put the squash in her pocket and went inside. Lilly was so happy that she had found the squash and she couldn't wait to play with it again tomorrow.\",\n",
       " 'Rowdy baby was a little girl. She was three years old and loved to play. One day, Rowdy was playing in the garden when she saw a big, white cauliflower. She was so excited and ran to it.\\n\\nRowdy said, \"Hello, cauliflower!\"\\n\\nThe cauliflower replied, \"Hello, Rowdy!\"\\n\\nRowdy was so surprised that the cauliflower could talk. She asked, \"What are you doing here?\"\\n\\nThe cauliflower said, \"I\\'m here to help you. I\\'m here to make you a delicious dinner!\"\\n\\nRowdy was so happy and said, \"Yay! That sounds great!\"\\n\\nThe cauliflower smiled and said, \"Let\\'s get started!\"\\n\\nSo, Rowdy and the cauliflower worked together to make a delicious dinner. When it was finished, Rowdy said, \"Thank you for helping me, cauliflower!\"\\n\\nThe cauliflower replied, \"You\\'re welcome, Rowdy. It was my pleasure!\"']"
      ]
     },
     "execution_count": 18,
     "metadata": {},
     "output_type": "execute_result"
    }
   ],
   "source": [
    "generations"
   ]
  },
  {
   "cell_type": "code",
   "execution_count": 2,
   "id": "ddae1d6f",
   "metadata": {},
   "outputs": [],
   "source": [
    "from model import Model\n",
    "import torch\n",
    "import sentencepiece as spm\n",
    "import tqdm\n",
    "from automodel import AutoModel\n",
    "\n",
    "\n",
    "\n",
    "model = Model(config)\n",
    "model = AutoModel(model, \"saved_artifacts/models/model240221\", config)\n",
    "checkpoint = torch.load(\"saved_artifacts/models/model240221/checkpoint.pt\")\n",
    "## load model state dict\n",
    "model.load_state_dict(checkpoint['model'])\n",
    "model = model.to(\"cuda\")\n",
    "model.eval()\n",
    "## Tokenizer\n",
    "tokenizer = spm.SentencePieceProcessor(model_file='saved_artifacts/tokenizers/tok_4096.model')        \n",
    "\n",
    "\n",
    "\n",
    "def generate(x, max_new_tokens=500, temperature=0.0):\n",
    "\n",
    "    idx = x\n",
    "    t = 0\n",
    "    #gen_loop = tqdm.tqdm(total=max_new_tokens, desc=\"gen_progress\")\n",
    "    while t <= max_new_tokens and int(idx[:,-1].item()) != int(tokenizer.bos_id()):\n",
    "        prompt = idx[:,-config.seq_len:]\n",
    "        pred = model(prompt)\n",
    "        logits = pred[:,-1,:]\n",
    "\n",
    "        if temperature == 0.0:\n",
    "            # \"sample\" the single most likely index\n",
    "            _, idx_next = torch.topk(logits, k=1, dim=-1)\n",
    "        else:\n",
    "            # pluck the logits at the final step and scale by desired temperature\n",
    "            logits = logits / temperature\n",
    "\n",
    "        #logits = top_k_top_p_filtering(logits, top_p=top_p, top_k=top_k)\n",
    "\n",
    "\n",
    "        logits = torch.softmax(logits, axis=-1)\n",
    "        next_idx = torch.multinomial(logits, num_samples=1)        \n",
    "        idx = torch.cat([idx, next_idx], axis=1)\n",
    "        t += 1\n",
    "        #gen_loop.update(1)\n",
    "    return idx\n",
    "    generated_text = tokenizer.decode(idx.to(\"cpu\").numpy().tolist())\n",
    "    gen_loop.write(\"\\n###############################\")\n",
    "    gen_loop.write(generated_text[0])\n",
    "    gen_loop.write(\"\\n###############################\")"
   ]
  },
  {
   "cell_type": "code",
   "execution_count": 3,
   "id": "935c245d",
   "metadata": {},
   "outputs": [
    {
     "data": {
      "text/plain": [
       "1"
      ]
     },
     "execution_count": 3,
     "metadata": {},
     "output_type": "execute_result"
    }
   ],
   "source": [
    "tokenizer.bos_id()"
   ]
  },
  {
   "cell_type": "code",
   "execution_count": 83,
   "id": "b08ac598",
   "metadata": {},
   "outputs": [
    {
     "name": "stdout",
     "output_type": "stream",
     "text": [
      "One day a little girl called Shivaed a little girl named Lily and her mommy were playing in the park. Lily was very excited because she was going to the park with her mom.\n",
      "\n",
      "When they arrived, Lily saw a big, red balloon. She was so excited and asked her mom, \"Can I have it?\"\n",
      "\n",
      "Her mom said, \"Yes, you can have it. But first, let's go to the store and get some food for dinner.\"\n",
      "\n",
      "Lily was so happy. She ran to the store and saw a big, red balloon. She asked her mom, \"Can I have it?\"\n",
      "\n",
      "Her mom said, \"Yes, you can have it. But first, let's get some food for dinner.\"\n",
      "\n",
      "So they went to the food aisle and Lily picked out some yummy food. She was so excited to eat it.\n",
      "\n",
      "When they got home, Lily and her mom had a big dinner. They ate the red food and it was so delicious. Lily was so happy and said, \"Thank you, Mommy!\"\n"
     ]
    }
   ],
   "source": [
    "max_prompt_len = 50\n",
    "prompt = \"One day a little girl called Shiva \"\n",
    "prompt_tokens = tokenizer.encode([prompt], add_bos=True)[0]\n",
    "padded_prompt_tokens = [tokenizer.bos_id()]*max_prompt_len\n",
    "padded_prompt_tokens[-len(prompt_tokens[:max_prompt_len]):] = prompt_tokens[:max_prompt_len]\n",
    "padded_prompt_tokens = torch.tensor([padded_prompt_tokens],dtype=torch.long).to(\"cuda\")\n",
    "idx = generate(padded_prompt_tokens, temperature=0.1)\n",
    "idx = idx.squeeze(axis=0).tolist()\n",
    "print(tokenizer.decode(idx))"
   ]
  },
  {
   "cell_type": "code",
   "execution_count": 69,
   "id": "7b0b0f1f",
   "metadata": {},
   "outputs": [
    {
     "data": {
      "text/plain": [
       "[[1, 422, 361]]"
      ]
     },
     "execution_count": 69,
     "metadata": {},
     "output_type": "execute_result"
    }
   ],
   "source": [
    "print(tokenizer.decode(reponse_ids)[1])"
   ]
  },
  {
   "cell_type": "code",
   "execution_count": 62,
   "id": "5fc03f2a",
   "metadata": {},
   "outputs": [
    {
     "data": {
      "text/plain": [
       "[1, 2, 3, 4, 5]"
      ]
     },
     "execution_count": 62,
     "metadata": {},
     "output_type": "execute_result"
    }
   ],
   "source": [
    "l = [1,2,3,4,5]\n",
    "l[-5:]"
   ]
  },
  {
   "cell_type": "code",
   "execution_count": 45,
   "id": "d1c8c52c",
   "metadata": {},
   "outputs": [
    {
     "name": "stderr",
     "output_type": "stream",
     "text": [
      "gen_progress:   0%|                                                                            | 0/500 [39:22<?, ?it/s]\n"
     ]
    }
   ],
   "source": [
    "prompts = [\"One day\",\"Siva and bear both are friends\"]\n",
    "reponse_ids = []\n",
    "for prompt in prompts:\n",
    "    x = torch.tensor(tokenizer.encode([prompt]), dtype=torch.long).to(\"cuda\")\n",
    "    idx = generate(x, temperature=0.1)\n",
    "    reponse_ids.append(idx.squeeze(axis=0).tolist())\n",
    "    \n"
   ]
  },
  {
   "cell_type": "code",
   "execution_count": 50,
   "id": "0d425240",
   "metadata": {},
   "outputs": [
    {
     "name": "stdout",
     "output_type": "stream",
     "text": [
      "Siva and bear both are friends. They like to play in the park. They have a ball, a bike and a kite. They have fun.\n",
      "\n",
      "One day, they see a big dog in the park. The dog is brown and furry. It has a collar and a leash. The dog barks and runs to them.\n",
      "\n",
      "\"Hello, dog!\" Anna says. She wants to pet the dog. She likes dogs.\n",
      "\n",
      "\"Be careful, Anna!\" Ben says. He is afraid of dogs. He thinks the dog might bite. He holds Anna's hand.\n",
      "\n",
      "The dog stops barking. It wags its tail. It wants to play. It sees the ball and the bike. It likes them. It runs to them.\n",
      "\n",
      "\"Wow, a dog!\" Anna says. She is happy. She likes dogs. She pets the dog.\n",
      "\n",
      "\"Be careful, Anna!\" Ben says. He is worried. He does not like dogs. He thinks dogs are mean. He pulls Anna's hand.\n",
      "\n",
      "The dog does not understand. It thinks Anna and Ben are playing. It jumps and bites the ball. It makes a mess.\n",
      "\n",
      "\"Ow, ow, ow!\" Anna and Ben say. They are sad. They are angry. They do not like the dog.\n",
      "\n",
      "The dog's owner comes. He is a man. He has a hat and a coat. He sees Anna and Ben. He is sorry.\n",
      "\n",
      "\"I'm sorry, kids!\" he says. He is not angry. He is kind. He smiles and pets the dog.\n",
      "\n",
      "\"It's okay, mister!\" Anna says. She is not mad. She likes the dog. She pets the dog back.\n",
      "\n",
      "\"Can we play with your dog?\" Ben asks. He is not scared. He likes dogs. He thinks dogs are fun.\n",
      "\n",
      "\"Sure, kids!\" the man says. He is friendly. He likes kids. He likes dogs. He likes kids.\n",
      "\n",
      "Anna and Ben are happy. They play with the dog. They throw the ball and the kite. They run and laugh.\n",
      "\n",
      "They forget about the dog. They forget about the mess. They have fun.\n"
     ]
    }
   ],
   "source": [
    "print(tokenizer.decode(reponse_ids)[1])"
   ]
  },
  {
   "cell_type": "code",
   "execution_count": 44,
   "id": "76e54920",
   "metadata": {},
   "outputs": [
    {
     "name": "stdout",
     "output_type": "stream",
     "text": [
      "One day, they saw a big truck with a picture of a cone on it. The truck was selling cones.\n",
      "\n",
      "\"Look, Ben, cones!\" Lily said. \"Let's go and see them.\"\n",
      "\n",
      "They ran to the truck and saw a man with a hat. He smiled and said, \"Hello, kids. Do you want a cone?\"\n",
      "\n",
      "\"Yes, please!\" Ben and Lily said.\n",
      "\n",
      "The man gave them each a cone with a scoop of ice cream on top. Lily chose chocolate and Ben chose vanilla.\n",
      "\n",
      "\"Thank you, mister!\" they said.\n",
      "\n",
      "\"You're welcome, kids. Enjoy your cones,\" the man said.\n",
      "\n",
      "Lily and Ben licked their cones happily. They liked the ice cream. It was cold and sweet and yummy.\n",
      "\n",
      "But then, a big dog came running. It saw the cones and wanted to play. It barked and jumped and tried to catch the cones.\n",
      "\n",
      "\"Hey, stop!\" Lily shouted. \"That's our cones!\"\n",
      "\n",
      "\"Go away, dog!\" Ben yelled. \"You're bad!\"\n",
      "\n",
      "The dog did not listen. It kept barking and jumping and trying to get the cones.\n",
      "\n",
      "Lily and Ben were scared. They did not like the dog. They wanted to go away.\n",
      "\n",
      "But then, a man came. He was the dog's owner. He saw the dog and the kids and the cones.\n",
      "\n",
      "\"Rex, come here!\" he called. \"Bad dog! Leave the kids alone!\"\n",
      "\n",
      "The dog heard the man and stopped barking. It ran to the man and licked his face. The man put a leash on the dog and said sorry to Lily and Ben.\n",
      "\n",
      "\"I'm sorry, kids. Rex is a friendly dog, but he likes to play. He didn't mean to scare you or your cones. He just wanted to have fun.\"\n",
      "\n",
      "Lily and Ben looked at the man and the dog. They saw that the dog was not mean. He was just playful.\n",
      "\n",
      "\"It's okay, mister,\" Lily said. \"But next time, please keep him on a leash.\"\n",
      "\n",
      "\"OK, kids,\" the man said. \"I will. Have fun with your cones. Bye-bye.\"\n",
      "\n",
      "He waved and\n"
     ]
    }
   ],
   "source": [
    "print(tokenizer.decode(reponse_ids))"
   ]
  },
  {
   "cell_type": "code",
   "execution_count": 35,
   "id": "466c9c53",
   "metadata": {},
   "outputs": [
    {
     "data": {
      "text/plain": [
       "tensor([ 422,  361, 3968,  349, 1543,  261,  296, 1856, 2091,  780,  589,  285,\n",
       "         390, 2831, 3960,  317,  331,  282,  462,  857, 1828,  640, 2123,  320,\n",
       "         265,  538, 3946, 3960,   13,   13, 1993,  659, 3974, 3948, 1772,  436,\n",
       "        3968,  411,  265,  296,  340,  780,  595,  393,  298,  690,  312,  268,\n",
       "         261, 1663, 3960,  289,  896,  595, 2024, 1950,  430,  269, 2408,  267,\n",
       "         719,  285,  841, 3968,  411,  349, 1568, 3974, 3948,  949,  268,  335,\n",
       "         297,  436, 3960,  315,  936, 1341,  267, 1341, 3968,  411,  594,  341,\n",
       "        1219, 2071,  267, 1194, 3960,   13,   13, 1786, 2831,  595, 1357,  595,\n",
       "         302, 3951,  372,  595,  393,  298,  690,  312,  267,  619,  306,  285,\n",
       "         398,  371,  561, 1690,  267, 3283, 3960,  315,  285, 1851,  268, 1663,\n",
       "        3968,  411,  875, 2011, 1826,  574,  421, 1684,  856,  261, 1118,  690,\n",
       "        3957,  351,  595, 3947, 1600, 3960,  315,  816,  362, 1509,  306, 3974,\n",
       "        3954,  387,  772,  664, 1708,  885, 3968,  411,  979,  664, 1018, 1720,\n",
       "         267, 1235,  493, 3960,    1], device='cuda:0')"
      ]
     },
     "execution_count": 35,
     "metadata": {},
     "output_type": "execute_result"
    }
   ],
   "source": [
    "idx[0]"
   ]
  },
  {
   "cell_type": "code",
   "execution_count": 108,
   "id": "f7bc3400",
   "metadata": {},
   "outputs": [],
   "source": [
    "a1 = torch.rand(size=(4,8))\n",
    "row = torch.arange(0,4).unsqueeze(axis=-1)\n",
    "col = torch.tensor([[0,2,2,4]]).permute(1,0)"
   ]
  },
  {
   "cell_type": "code",
   "execution_count": 109,
   "id": "a1856f76",
   "metadata": {},
   "outputs": [
    {
     "data": {
      "text/plain": [
       "tensor([[0.4889, 0.3619, 0.2616, 0.3882, 0.1020, 0.4791, 0.0825, 0.2193],\n",
       "        [0.6540, 0.8920, 0.8110, 0.4591, 0.1197, 0.1988, 0.8841, 0.2273],\n",
       "        [0.9916, 0.4762, 0.6308, 0.6293, 0.4023, 0.5723, 0.6750, 0.9671],\n",
       "        [0.4034, 0.6587, 0.9476, 0.7676, 0.5436, 0.4817, 0.8547, 0.2095]])"
      ]
     },
     "execution_count": 109,
     "metadata": {},
     "output_type": "execute_result"
    }
   ],
   "source": [
    "a1"
   ]
  },
  {
   "cell_type": "code",
   "execution_count": 110,
   "id": "697b5a25",
   "metadata": {},
   "outputs": [
    {
     "data": {
      "text/plain": [
       "tensor([[0.4889],\n",
       "        [0.8110],\n",
       "        [0.6308],\n",
       "        [0.5436]])"
      ]
     },
     "execution_count": 110,
     "metadata": {},
     "output_type": "execute_result"
    }
   ],
   "source": [
    "a1[row,col]"
   ]
  },
  {
   "cell_type": "code",
   "execution_count": 111,
   "id": "65872b98",
   "metadata": {},
   "outputs": [
    {
     "data": {
      "text/plain": [
       "tensor([[0],\n",
       "        [2],\n",
       "        [2],\n",
       "        [4]])"
      ]
     },
     "execution_count": 111,
     "metadata": {},
     "output_type": "execute_result"
    }
   ],
   "source": [
    "col"
   ]
  },
  {
   "cell_type": "code",
   "execution_count": 112,
   "id": "4b15933f",
   "metadata": {},
   "outputs": [
    {
     "data": {
      "text/plain": [
       "tensor([[1],\n",
       "        [3],\n",
       "        [3],\n",
       "        [5]])"
      ]
     },
     "execution_count": 112,
     "metadata": {},
     "output_type": "execute_result"
    }
   ],
   "source": [
    "col + 1"
   ]
  },
  {
   "cell_type": "code",
   "execution_count": 117,
   "id": "e9185a49",
   "metadata": {},
   "outputs": [
    {
     "data": {
      "text/plain": [
       "2"
      ]
     },
     "execution_count": 117,
     "metadata": {},
     "output_type": "execute_result"
    }
   ],
   "source": [
    "tokenizer.eos_id()"
   ]
  },
  {
   "cell_type": "code",
   "execution_count": 21,
   "id": "138534f7",
   "metadata": {},
   "outputs": [],
   "source": [
    "##\n",
    "prompts = [\n",
    "    \"Hello\",\n",
    "    \"Once there was a girl named Lilly\",\n",
    "    \"Rowdy baby\"\n",
    "]\n",
    "tokenized_prompts = []\n",
    "max_seq_len = 0\n",
    "for prompt in prompts:\n",
    "    tokenized_prompt = tokenizer.tokenize(prompt, add_bos=True, add_eos=True)\n",
    "    max_seq_len = max(len(tokenized_prompt) ,max_seq_len)\n",
    "    tokenized_prompts.append(tokenized_prompt)\n",
    "\n",
    "tokenized_prompts = [tokenized_prompt + [tokenizer.eos_id()]*(max_seq_len-len(tokenized_prompt))for tokenized_prompt in tokenized_prompts]\n",
    "    \n",
    "x = torch.tensor(tokenized_prompts, dtype=torch.long).to(\"cuda\")\n",
    "c_indi = torch.argmax(torch.where(x == tokenizer.eos_id(),1,0), axis=-1).unsqueeze(axis=1)\n",
    "r_indi = torch.arange(0,x.shape[0]).unsqueeze(axis=-1)    "
   ]
  },
  {
   "cell_type": "code",
   "execution_count": 22,
   "id": "97190fe0",
   "metadata": {},
   "outputs": [
    {
     "data": {
      "text/plain": [
       "tensor([[   1,  317, 1945,    2,    2,    2,    2,    2,    2],\n",
       "        [   1,  432,  401,  285,  261,  447,  502, 3820,    2],\n",
       "        [   1, 1044,  323,  749, 1450,    2,    2,    2,    2]],\n",
       "       device='cuda:0')"
      ]
     },
     "execution_count": 22,
     "metadata": {},
     "output_type": "execute_result"
    }
   ],
   "source": [
    "x"
   ]
  },
  {
   "cell_type": "markdown",
   "id": "df47665a",
   "metadata": {},
   "source": [
    "### Batch Generate"
   ]
  },
  {
   "cell_type": "code",
   "execution_count": null,
   "id": "41d3b1fc",
   "metadata": {},
   "outputs": [],
   "source": [
    "pred = model(x)\n",
    "logits = pred[r_indi, c_indi, :]\n",
    "logits = torch.softmax(logits, axis=-1)\n",
    "next_idxs = torch.multinomial(logits.squeeze(axis=1), num_samples=1)\n"
   ]
  },
  {
   "cell_type": "code",
   "execution_count": null,
   "id": "d353af98",
   "metadata": {},
   "outputs": [],
   "source": []
  },
  {
   "cell_type": "code",
   "execution_count": 12,
   "id": "f27d06bc",
   "metadata": {},
   "outputs": [
    {
     "data": {
      "text/plain": [
       "torch.Size([3, 9, 4096])"
      ]
     },
     "execution_count": 12,
     "metadata": {},
     "output_type": "execute_result"
    }
   ],
   "source": [
    "pred = model(x)\n",
    "pred.shape"
   ]
  },
  {
   "cell_type": "code",
   "execution_count": 13,
   "id": "b5f29be4",
   "metadata": {},
   "outputs": [
    {
     "data": {
      "text/plain": [
       "torch.Size([3, 1, 4096])"
      ]
     },
     "execution_count": 13,
     "metadata": {},
     "output_type": "execute_result"
    }
   ],
   "source": [
    "pred[r_indi, c_indi, :].shape"
   ]
  },
  {
   "cell_type": "code",
   "execution_count": 15,
   "id": "8ea9c145",
   "metadata": {},
   "outputs": [
    {
     "ename": "RuntimeError",
     "evalue": "prob_dist must be 1 or 2 dim",
     "output_type": "error",
     "traceback": [
      "\u001b[1;31m---------------------------------------------------------------------------\u001b[0m",
      "\u001b[1;31mRuntimeError\u001b[0m                              Traceback (most recent call last)",
      "Cell \u001b[1;32mIn[15], line 12\u001b[0m\n\u001b[0;32m      8\u001b[0m \u001b[38;5;66;03m#logits = top_k_top_p_filtering(logits, top_p=top_p, top_k=top_k)\u001b[39;00m\n\u001b[0;32m     11\u001b[0m logits \u001b[38;5;241m=\u001b[39m torch\u001b[38;5;241m.\u001b[39msoftmax(logits, axis\u001b[38;5;241m=\u001b[39m\u001b[38;5;241m-\u001b[39m\u001b[38;5;241m1\u001b[39m)\n\u001b[1;32m---> 12\u001b[0m next_idx \u001b[38;5;241m=\u001b[39m \u001b[43mtorch\u001b[49m\u001b[38;5;241;43m.\u001b[39;49m\u001b[43mmultinomial\u001b[49m\u001b[43m(\u001b[49m\u001b[43mlogits\u001b[49m\u001b[43m,\u001b[49m\u001b[43m \u001b[49m\u001b[43mnum_samples\u001b[49m\u001b[38;5;241;43m=\u001b[39;49m\u001b[38;5;241;43m1\u001b[39;49m\u001b[43m)\u001b[49m        \n\u001b[0;32m     13\u001b[0m idx \u001b[38;5;241m=\u001b[39m torch\u001b[38;5;241m.\u001b[39mcat([idx, next_idx], axis\u001b[38;5;241m=\u001b[39m\u001b[38;5;241m1\u001b[39m)\n\u001b[0;32m     14\u001b[0m t \u001b[38;5;241m+\u001b[39m\u001b[38;5;241m=\u001b[39m \u001b[38;5;241m1\u001b[39m\n",
      "\u001b[1;31mRuntimeError\u001b[0m: prob_dist must be 1 or 2 dim"
     ]
    }
   ],
   "source": [
    "temperature = 0.1\n",
    "pred = model(x)\n",
    "logits = pred[r_indi, c_indi, :]\n",
    "\n",
    "# pluck the logits at the final step and scale by desired temperature\n",
    "logits = logits / temperature\n",
    "\n",
    "#logits = top_k_top_p_filtering(logits, top_p=top_p, top_k=top_k)\n",
    "\n",
    "\n",
    "logits = torch.softmax(logits, axis=-1)\n",
    "next_idx = torch.multinomial(logits, num_samples=1)        \n",
    "idx = torch.cat([idx, next_idx], axis=1)\n",
    "t += 1"
   ]
  },
  {
   "cell_type": "code",
   "execution_count": 16,
   "id": "4e239e2c",
   "metadata": {},
   "outputs": [],
   "source": [
    "pred = model(x)\n",
    "logits = pred[r_indi, c_indi, :]\n",
    "logits = torch.softmax(logits, axis=-1)"
   ]
  },
  {
   "cell_type": "code",
   "execution_count": 17,
   "id": "eb8f3178",
   "metadata": {},
   "outputs": [
    {
     "data": {
      "text/plain": [
       "torch.Size([3, 1, 4096])"
      ]
     },
     "execution_count": 17,
     "metadata": {},
     "output_type": "execute_result"
    }
   ],
   "source": [
    "logits.shape"
   ]
  },
  {
   "cell_type": "code",
   "execution_count": 18,
   "id": "e1608f93",
   "metadata": {},
   "outputs": [],
   "source": [
    "next_idxs = torch.multinomial(logits.squeeze(axis=1), num_samples=1)"
   ]
  },
  {
   "cell_type": "code",
   "execution_count": 19,
   "id": "1649781c",
   "metadata": {},
   "outputs": [],
   "source": [
    "x[r_indi, c_indi] = next_idxs"
   ]
  },
  {
   "cell_type": "code",
   "execution_count": 20,
   "id": "66a2f6d9",
   "metadata": {},
   "outputs": [
    {
     "data": {
      "text/plain": [
       "tensor([[   1,  317, 1945,  281,    2,    2,    2,    2,    2],\n",
       "        [   1,  432,  401,  285,  261,  447,  502, 3820, 3960],\n",
       "        [   1, 1044,  323,  749, 1450, 3952,    2,    2,    2]],\n",
       "       device='cuda:0')"
      ]
     },
     "execution_count": 20,
     "metadata": {},
     "output_type": "execute_result"
    }
   ],
   "source": [
    "x"
   ]
  },
  {
   "cell_type": "code",
   "execution_count": null,
   "id": "9c37c22c",
   "metadata": {},
   "outputs": [],
   "source": [
    "c_indi += 1"
   ]
  },
  {
   "cell_type": "code",
   "execution_count": 170,
   "id": "70452057",
   "metadata": {},
   "outputs": [
    {
     "data": {
      "text/plain": [
       "tensor([[0.],\n",
       "        [0.],\n",
       "        [0.]], device='cuda:0')"
      ]
     },
     "execution_count": 170,
     "metadata": {},
     "output_type": "execute_result"
    }
   ],
   "source": [
    "eos_id_index = torch.zeros(size=(x.shape[0],1)).to(\"cuda\")\n",
    "eos_id_index"
   ]
  },
  {
   "cell_type": "code",
   "execution_count": 172,
   "id": "785232ba",
   "metadata": {},
   "outputs": [],
   "source": [
    "eos_id_index[next_idxs == tokenizer.eos_id()] = 1"
   ]
  },
  {
   "cell_type": "markdown",
   "id": "0e9071c3",
   "metadata": {},
   "source": [
    "## Dataset for Inferencing"
   ]
  },
  {
   "cell_type": "code",
   "execution_count": 35,
   "id": "a89097c8",
   "metadata": {},
   "outputs": [],
   "source": [
    "from datasets import load_dataset, load_from_disk\n",
    "from torch.utils.data import DataLoader, DistributedSampler\n",
    "import sentencepiece as spm\n",
    "import os\n",
    "\n",
    "dataset = load_dataset(\"roneneldan/TinyStories\")\n",
    "train_dataset = dataset[\"train\"]\n",
    "val_dataset = dataset[\"validation\"]\n"
   ]
  },
  {
   "cell_type": "code",
   "execution_count": 36,
   "id": "2ec00353",
   "metadata": {},
   "outputs": [],
   "source": [
    "tokenizer_model_path = os.path.join(\"saved_artifacts/tokenizers\",\"tok_4096.model\")\n",
    "tokenizer = spm.SentencePieceProcessor(model_file=tokenizer_model_path)"
   ]
  },
  {
   "cell_type": "code",
   "execution_count": 37,
   "id": "6f99bc1d",
   "metadata": {},
   "outputs": [
    {
     "data": {
      "application/vnd.jupyter.widget-view+json": {
       "model_id": "8bd9d7995fa5461095c3be9f1d663017",
       "version_major": 2,
       "version_minor": 0
      },
      "text/plain": [
       "Map (num_proc=4):   0%|          | 0/21990 [00:00<?, ? examples/s]"
      ]
     },
     "metadata": {},
     "output_type": "display_data"
    }
   ],
   "source": [
    "\n",
    "\n",
    "def process_rows_func(examples, tokenizer):   \n",
    "    from random import randint    \n",
    "    idx = 0 \n",
    "    p_len = 30\n",
    "    inputs, targets = [],[]\n",
    "    \n",
    "    \n",
    "    tokenized_examples = tokenizer.encode(examples[\"text\"], add_bos=True)\n",
    "    for example in tokenized_examples:        \n",
    "        inputs.append(example[:p_len])\n",
    "        targets.append(example)\n",
    "        \n",
    "    return {\"inputs\":inputs}\n",
    "\n",
    "val_dataset = val_dataset.map(\n",
    "                    process_rows_func,\n",
    "                    fn_kwargs={\"tokenizer\":tokenizer},\n",
    "                    batched=True,\n",
    "                    num_proc=4,\n",
    "                    remove_columns=val_dataset.column_names    \n",
    "                )\n",
    "val_dataset.set_format(type='torch', columns=val_dataset.column_names)             \n",
    "\n",
    "    "
   ]
  },
  {
   "cell_type": "code",
   "execution_count": 38,
   "id": "c6a6c3b1",
   "metadata": {},
   "outputs": [],
   "source": [
    "val_loader = DataLoader(val_dataset, batch_size=32, shuffle=True) "
   ]
  },
  {
   "cell_type": "code",
   "execution_count": 43,
   "id": "e2815422",
   "metadata": {},
   "outputs": [
    {
     "name": "stdout",
     "output_type": "stream",
     "text": [
      "torch.Size([32, 30])\n"
     ]
    }
   ],
   "source": []
  },
  {
   "cell_type": "code",
   "execution_count": 57,
   "id": "f317dcd0",
   "metadata": {},
   "outputs": [],
   "source": [
    "from model import Model\n",
    "\n",
    "class Config:\n",
    "    def __init__(self):\n",
    "        self.vocab_size = 4096\n",
    "        self.dim = 768\n",
    "        self.n_heads = 8\n",
    "        self.head_size = self.dim // self.n_heads\n",
    "        self.n_layers = 8\n",
    "        self.n_kv_heads = 8\n",
    "        self.seq_len = 1024\n",
    "        self.multiple_of = 256                \n",
    "        self.batch_size = 32 \n",
    "        self.global_batch_size = 150_000 # number of tokens per update\n",
    "        self.world_size = torch.cuda.device_count()\n",
    "        self.grad_accumulation_steps = int(self.global_batch_size/(self.seq_len * self.batch_size * self.world_size))\n",
    "        self.grad_clip = 1.0\n",
    "        self.learning_rate=1e-3\n",
    "        self.min_lr = self.learning_rate / 10\n",
    "        self.warmup_steps = 1000\n",
    "        self.total_params = 0\n",
    "        self.tokenizer_path = \"saved_artifacts/tokenizers\"        \n",
    "        self.rank = 0 \n",
    "        \n",
    "config = Config()\n",
    "\n",
    "model = Model(config)\n",
    "model = model.to(0)"
   ]
  },
  {
   "cell_type": "code",
   "execution_count": 58,
   "id": "e8784017",
   "metadata": {},
   "outputs": [
    {
     "name": "stdout",
     "output_type": "stream",
     "text": [
      "tensor([[[-0.1738,  1.0943, -0.2407,  ..., -0.2396, -0.7592, -0.0543],\n",
      "         [ 0.3763, -0.0708, -0.0694,  ...,  0.4578, -0.8039, -0.3586],\n",
      "         [-0.1570, -1.1218,  0.0217,  ..., -0.2329, -0.6073,  0.7035],\n",
      "         ...,\n",
      "         [ 0.9770,  0.6675,  0.3975,  ..., -0.5922, -1.4464, -0.0071],\n",
      "         [ 0.0185,  0.5078,  0.4781,  ...,  0.0769, -0.2572,  0.4616],\n",
      "         [-0.4522,  0.7630,  0.6867,  ...,  0.1911,  0.0363, -0.2500]],\n",
      "\n",
      "        [[-0.1738,  1.0943, -0.2407,  ..., -0.2396, -0.7592, -0.0543],\n",
      "         [ 0.7603, -0.1441, -0.4651,  ...,  0.6543, -0.1545,  0.4792],\n",
      "         [ 0.1261, -0.0431, -0.3837,  ...,  0.2846,  0.3171, -0.0431],\n",
      "         ...,\n",
      "         [ 0.6645, -0.2119, -0.3644,  ...,  0.2470, -0.0699, -0.2320],\n",
      "         [-0.4947,  0.0696, -0.3579,  ...,  0.3642, -0.1448,  0.4825],\n",
      "         [ 0.3476, -0.2430,  0.8257,  ...,  0.0297,  0.3578, -1.4128]],\n",
      "\n",
      "        [[-0.1738,  1.0943, -0.2407,  ..., -0.2396, -0.7592, -0.0543],\n",
      "         [ 0.3763, -0.0708, -0.0694,  ...,  0.4578, -0.8039, -0.3586],\n",
      "         [-0.1570, -1.1218,  0.0217,  ..., -0.2329, -0.6073,  0.7035],\n",
      "         ...,\n",
      "         [-0.9382,  0.0410, -0.6118,  ...,  0.0528, -0.3660,  0.6529],\n",
      "         [-1.0608,  1.0386, -0.2930,  ...,  0.1452, -0.2975,  0.4646],\n",
      "         [-0.0230,  0.0724, -0.9661,  ..., -0.9350, -0.0559,  0.2500]],\n",
      "\n",
      "        ...,\n",
      "\n",
      "        [[-0.1738,  1.0943, -0.2407,  ..., -0.2396, -0.7592, -0.0543],\n",
      "         [ 0.3264,  0.4131,  0.0641,  ..., -0.1749, -0.1936,  0.4120],\n",
      "         [ 0.2139, -0.0829, -0.6031,  ...,  0.1054,  0.2795, -0.1387],\n",
      "         ...,\n",
      "         [ 0.9763,  0.5580,  0.5196,  ..., -0.4177, -1.2121, -0.2724],\n",
      "         [ 0.1347,  0.5424,  0.6012,  ...,  0.1168,  0.1111,  0.1962],\n",
      "         [ 0.4043, -0.1634, -0.9290,  ..., -0.9319, -0.6528, -0.3692]],\n",
      "\n",
      "        [[-0.1738,  1.0943, -0.2407,  ..., -0.2396, -0.7592, -0.0543],\n",
      "         [ 0.3763, -0.0708, -0.0694,  ...,  0.4578, -0.8039, -0.3586],\n",
      "         [-0.1570, -1.1218,  0.0217,  ..., -0.2329, -0.6073,  0.7035],\n",
      "         ...,\n",
      "         [-0.1106,  0.7375,  0.1305,  ...,  0.5531, -0.1172,  0.8854],\n",
      "         [-0.5632, -0.1009, -0.3688,  ...,  0.2251, -0.4516,  0.8224],\n",
      "         [ 1.1959,  0.3819, -0.1046,  ...,  0.7053,  0.3125,  0.6234]],\n",
      "\n",
      "        [[-0.1738,  1.0943, -0.2407,  ..., -0.2396, -0.7592, -0.0543],\n",
      "         [ 0.3763, -0.0708, -0.0694,  ...,  0.4578, -0.8039, -0.3586],\n",
      "         [-0.1570, -1.1218,  0.0217,  ..., -0.2329, -0.6073,  0.7035],\n",
      "         ...,\n",
      "         [-0.5086,  0.0853, -0.3164,  ...,  0.2206, -0.3720,  0.9484],\n",
      "         [ 0.2826, -0.2575,  0.9556,  ..., -0.0087,  0.1301, -0.9404],\n",
      "         [-0.0409,  1.2173, -0.8030,  ..., -0.1789,  0.9992, -0.4719]]],\n",
      "       device='cuda:0', grad_fn=<ViewBackward0>)\n"
     ]
    }
   ],
   "source": [
    "for data in val_loader:\n",
    "    x = data['inputs'].to(0)\n",
    "    print(model(x))\n",
    "    break\n"
   ]
  },
  {
   "cell_type": "code",
   "execution_count": null,
   "id": "07305767",
   "metadata": {},
   "outputs": [],
   "source": [
    "from datasets import load_dataset, load_from_disk\n",
    "from torch.utils.data import DataLoader, DistributedSampler\n",
    "import sentencepiece as spm\n",
    "import os\n",
    "\n",
    "\n",
    "class TinyStories:\n",
    "    def __init__(self, config):\n",
    "        self.vocab_size = config.vocab_size\n",
    "        self.context_length = config.seq_len\n",
    "        self.batch_size = config.batch_size\n",
    "        self.tokenizer_model_path = os.path.join(config.tokenizer_path,f\"tok_{config.vocab_size}.model\")\n",
    "        self.tokenizer = spm.SentencePieceProcessor(model_file=self.tokenizer_model_path)\n",
    "\n",
    "        #build dataset\n",
    "        self.dataset = load_dataset(\"roneneldan/TinyStories\")\n",
    "        self.train_dataset = self.dataset[\"train\"]\n",
    "        self.val_dataset = self.dataset[\"validation\"]\n",
    "\n",
    "        if config.n_val_examples != -1:\n",
    "            self.val_dataset = self.val_dataset.select(range(config.n_val_examples))\n",
    "\n",
    "        self.val_dataset = self.val_dataset.map(\n",
    "                    self.process_rows_func,                \n",
    "                    batched=True,\n",
    "                    num_proc=4,\n",
    "                    remove_columns=self.val_dataset.column_names    \n",
    "                )\n",
    "        self.val_dataset.set_format(type='torch', columns=self.val_dataset.column_names)             \n",
    "\n",
    "    \n",
    "    def process_rows_func(self,examples):     \n",
    "        idx = 0 \n",
    "        inputs, targets = [],[]\n",
    "        \n",
    "        \n",
    "        tokenized_examples = self.tokenizer.encode(examples[\"text\"], add_bos=True)\n",
    "        merged_text = [token for example in tokenized_examples for token in example]\n",
    "        \n",
    "        while idx < len(merged_text)-self.context_length:\n",
    "            chunk = merged_text[idx:idx+self.context_length+1]\n",
    "            inputs.append(chunk[:-1])\n",
    "            targets.append(chunk[1:])\n",
    "            idx += self.context_length\n",
    "        return {\"inputs\":inputs, \"targets\":targets}\n",
    "\n",
    "\n",
    "\n",
    "    def getTrainDataLoader(self, ddp):\n",
    "        sampler = DistributedSampler(self.train_dataset) if ddp else None\n",
    "        shuffle = True if not ddp else None\n",
    "        train_loader = DataLoader(self.train_dataset, batch_size=self.batch_size, shuffle=shuffle, sampler=sampler)\n",
    "        return train_loader  \n",
    "    \n",
    "    \n",
    "\n",
    "    def getValDataLoader(self): \n",
    "        val_loader = DataLoader(self.val_dataset, batch_size=self.batch_size, shuffle=True)    \n",
    "        return val_loader\n",
    "        \n",
    "    def getVocabSize(self):\n",
    "        return int(self.tokenizer.vocab_size())"
   ]
  },
  {
   "cell_type": "code",
   "execution_count": 46,
   "id": "beb07f9f",
   "metadata": {},
   "outputs": [],
   "source": [
    "import torch\n",
    "x = torch.randn(size=(32,10))\n",
    "x = x.to(0)"
   ]
  },
  {
   "cell_type": "code",
   "execution_count": 47,
   "id": "3958179c",
   "metadata": {},
   "outputs": [
    {
     "data": {
      "text/plain": [
       "tensor([[-1.9430, -0.5700, -0.1078,  0.7640,  0.7182, -1.1693, -0.1812, -0.3964,\n",
       "         -0.0596,  0.9160],\n",
       "        [-0.4061,  0.2077,  1.0531,  0.2025, -0.6469,  0.1366,  0.5040, -0.2615,\n",
       "          0.5389, -0.4528],\n",
       "        [ 1.3481, -1.2552, -1.0317,  1.0318,  0.6127, -1.7430, -1.1002, -3.1245,\n",
       "         -0.1625,  0.3771],\n",
       "        [ 0.9627,  1.3246, -0.8523, -0.3934, -3.2231, -1.4649, -0.1972,  0.8223,\n",
       "         -0.2575,  1.5554],\n",
       "        [-0.3162,  0.6525,  0.6975, -0.1848,  2.0393, -0.4173, -0.9319, -0.5348,\n",
       "          0.8592,  0.3856],\n",
       "        [ 0.4587, -1.2753,  0.9256, -0.6391, -2.0951, -0.2169, -0.9822, -0.4987,\n",
       "          0.7941, -0.7787],\n",
       "        [-0.5549,  0.7321,  0.5068,  0.4650, -2.2132, -2.3530,  0.2150,  1.0672,\n",
       "         -0.9140,  0.6902],\n",
       "        [-1.1208, -1.6164,  0.3974,  0.7971, -0.8254,  1.9163, -0.2140, -1.3782,\n",
       "          1.5481, -0.2181],\n",
       "        [-0.2725, -0.1696,  0.7520,  0.2743,  0.3651,  0.1679, -0.2391, -0.3577,\n",
       "          0.1537,  0.5679],\n",
       "        [ 0.5426,  1.0723, -1.7073,  1.2271,  0.6948,  0.5217,  0.4324, -0.0883,\n",
       "          0.2463, -1.3059],\n",
       "        [ 0.1511, -0.4268, -0.7214, -2.5065, -0.0037, -1.3799, -0.8354, -1.6838,\n",
       "          0.7967, -0.3534],\n",
       "        [-0.7404, -1.9885, -0.8198, -1.1847, -0.1431, -1.2735, -0.2084, -1.8994,\n",
       "          0.7461,  1.4042],\n",
       "        [-0.6256,  0.3552,  1.6393,  0.4431,  1.0639, -0.0158,  0.1809,  1.5464,\n",
       "          0.9218, -0.0641],\n",
       "        [ 1.3759,  0.6047, -0.0175, -0.2665,  2.3680, -1.6195, -0.3162,  0.3377,\n",
       "         -1.1983, -0.9054],\n",
       "        [ 0.5637, -0.0261,  0.1121,  0.4037,  0.5356,  0.7553, -2.0029, -0.8867,\n",
       "          0.7804,  0.2620],\n",
       "        [-1.0101,  2.0462,  1.3974,  1.1596, -0.2607,  0.8451,  1.0300,  1.5365,\n",
       "          0.1327,  0.6488],\n",
       "        [-0.4423, -0.4084,  0.4642,  0.1745,  0.0096, -1.1608, -1.3527,  0.9682,\n",
       "         -1.9746,  0.0177],\n",
       "        [-0.3445,  0.6310, -1.7961,  0.8309, -0.0175,  0.1438, -0.8682,  1.1337,\n",
       "         -1.3851,  0.4186],\n",
       "        [ 1.2258,  0.7651,  0.8324,  0.4624,  1.1376,  1.6961,  1.8018, -1.5681,\n",
       "         -0.7195,  0.6728],\n",
       "        [ 1.3383,  0.3093, -2.0562,  0.6325, -2.5553, -0.9167,  0.3516, -1.1748,\n",
       "          1.2218, -0.3756],\n",
       "        [-0.2680,  0.6721, -0.3627,  0.2091,  0.9934,  0.7471,  0.8978,  1.4594,\n",
       "         -0.3797, -0.0679],\n",
       "        [ 0.3176,  0.9658, -1.5466,  1.9252, -0.7686,  0.0089,  0.7560,  0.2042,\n",
       "          0.3900,  1.0561],\n",
       "        [ 0.4140,  0.9653,  0.1524,  0.7477, -0.3971,  0.3297,  1.0986, -0.8336,\n",
       "          0.1450,  0.3036],\n",
       "        [ 0.1695, -0.9573,  1.4629, -1.7683,  1.6254, -1.2772,  0.3855,  1.1796,\n",
       "         -1.0762, -1.9672],\n",
       "        [-1.5870, -1.2645,  0.1388,  2.1669, -0.8868, -0.5476, -2.2781,  0.3606,\n",
       "          0.7581, -1.1077],\n",
       "        [ 0.7850,  1.6328,  0.1743,  0.8249, -0.3565,  0.3257, -1.8311, -0.0722,\n",
       "          0.4866, -1.1540],\n",
       "        [-0.8374,  0.2695,  0.2494,  0.7182, -0.1205,  0.1179,  0.5294,  1.5974,\n",
       "         -0.2461, -1.1149],\n",
       "        [-0.4091, -0.7041,  1.0027, -0.8623,  0.1199, -0.8945,  0.0916,  0.4744,\n",
       "          0.5784,  0.2846],\n",
       "        [-0.7137, -1.3695,  0.3255, -1.5981,  0.2430, -2.2111, -1.1168,  1.1056,\n",
       "          1.0981, -0.3724],\n",
       "        [ 0.9050,  1.0590,  0.8191,  0.3884, -0.6646, -1.1318,  2.0015,  0.6828,\n",
       "          0.2953, -0.6010],\n",
       "        [ 0.3544,  0.4765,  0.0795, -1.1391,  0.7020,  0.0205, -0.7668, -0.5262,\n",
       "          1.0802, -0.3058],\n",
       "        [ 0.1338, -0.6990,  1.5409,  0.8160,  1.0410,  0.3007, -0.2509, -0.8781,\n",
       "          1.9315,  1.4436]], device='cuda:0')"
      ]
     },
     "execution_count": 47,
     "metadata": {},
     "output_type": "execute_result"
    }
   ],
   "source": [
    "x"
   ]
  },
  {
   "cell_type": "code",
   "execution_count": 48,
   "id": "c06eb257",
   "metadata": {},
   "outputs": [
    {
     "data": {
      "text/plain": [
       "'nt'"
      ]
     },
     "execution_count": 48,
     "metadata": {},
     "output_type": "execute_result"
    }
   ],
   "source": [
    "os.name"
   ]
  },
  {
   "cell_type": "code",
   "execution_count": 50,
   "id": "c1346d61",
   "metadata": {},
   "outputs": [
    {
     "data": {
      "text/plain": [
       "2"
      ]
     },
     "execution_count": 50,
     "metadata": {},
     "output_type": "execute_result"
    }
   ],
   "source": [
    "tokenizer.eos_id()"
   ]
  },
  {
   "cell_type": "code",
   "execution_count": 59,
   "id": "66b661ff",
   "metadata": {},
   "outputs": [],
   "source": [
    "from datetime import datetime\n",
    "\n",
    "now = datetime.now()\n"
   ]
  },
  {
   "cell_type": "code",
   "execution_count": 66,
   "id": "9eeeff88",
   "metadata": {},
   "outputs": [
    {
     "name": "stdout",
     "output_type": "stream",
     "text": [
      "-1104\n"
     ]
    }
   ],
   "source": [
    "later = datetime.now()\n",
    "difference = int((now - later).total_seconds())\n",
    "print(int(20000000 /difference))"
   ]
  },
  {
   "cell_type": "code",
   "execution_count": null,
   "id": "9dc0229b",
   "metadata": {},
   "outputs": [],
   "source": []
  }
 ],
 "metadata": {
  "kernelspec": {
   "display_name": "venv_clear_text",
   "language": "python",
   "name": "venv_clear_text"
  },
  "language_info": {
   "codemirror_mode": {
    "name": "ipython",
    "version": 3
   },
   "file_extension": ".py",
   "mimetype": "text/x-python",
   "name": "python",
   "nbconvert_exporter": "python",
   "pygments_lexer": "ipython3",
   "version": "3.8.8"
  }
 },
 "nbformat": 4,
 "nbformat_minor": 5
}
