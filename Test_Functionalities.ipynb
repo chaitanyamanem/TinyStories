{
 "cells": [
  {
   "cell_type": "markdown",
   "id": "db4ff6cb",
   "metadata": {},
   "source": [
    "## Rotary Positional Embeddings"
   ]
  },
  {
   "cell_type": "markdown",
   "id": "b202b728",
   "metadata": {},
   "source": [
    "https://nn.labml.ai/transformers/rope/index.html\n",
    "\n",
    "https://blog.eleuther.ai/rotary-embeddings/"
   ]
  },
  {
   "cell_type": "markdown",
   "id": "94e2c60c",
   "metadata": {},
   "source": [
    "### Transfromers Again"
   ]
  },
  {
   "cell_type": "code",
   "execution_count": 1,
   "id": "d5c4c35e",
   "metadata": {},
   "outputs": [],
   "source": [
    "import torch\n",
    "from torch import nn"
   ]
  },
  {
   "cell_type": "code",
   "execution_count": 2,
   "id": "5b0b3d7b",
   "metadata": {},
   "outputs": [],
   "source": [
    "class Config:    \n",
    "    vocab_size = 4026\n",
    "    dim = 552\n",
    "    n_heads = 12\n",
    "    head_size = dim // n_heads\n",
    "    n_layers = 12\n",
    "    n_kv_heads = 3\n",
    "    seq_len = 1024\n",
    "    multiple_of = 256\n",
    "    \n",
    "config = Config()"
   ]
  },
  {
   "cell_type": "code",
   "execution_count": 3,
   "id": "68c76d0e",
   "metadata": {},
   "outputs": [],
   "source": [
    "\n",
    "class RoPE(nn.Module):\n",
    "    def __init__(self,config):\n",
    "        super().__init__()\n",
    "        self.config = config\n",
    "        self.cos_mthetas = None\n",
    "        self.sin_mthetas = None\n",
    "        self.__set_thetas()\n",
    "        \n",
    "    def __set_thetas(self):\n",
    "        \"\"\"This sets the parameters of the rope as per the formula\n",
    "        Θ = {θi = 10000−2(i−1)/d, i ∈ [1, 2, ..., d/2]}\n",
    "        \"\"\"\n",
    "        assert self.config.head_size % 2 == 0, f\"Head size:{self.config.head_size} shouls be even number\"\n",
    "        self.d = self.config.head_size\n",
    "        self.m = self.config.seq_len\n",
    "        \n",
    "        i_s = torch.tensor(range(1,self.d//2+1))\n",
    "        i_s = torch.cat([i_s,i_s], axis=-1)\n",
    "        m_s = torch.tensor(range(self.m)).unsqueeze(axis=-1)\n",
    "        \n",
    "        thetas = 10000 ** (-2*(i_s-1)/self.d)\n",
    "        self.cos_mthetas = torch.cos(m_s * thetas).to(\"cuda\")\n",
    "        self.sin_mthetas = torch.sin(m_s * thetas).to(\"cuda\")\n",
    "        \n",
    "    def forward(self, x):\n",
    "        \"\"\" assumes x in the format of \"\"\"\n",
    "        d  = x.shape[-1]\n",
    "        print(f\"shapes in RoPE in oredr x, : {x.shape, self.cos_mthetas.shape},d:{d}\")\n",
    "        assert d == self.d\n",
    "        \n",
    "        x = self.cos_mthetas * x + self.sin_mthetas * torch.cat([-1 * x[:,:,:,self.d//2:],x[:,:,:,:self.d//2]], axis=-1)\n",
    "        return x\n",
    "        \n",
    "    \n",
    "    "
   ]
  },
  {
   "cell_type": "code",
   "execution_count": 4,
   "id": "e5801d7f",
   "metadata": {},
   "outputs": [],
   "source": [
    "def repeat_kv(x: torch.Tensor, n_rep: int) -> torch.Tensor:\n",
    "    \"\"\"torch.repeat_interleave(x, dim=2, repeats=n_rep)\"\"\"\n",
    "    bs, slen, n_kv_heads, head_dim = x.shape\n",
    "    if n_rep == 1:\n",
    "        return x\n",
    "    return (\n",
    "        x[:, :, :, None, :]\n",
    "        .expand(bs, slen, n_kv_heads, n_rep, head_dim)\n",
    "        .reshape(bs, slen, n_kv_heads * n_rep, head_dim)\n",
    "    )\n",
    "\n",
    "class MultiHeadAttention(nn.Module):\n",
    "    def __init__(self, config):\n",
    "        super().__init__()\n",
    "        self.config = config\n",
    "        self.n_rep = self.config.n_heads // self.config.n_kv_heads\n",
    "        self.query = nn.Linear(self.config.dim, self.config.n_heads * self.config.head_size, bias=False)\n",
    "        self.key = nn.Linear(self.config.dim, self.config.n_kv_heads * self.config.head_size, bias=False)\n",
    "        self.value = nn.Linear(self.config.dim, self.config.n_kv_heads * self.config.head_size, bias=False)\n",
    "        self.rope = RoPE(self.config)\n",
    "        self.proj = nn.Linear(self.config.n_heads * self.config.head_size, self.config.n_heads * self.config.head_size, bias=False)\n",
    "        \n",
    "    def forward(self, x, y=None):\n",
    "        b,t,d = x.shape\n",
    "        q = self.query(x).view(b,t,self.config.n_heads,self.config.head_size)\n",
    "        k = self.key(x).view(b,t,self.config.n_kv_heads,self.config.head_size)\n",
    "        v = self.value(x).view(b,t,self.config.n_kv_heads,self.config.head_size)\n",
    "        print(f\"Shapes of Q, K, V: {q.shape, k.shape, v.shape}\")\n",
    "        \n",
    "        ## Add rotary embeddings        \n",
    "        q = self.rope(q.permute(0,2,1,3)).permute(0,2,1,3)\n",
    "        k = self.rope(k.permute(0,2,1,3)).permute(0,2,1,3)\n",
    "        \n",
    "        ##GQA \n",
    "        k = repeat_kv(k,self.n_rep)\n",
    "        v = repeat_kv(v,self.n_rep)\n",
    "        print(f\"Shapes of Q, K, V: {q.shape, k.shape, v.shape}\")\n",
    "        # make heads into a batch dimension\n",
    "        q = q.transpose(1, 2)  # (bs, n_local_heads, seqlen, head_dim)\n",
    "        k = k.transpose(1, 2)\n",
    "        v = v.transpose(1, 2)\n",
    "        \n",
    "        ## Flash attention\n",
    "        x = nn.functional.scaled_dot_product_attention(q, k, v, is_causal=True)\n",
    "        \n",
    "         # restore time as batch dimension and concat heads\n",
    "        x = x.transpose(1, 2).contiguous().view(b, t, -1)\n",
    "\n",
    "        # final projection into the residual stream\n",
    "        x = self.proj(x)\n",
    "        \n",
    "        return x\n",
    "        \n",
    "\n",
    "        \n",
    "        \n",
    "        \n",
    "    "
   ]
  },
  {
   "cell_type": "code",
   "execution_count": 5,
   "id": "4b9cddbe",
   "metadata": {},
   "outputs": [],
   "source": [
    "class FeedForwordNetwork(nn.Module):\n",
    "    def __init__(self, config):\n",
    "        super().__init__()\n",
    "        self.config = config        \n",
    "        hidden_units = int(self.config.dim * 4 * 2/3) ##\n",
    "        hidden_units = int(hidden_units - (hidden_units % self.config.multiple_of) + self.config.multiple_of)\n",
    "        \n",
    "        self.w = nn.Linear(self.config.dim, hidden_units)\n",
    "        self.v = nn.Linear(self.config.dim, hidden_units)\n",
    "        self.w2 = nn.Linear(hidden_units, self.config.dim)\n",
    "        self.silu = nn.SiLU()\n",
    "        \n",
    "    def forward(self, x):\n",
    "        out = self.w2(self.silu(self.w(x)) * self.v(x))\n",
    "        return out"
   ]
  },
  {
   "cell_type": "code",
   "execution_count": 6,
   "id": "43ef5958",
   "metadata": {},
   "outputs": [],
   "source": [
    "class RMSNorm(nn.Module):\n",
    "    def __init__(self, config):\n",
    "        super().__init__()\n",
    "        self.eps = 1e-5\n",
    "        self.dim = config.dim\n",
    "        self.weight = nn.Parameter(torch.ones(self.dim))\n",
    "\n",
    "    def _norm(self, x):\n",
    "        return x * torch.rsqrt(x.pow(2).mean(-1, keepdim=True) + self.eps)\n",
    "\n",
    "    def forward(self, x):\n",
    "        output = self._norm(x.float()).type_as(x)\n",
    "        return output * self.weight"
   ]
  },
  {
   "cell_type": "code",
   "execution_count": 7,
   "id": "91314226",
   "metadata": {},
   "outputs": [],
   "source": [
    "class AttentionLayer(nn.Module):\n",
    "    def __init__(self, config):\n",
    "        super().__init__()\n",
    "        self.config = config\n",
    "        self.mha = MultiHeadAttention(self.config)\n",
    "        self.ffn = FeedForwordNetwork(self.config)\n",
    "        self.anorm = RMSNorm(config)\n",
    "        self.fnorm = RMSNorm(config)\n",
    "        \n",
    "    def forward(self,x):\n",
    "        x = x + self.mha(self.anorm(x))\n",
    "        x = x + self.ffn(self.fnorm(x))\n",
    "        return x\n",
    "        "
   ]
  },
  {
   "cell_type": "code",
   "execution_count": 8,
   "id": "d366db8f",
   "metadata": {},
   "outputs": [],
   "source": [
    "class Model(nn.Module):\n",
    "    def __init__(self, config):\n",
    "        super().__init__()\n",
    "        self.config = config\n",
    "        self.embedding_layer = nn.Embedding(self.config.vocab_size, self.config.dim)\n",
    "        self.layers = nn.Sequential(*[AttentionLayer(self.config) for _ in range(self.config.n_layers)])\n",
    "        self.hnorm = RMSNorm(config)\n",
    "        self.clf_head = nn.Linear(self.config.dim, self.config.vocab_size)\n",
    "    \n",
    "    def forward(self, x, y=None):\n",
    "        x = self.embedding_layer(x)\n",
    "        x = self.layers(x)\n",
    "        x = self.hnorm(x)\n",
    "        x = self.clf_head(x)\n",
    "        return x\n",
    "        \n",
    "            "
   ]
  },
  {
   "cell_type": "code",
   "execution_count": 211,
   "id": "6be5f666",
   "metadata": {},
   "outputs": [
    {
     "name": "stdout",
     "output_type": "stream",
     "text": [
      "2048\n",
      "1365\n",
      "1536\n"
     ]
    }
   ],
   "source": [
    "multiple_of = 256\n",
    "hidden_dim = 4 * 512\n",
    "print(hidden_dim)\n",
    "hidden_dim = int(2 * hidden_dim / 3)\n",
    "print(hidden_dim)\n",
    "hidden_dim = multiple_of * ((hidden_dim + multiple_of - 1) // multiple_of)\n",
    "print(hidden_dim)"
   ]
  },
  {
   "cell_type": "code",
   "execution_count": null,
   "id": "397f70d1",
   "metadata": {},
   "outputs": [],
   "source": []
  },
  {
   "cell_type": "code",
   "execution_count": null,
   "id": "5f74aa12",
   "metadata": {},
   "outputs": [],
   "source": []
  },
  {
   "cell_type": "markdown",
   "id": "3e1c7679",
   "metadata": {},
   "source": [
    "## Testing "
   ]
  },
  {
   "cell_type": "code",
   "execution_count": 178,
   "id": "529e9cde",
   "metadata": {},
   "outputs": [],
   "source": [
    "### Attention"
   ]
  },
  {
   "cell_type": "code",
   "execution_count": 239,
   "id": "b8b903dd",
   "metadata": {},
   "outputs": [
    {
     "data": {
      "text/plain": [
       "43.0"
      ]
     },
     "execution_count": 239,
     "metadata": {},
     "output_type": "execute_result"
    }
   ],
   "source": [
    "516 / 12"
   ]
  },
  {
   "cell_type": "code",
   "execution_count": 253,
   "id": "24ce3f76",
   "metadata": {},
   "outputs": [
    {
     "data": {
      "text/plain": [
       "552"
      ]
     },
     "execution_count": 253,
     "metadata": {},
     "output_type": "execute_result"
    }
   ],
   "source": [
    "46 * 12"
   ]
  },
  {
   "cell_type": "code",
   "execution_count": 254,
   "id": "cdb7fc88",
   "metadata": {},
   "outputs": [
    {
     "data": {
      "text/plain": [
       "46.0"
      ]
     },
     "execution_count": 254,
     "metadata": {},
     "output_type": "execute_result"
    }
   ],
   "source": [
    "552 / 12"
   ]
  },
  {
   "cell_type": "code",
   "execution_count": 259,
   "id": "548b3ea8",
   "metadata": {},
   "outputs": [],
   "source": [
    "attention = Attention(config)"
   ]
  },
  {
   "cell_type": "code",
   "execution_count": 260,
   "id": "5717e951",
   "metadata": {},
   "outputs": [
    {
     "name": "stdout",
     "output_type": "stream",
     "text": [
      "Shapes of Q, K, V: (torch.Size([16, 1024, 12, 46]), torch.Size([16, 1024, 3, 46]), torch.Size([16, 1024, 3, 46]))\n",
      "shapes in RoPE in oredr x, : (torch.Size([16, 12, 1024, 46]), torch.Size([1024, 46])),d:46\n",
      "shapes in RoPE in oredr x, : (torch.Size([16, 3, 1024, 46]), torch.Size([1024, 46])),d:46\n",
      "Shapes of Q, K, V: (torch.Size([16, 1024, 12, 46]), torch.Size([16, 1024, 12, 46]), torch.Size([16, 1024, 12, 46]))\n"
     ]
    }
   ],
   "source": [
    "x = torch.ones(size=(16, config.seq_len, config.dim)) * 1.0\n",
    "out = attention(x)"
   ]
  },
  {
   "cell_type": "code",
   "execution_count": 261,
   "id": "c5a4994e",
   "metadata": {},
   "outputs": [
    {
     "data": {
      "text/plain": [
       "(torch.Size([16, 1024, 552]), torch.Size([16, 1024, 552]))"
      ]
     },
     "execution_count": 261,
     "metadata": {},
     "output_type": "execute_result"
    }
   ],
   "source": [
    "x.shape, out.shape"
   ]
  },
  {
   "cell_type": "code",
   "execution_count": 266,
   "id": "3446f826",
   "metadata": {},
   "outputs": [],
   "source": [
    "ff = FeedForword(config)\n",
    "ffout = ff(out)"
   ]
  },
  {
   "cell_type": "code",
   "execution_count": 267,
   "id": "cc29eedd",
   "metadata": {},
   "outputs": [
    {
     "data": {
      "text/plain": [
       "(torch.Size([16, 1024, 552]),\n",
       " torch.Size([16, 1024, 552]),\n",
       " torch.Size([16, 1024, 552]))"
      ]
     },
     "execution_count": 267,
     "metadata": {},
     "output_type": "execute_result"
    }
   ],
   "source": [
    "x.shape, out.shape, ffout.shape"
   ]
  },
  {
   "cell_type": "code",
   "execution_count": 197,
   "id": "e0f8eec3",
   "metadata": {},
   "outputs": [
    {
     "data": {
      "text/plain": [
       "torch.Size([16, 1024, 8, 64])"
      ]
     },
     "execution_count": 197,
     "metadata": {},
     "output_type": "execute_result"
    }
   ],
   "source": [
    "x = x.view(16, config.seq_len, config.n_heads, config.head_size)\n",
    "x.shape"
   ]
  },
  {
   "cell_type": "markdown",
   "id": "737e0c8d",
   "metadata": {},
   "source": [
    "## AttentionLayer Test"
   ]
  },
  {
   "cell_type": "code",
   "execution_count": 283,
   "id": "22923d80",
   "metadata": {},
   "outputs": [
    {
     "name": "stdout",
     "output_type": "stream",
     "text": [
      "Shapes of Q, K, V: (torch.Size([16, 1024, 12, 46]), torch.Size([16, 1024, 3, 46]), torch.Size([16, 1024, 3, 46]))\n",
      "shapes in RoPE in oredr x, : (torch.Size([16, 12, 1024, 46]), torch.Size([1024, 46])),d:46\n",
      "shapes in RoPE in oredr x, : (torch.Size([16, 3, 1024, 46]), torch.Size([1024, 46])),d:46\n",
      "Shapes of Q, K, V: (torch.Size([16, 1024, 12, 46]), torch.Size([16, 1024, 12, 46]), torch.Size([16, 1024, 12, 46]))\n",
      "torch.Size([16, 1024, 552]) torch.Size([16, 1024, 552])\n"
     ]
    }
   ],
   "source": [
    "x = torch.ones(size=(16, config.seq_len, config.dim)) * 1.0\n",
    "layer = AttentionLayer(config)\n",
    "out = layer(x)\n",
    "print(x.shape, out.shape)"
   ]
  },
  {
   "cell_type": "markdown",
   "id": "94c3c833",
   "metadata": {},
   "source": [
    "### Model Test"
   ]
  },
  {
   "cell_type": "code",
   "execution_count": 9,
   "id": "9fa67888",
   "metadata": {},
   "outputs": [
    {
     "name": "stdout",
     "output_type": "stream",
     "text": [
      "Shapes of Q, K, V: (torch.Size([16, 1024, 12, 46]), torch.Size([16, 1024, 3, 46]), torch.Size([16, 1024, 3, 46]))\n",
      "shapes in RoPE in oredr x, : (torch.Size([16, 12, 1024, 46]), torch.Size([1024, 46])),d:46\n",
      "shapes in RoPE in oredr x, : (torch.Size([16, 3, 1024, 46]), torch.Size([1024, 46])),d:46\n",
      "Shapes of Q, K, V: (torch.Size([16, 1024, 12, 46]), torch.Size([16, 1024, 12, 46]), torch.Size([16, 1024, 12, 46]))\n",
      "Shapes of Q, K, V: (torch.Size([16, 1024, 12, 46]), torch.Size([16, 1024, 3, 46]), torch.Size([16, 1024, 3, 46]))\n",
      "shapes in RoPE in oredr x, : (torch.Size([16, 12, 1024, 46]), torch.Size([1024, 46])),d:46\n",
      "shapes in RoPE in oredr x, : (torch.Size([16, 3, 1024, 46]), torch.Size([1024, 46])),d:46\n",
      "Shapes of Q, K, V: (torch.Size([16, 1024, 12, 46]), torch.Size([16, 1024, 12, 46]), torch.Size([16, 1024, 12, 46]))\n",
      "Shapes of Q, K, V: (torch.Size([16, 1024, 12, 46]), torch.Size([16, 1024, 3, 46]), torch.Size([16, 1024, 3, 46]))\n",
      "shapes in RoPE in oredr x, : (torch.Size([16, 12, 1024, 46]), torch.Size([1024, 46])),d:46\n",
      "shapes in RoPE in oredr x, : (torch.Size([16, 3, 1024, 46]), torch.Size([1024, 46])),d:46\n",
      "Shapes of Q, K, V: (torch.Size([16, 1024, 12, 46]), torch.Size([16, 1024, 12, 46]), torch.Size([16, 1024, 12, 46]))\n",
      "Shapes of Q, K, V: (torch.Size([16, 1024, 12, 46]), torch.Size([16, 1024, 3, 46]), torch.Size([16, 1024, 3, 46]))\n",
      "shapes in RoPE in oredr x, : (torch.Size([16, 12, 1024, 46]), torch.Size([1024, 46])),d:46\n",
      "shapes in RoPE in oredr x, : (torch.Size([16, 3, 1024, 46]), torch.Size([1024, 46])),d:46\n",
      "Shapes of Q, K, V: (torch.Size([16, 1024, 12, 46]), torch.Size([16, 1024, 12, 46]), torch.Size([16, 1024, 12, 46]))\n",
      "Shapes of Q, K, V: (torch.Size([16, 1024, 12, 46]), torch.Size([16, 1024, 3, 46]), torch.Size([16, 1024, 3, 46]))\n",
      "shapes in RoPE in oredr x, : (torch.Size([16, 12, 1024, 46]), torch.Size([1024, 46])),d:46\n",
      "shapes in RoPE in oredr x, : (torch.Size([16, 3, 1024, 46]), torch.Size([1024, 46])),d:46\n",
      "Shapes of Q, K, V: (torch.Size([16, 1024, 12, 46]), torch.Size([16, 1024, 12, 46]), torch.Size([16, 1024, 12, 46]))\n",
      "Shapes of Q, K, V: (torch.Size([16, 1024, 12, 46]), torch.Size([16, 1024, 3, 46]), torch.Size([16, 1024, 3, 46]))\n",
      "shapes in RoPE in oredr x, : (torch.Size([16, 12, 1024, 46]), torch.Size([1024, 46])),d:46\n",
      "shapes in RoPE in oredr x, : (torch.Size([16, 3, 1024, 46]), torch.Size([1024, 46])),d:46\n",
      "Shapes of Q, K, V: (torch.Size([16, 1024, 12, 46]), torch.Size([16, 1024, 12, 46]), torch.Size([16, 1024, 12, 46]))\n",
      "Shapes of Q, K, V: (torch.Size([16, 1024, 12, 46]), torch.Size([16, 1024, 3, 46]), torch.Size([16, 1024, 3, 46]))\n",
      "shapes in RoPE in oredr x, : (torch.Size([16, 12, 1024, 46]), torch.Size([1024, 46])),d:46\n",
      "shapes in RoPE in oredr x, : (torch.Size([16, 3, 1024, 46]), torch.Size([1024, 46])),d:46\n",
      "Shapes of Q, K, V: (torch.Size([16, 1024, 12, 46]), torch.Size([16, 1024, 12, 46]), torch.Size([16, 1024, 12, 46]))\n"
     ]
    },
    {
     "ename": "OutOfMemoryError",
     "evalue": "CUDA out of memory. Tried to allocate 36.00 MiB. GPU 0 has a total capacty of 6.00 GiB of which 0 bytes is free. Of the allocated memory 5.16 GiB is allocated by PyTorch, and 131.97 MiB is reserved by PyTorch but unallocated. If reserved but unallocated memory is large try setting max_split_size_mb to avoid fragmentation.  See documentation for Memory Management and PYTORCH_CUDA_ALLOC_CONF",
     "output_type": "error",
     "traceback": [
      "\u001b[1;31m---------------------------------------------------------------------------\u001b[0m",
      "\u001b[1;31mOutOfMemoryError\u001b[0m                          Traceback (most recent call last)",
      "Cell \u001b[1;32mIn[9], line 3\u001b[0m\n\u001b[0;32m      1\u001b[0m x \u001b[38;5;241m=\u001b[39m torch\u001b[38;5;241m.\u001b[39mones(size\u001b[38;5;241m=\u001b[39m(\u001b[38;5;241m16\u001b[39m, config\u001b[38;5;241m.\u001b[39mseq_len), dtype\u001b[38;5;241m=\u001b[39mtorch\u001b[38;5;241m.\u001b[39mint32)\u001b[38;5;241m.\u001b[39mto(\u001b[38;5;124m\"\u001b[39m\u001b[38;5;124mcuda\u001b[39m\u001b[38;5;124m\"\u001b[39m)\n\u001b[0;32m      2\u001b[0m model \u001b[38;5;241m=\u001b[39m Model(config)\u001b[38;5;241m.\u001b[39mto(\u001b[38;5;124m\"\u001b[39m\u001b[38;5;124mcuda\u001b[39m\u001b[38;5;124m\"\u001b[39m)\n\u001b[1;32m----> 3\u001b[0m out \u001b[38;5;241m=\u001b[39m \u001b[43mmodel\u001b[49m\u001b[43m(\u001b[49m\u001b[43mx\u001b[49m\u001b[43m)\u001b[49m\n\u001b[0;32m      4\u001b[0m \u001b[38;5;28mprint\u001b[39m(x\u001b[38;5;241m.\u001b[39mshape, out\u001b[38;5;241m.\u001b[39mshape)\n",
      "File \u001b[1;32m~\\anaconda3\\envs\\venv_clear_text\\lib\\site-packages\\torch\\nn\\modules\\module.py:1518\u001b[0m, in \u001b[0;36mModule._wrapped_call_impl\u001b[1;34m(self, *args, **kwargs)\u001b[0m\n\u001b[0;32m   1516\u001b[0m     \u001b[38;5;28;01mreturn\u001b[39;00m \u001b[38;5;28mself\u001b[39m\u001b[38;5;241m.\u001b[39m_compiled_call_impl(\u001b[38;5;241m*\u001b[39margs, \u001b[38;5;241m*\u001b[39m\u001b[38;5;241m*\u001b[39mkwargs)  \u001b[38;5;66;03m# type: ignore[misc]\u001b[39;00m\n\u001b[0;32m   1517\u001b[0m \u001b[38;5;28;01melse\u001b[39;00m:\n\u001b[1;32m-> 1518\u001b[0m     \u001b[38;5;28;01mreturn\u001b[39;00m \u001b[38;5;28;43mself\u001b[39;49m\u001b[38;5;241;43m.\u001b[39;49m\u001b[43m_call_impl\u001b[49m\u001b[43m(\u001b[49m\u001b[38;5;241;43m*\u001b[39;49m\u001b[43margs\u001b[49m\u001b[43m,\u001b[49m\u001b[43m \u001b[49m\u001b[38;5;241;43m*\u001b[39;49m\u001b[38;5;241;43m*\u001b[39;49m\u001b[43mkwargs\u001b[49m\u001b[43m)\u001b[49m\n",
      "File \u001b[1;32m~\\anaconda3\\envs\\venv_clear_text\\lib\\site-packages\\torch\\nn\\modules\\module.py:1527\u001b[0m, in \u001b[0;36mModule._call_impl\u001b[1;34m(self, *args, **kwargs)\u001b[0m\n\u001b[0;32m   1522\u001b[0m \u001b[38;5;66;03m# If we don't have any hooks, we want to skip the rest of the logic in\u001b[39;00m\n\u001b[0;32m   1523\u001b[0m \u001b[38;5;66;03m# this function, and just call forward.\u001b[39;00m\n\u001b[0;32m   1524\u001b[0m \u001b[38;5;28;01mif\u001b[39;00m \u001b[38;5;129;01mnot\u001b[39;00m (\u001b[38;5;28mself\u001b[39m\u001b[38;5;241m.\u001b[39m_backward_hooks \u001b[38;5;129;01mor\u001b[39;00m \u001b[38;5;28mself\u001b[39m\u001b[38;5;241m.\u001b[39m_backward_pre_hooks \u001b[38;5;129;01mor\u001b[39;00m \u001b[38;5;28mself\u001b[39m\u001b[38;5;241m.\u001b[39m_forward_hooks \u001b[38;5;129;01mor\u001b[39;00m \u001b[38;5;28mself\u001b[39m\u001b[38;5;241m.\u001b[39m_forward_pre_hooks\n\u001b[0;32m   1525\u001b[0m         \u001b[38;5;129;01mor\u001b[39;00m _global_backward_pre_hooks \u001b[38;5;129;01mor\u001b[39;00m _global_backward_hooks\n\u001b[0;32m   1526\u001b[0m         \u001b[38;5;129;01mor\u001b[39;00m _global_forward_hooks \u001b[38;5;129;01mor\u001b[39;00m _global_forward_pre_hooks):\n\u001b[1;32m-> 1527\u001b[0m     \u001b[38;5;28;01mreturn\u001b[39;00m \u001b[43mforward_call\u001b[49m\u001b[43m(\u001b[49m\u001b[38;5;241;43m*\u001b[39;49m\u001b[43margs\u001b[49m\u001b[43m,\u001b[49m\u001b[43m \u001b[49m\u001b[38;5;241;43m*\u001b[39;49m\u001b[38;5;241;43m*\u001b[39;49m\u001b[43mkwargs\u001b[49m\u001b[43m)\u001b[49m\n\u001b[0;32m   1529\u001b[0m \u001b[38;5;28;01mtry\u001b[39;00m:\n\u001b[0;32m   1530\u001b[0m     result \u001b[38;5;241m=\u001b[39m \u001b[38;5;28;01mNone\u001b[39;00m\n",
      "Cell \u001b[1;32mIn[8], line 12\u001b[0m, in \u001b[0;36mModel.forward\u001b[1;34m(self, x, y)\u001b[0m\n\u001b[0;32m     10\u001b[0m \u001b[38;5;28;01mdef\u001b[39;00m \u001b[38;5;21mforward\u001b[39m(\u001b[38;5;28mself\u001b[39m, x, y\u001b[38;5;241m=\u001b[39m\u001b[38;5;28;01mNone\u001b[39;00m):\n\u001b[0;32m     11\u001b[0m     x \u001b[38;5;241m=\u001b[39m \u001b[38;5;28mself\u001b[39m\u001b[38;5;241m.\u001b[39membedding_layer(x)\n\u001b[1;32m---> 12\u001b[0m     x \u001b[38;5;241m=\u001b[39m \u001b[38;5;28;43mself\u001b[39;49m\u001b[38;5;241;43m.\u001b[39;49m\u001b[43mlayers\u001b[49m\u001b[43m(\u001b[49m\u001b[43mx\u001b[49m\u001b[43m)\u001b[49m\n\u001b[0;32m     13\u001b[0m     x \u001b[38;5;241m=\u001b[39m \u001b[38;5;28mself\u001b[39m\u001b[38;5;241m.\u001b[39mhnorm(x)\n\u001b[0;32m     14\u001b[0m     x \u001b[38;5;241m=\u001b[39m \u001b[38;5;28mself\u001b[39m\u001b[38;5;241m.\u001b[39mclf_head(x)\n",
      "File \u001b[1;32m~\\anaconda3\\envs\\venv_clear_text\\lib\\site-packages\\torch\\nn\\modules\\module.py:1518\u001b[0m, in \u001b[0;36mModule._wrapped_call_impl\u001b[1;34m(self, *args, **kwargs)\u001b[0m\n\u001b[0;32m   1516\u001b[0m     \u001b[38;5;28;01mreturn\u001b[39;00m \u001b[38;5;28mself\u001b[39m\u001b[38;5;241m.\u001b[39m_compiled_call_impl(\u001b[38;5;241m*\u001b[39margs, \u001b[38;5;241m*\u001b[39m\u001b[38;5;241m*\u001b[39mkwargs)  \u001b[38;5;66;03m# type: ignore[misc]\u001b[39;00m\n\u001b[0;32m   1517\u001b[0m \u001b[38;5;28;01melse\u001b[39;00m:\n\u001b[1;32m-> 1518\u001b[0m     \u001b[38;5;28;01mreturn\u001b[39;00m \u001b[38;5;28;43mself\u001b[39;49m\u001b[38;5;241;43m.\u001b[39;49m\u001b[43m_call_impl\u001b[49m\u001b[43m(\u001b[49m\u001b[38;5;241;43m*\u001b[39;49m\u001b[43margs\u001b[49m\u001b[43m,\u001b[49m\u001b[43m \u001b[49m\u001b[38;5;241;43m*\u001b[39;49m\u001b[38;5;241;43m*\u001b[39;49m\u001b[43mkwargs\u001b[49m\u001b[43m)\u001b[49m\n",
      "File \u001b[1;32m~\\anaconda3\\envs\\venv_clear_text\\lib\\site-packages\\torch\\nn\\modules\\module.py:1527\u001b[0m, in \u001b[0;36mModule._call_impl\u001b[1;34m(self, *args, **kwargs)\u001b[0m\n\u001b[0;32m   1522\u001b[0m \u001b[38;5;66;03m# If we don't have any hooks, we want to skip the rest of the logic in\u001b[39;00m\n\u001b[0;32m   1523\u001b[0m \u001b[38;5;66;03m# this function, and just call forward.\u001b[39;00m\n\u001b[0;32m   1524\u001b[0m \u001b[38;5;28;01mif\u001b[39;00m \u001b[38;5;129;01mnot\u001b[39;00m (\u001b[38;5;28mself\u001b[39m\u001b[38;5;241m.\u001b[39m_backward_hooks \u001b[38;5;129;01mor\u001b[39;00m \u001b[38;5;28mself\u001b[39m\u001b[38;5;241m.\u001b[39m_backward_pre_hooks \u001b[38;5;129;01mor\u001b[39;00m \u001b[38;5;28mself\u001b[39m\u001b[38;5;241m.\u001b[39m_forward_hooks \u001b[38;5;129;01mor\u001b[39;00m \u001b[38;5;28mself\u001b[39m\u001b[38;5;241m.\u001b[39m_forward_pre_hooks\n\u001b[0;32m   1525\u001b[0m         \u001b[38;5;129;01mor\u001b[39;00m _global_backward_pre_hooks \u001b[38;5;129;01mor\u001b[39;00m _global_backward_hooks\n\u001b[0;32m   1526\u001b[0m         \u001b[38;5;129;01mor\u001b[39;00m _global_forward_hooks \u001b[38;5;129;01mor\u001b[39;00m _global_forward_pre_hooks):\n\u001b[1;32m-> 1527\u001b[0m     \u001b[38;5;28;01mreturn\u001b[39;00m \u001b[43mforward_call\u001b[49m\u001b[43m(\u001b[49m\u001b[38;5;241;43m*\u001b[39;49m\u001b[43margs\u001b[49m\u001b[43m,\u001b[49m\u001b[43m \u001b[49m\u001b[38;5;241;43m*\u001b[39;49m\u001b[38;5;241;43m*\u001b[39;49m\u001b[43mkwargs\u001b[49m\u001b[43m)\u001b[49m\n\u001b[0;32m   1529\u001b[0m \u001b[38;5;28;01mtry\u001b[39;00m:\n\u001b[0;32m   1530\u001b[0m     result \u001b[38;5;241m=\u001b[39m \u001b[38;5;28;01mNone\u001b[39;00m\n",
      "File \u001b[1;32m~\\anaconda3\\envs\\venv_clear_text\\lib\\site-packages\\torch\\nn\\modules\\container.py:215\u001b[0m, in \u001b[0;36mSequential.forward\u001b[1;34m(self, input)\u001b[0m\n\u001b[0;32m    213\u001b[0m \u001b[38;5;28;01mdef\u001b[39;00m \u001b[38;5;21mforward\u001b[39m(\u001b[38;5;28mself\u001b[39m, \u001b[38;5;28minput\u001b[39m):\n\u001b[0;32m    214\u001b[0m     \u001b[38;5;28;01mfor\u001b[39;00m module \u001b[38;5;129;01min\u001b[39;00m \u001b[38;5;28mself\u001b[39m:\n\u001b[1;32m--> 215\u001b[0m         \u001b[38;5;28minput\u001b[39m \u001b[38;5;241m=\u001b[39m \u001b[43mmodule\u001b[49m\u001b[43m(\u001b[49m\u001b[38;5;28;43minput\u001b[39;49m\u001b[43m)\u001b[49m\n\u001b[0;32m    216\u001b[0m     \u001b[38;5;28;01mreturn\u001b[39;00m \u001b[38;5;28minput\u001b[39m\n",
      "File \u001b[1;32m~\\anaconda3\\envs\\venv_clear_text\\lib\\site-packages\\torch\\nn\\modules\\module.py:1518\u001b[0m, in \u001b[0;36mModule._wrapped_call_impl\u001b[1;34m(self, *args, **kwargs)\u001b[0m\n\u001b[0;32m   1516\u001b[0m     \u001b[38;5;28;01mreturn\u001b[39;00m \u001b[38;5;28mself\u001b[39m\u001b[38;5;241m.\u001b[39m_compiled_call_impl(\u001b[38;5;241m*\u001b[39margs, \u001b[38;5;241m*\u001b[39m\u001b[38;5;241m*\u001b[39mkwargs)  \u001b[38;5;66;03m# type: ignore[misc]\u001b[39;00m\n\u001b[0;32m   1517\u001b[0m \u001b[38;5;28;01melse\u001b[39;00m:\n\u001b[1;32m-> 1518\u001b[0m     \u001b[38;5;28;01mreturn\u001b[39;00m \u001b[38;5;28;43mself\u001b[39;49m\u001b[38;5;241;43m.\u001b[39;49m\u001b[43m_call_impl\u001b[49m\u001b[43m(\u001b[49m\u001b[38;5;241;43m*\u001b[39;49m\u001b[43margs\u001b[49m\u001b[43m,\u001b[49m\u001b[43m \u001b[49m\u001b[38;5;241;43m*\u001b[39;49m\u001b[38;5;241;43m*\u001b[39;49m\u001b[43mkwargs\u001b[49m\u001b[43m)\u001b[49m\n",
      "File \u001b[1;32m~\\anaconda3\\envs\\venv_clear_text\\lib\\site-packages\\torch\\nn\\modules\\module.py:1527\u001b[0m, in \u001b[0;36mModule._call_impl\u001b[1;34m(self, *args, **kwargs)\u001b[0m\n\u001b[0;32m   1522\u001b[0m \u001b[38;5;66;03m# If we don't have any hooks, we want to skip the rest of the logic in\u001b[39;00m\n\u001b[0;32m   1523\u001b[0m \u001b[38;5;66;03m# this function, and just call forward.\u001b[39;00m\n\u001b[0;32m   1524\u001b[0m \u001b[38;5;28;01mif\u001b[39;00m \u001b[38;5;129;01mnot\u001b[39;00m (\u001b[38;5;28mself\u001b[39m\u001b[38;5;241m.\u001b[39m_backward_hooks \u001b[38;5;129;01mor\u001b[39;00m \u001b[38;5;28mself\u001b[39m\u001b[38;5;241m.\u001b[39m_backward_pre_hooks \u001b[38;5;129;01mor\u001b[39;00m \u001b[38;5;28mself\u001b[39m\u001b[38;5;241m.\u001b[39m_forward_hooks \u001b[38;5;129;01mor\u001b[39;00m \u001b[38;5;28mself\u001b[39m\u001b[38;5;241m.\u001b[39m_forward_pre_hooks\n\u001b[0;32m   1525\u001b[0m         \u001b[38;5;129;01mor\u001b[39;00m _global_backward_pre_hooks \u001b[38;5;129;01mor\u001b[39;00m _global_backward_hooks\n\u001b[0;32m   1526\u001b[0m         \u001b[38;5;129;01mor\u001b[39;00m _global_forward_hooks \u001b[38;5;129;01mor\u001b[39;00m _global_forward_pre_hooks):\n\u001b[1;32m-> 1527\u001b[0m     \u001b[38;5;28;01mreturn\u001b[39;00m \u001b[43mforward_call\u001b[49m\u001b[43m(\u001b[49m\u001b[38;5;241;43m*\u001b[39;49m\u001b[43margs\u001b[49m\u001b[43m,\u001b[49m\u001b[43m \u001b[49m\u001b[38;5;241;43m*\u001b[39;49m\u001b[38;5;241;43m*\u001b[39;49m\u001b[43mkwargs\u001b[49m\u001b[43m)\u001b[49m\n\u001b[0;32m   1529\u001b[0m \u001b[38;5;28;01mtry\u001b[39;00m:\n\u001b[0;32m   1530\u001b[0m     result \u001b[38;5;241m=\u001b[39m \u001b[38;5;28;01mNone\u001b[39;00m\n",
      "Cell \u001b[1;32mIn[7], line 11\u001b[0m, in \u001b[0;36mAttentionLayer.forward\u001b[1;34m(self, x)\u001b[0m\n\u001b[0;32m     10\u001b[0m \u001b[38;5;28;01mdef\u001b[39;00m \u001b[38;5;21mforward\u001b[39m(\u001b[38;5;28mself\u001b[39m,x):\n\u001b[1;32m---> 11\u001b[0m     x \u001b[38;5;241m=\u001b[39m \u001b[43mx\u001b[49m\u001b[43m \u001b[49m\u001b[38;5;241;43m+\u001b[39;49m\u001b[43m \u001b[49m\u001b[38;5;28;43mself\u001b[39;49m\u001b[38;5;241;43m.\u001b[39;49m\u001b[43mmha\u001b[49m\u001b[43m(\u001b[49m\u001b[38;5;28;43mself\u001b[39;49m\u001b[38;5;241;43m.\u001b[39;49m\u001b[43manorm\u001b[49m\u001b[43m(\u001b[49m\u001b[43mx\u001b[49m\u001b[43m)\u001b[49m\u001b[43m)\u001b[49m\n\u001b[0;32m     12\u001b[0m     x \u001b[38;5;241m=\u001b[39m x \u001b[38;5;241m+\u001b[39m \u001b[38;5;28mself\u001b[39m\u001b[38;5;241m.\u001b[39mffn(\u001b[38;5;28mself\u001b[39m\u001b[38;5;241m.\u001b[39mfnorm(x))\n\u001b[0;32m     13\u001b[0m     \u001b[38;5;28;01mreturn\u001b[39;00m x\n",
      "\u001b[1;31mOutOfMemoryError\u001b[0m: CUDA out of memory. Tried to allocate 36.00 MiB. GPU 0 has a total capacty of 6.00 GiB of which 0 bytes is free. Of the allocated memory 5.16 GiB is allocated by PyTorch, and 131.97 MiB is reserved by PyTorch but unallocated. If reserved but unallocated memory is large try setting max_split_size_mb to avoid fragmentation.  See documentation for Memory Management and PYTORCH_CUDA_ALLOC_CONF"
     ]
    }
   ],
   "source": [
    "x = torch.ones(size=(16, config.seq_len), dtype=torch.int32).to(\"cuda\")\n",
    "model = Model(config).to(\"cuda\")\n",
    "out = model(x)\n",
    "print(x.shape, out.shape)"
   ]
  },
  {
   "cell_type": "code",
   "execution_count": 10,
   "id": "ce82b0ec",
   "metadata": {},
   "outputs": [
    {
     "name": "stdout",
     "output_type": "stream",
     "text": [
      "\n",
      "#######Total parameter of the model: 44.17053\n"
     ]
    }
   ],
   "source": [
    "total_params = sum(p.numel() for p in model.parameters() if p.requires_grad)\n",
    "print(f\"\\n#######Total parameter of the model: {total_params * 1e-6}\")"
   ]
  },
  {
   "cell_type": "code",
   "execution_count": null,
   "id": "0bf50bab",
   "metadata": {},
   "outputs": [],
   "source": []
  },
  {
   "cell_type": "code",
   "execution_count": 199,
   "id": "218cf000",
   "metadata": {},
   "outputs": [],
   "source": [
    "xq = torch.rand(size=(16, config.seq_len, config.n_heads, config.head_size))\n",
    "xq_r, xq_i = xq.float().reshape(xq.shape[:-1] + (-1, 2)).unbind(-1)"
   ]
  },
  {
   "cell_type": "code",
   "execution_count": 201,
   "id": "71748ac5",
   "metadata": {},
   "outputs": [
    {
     "data": {
      "text/plain": [
       "torch.Size([16, 1024, 8, -1, 2])"
      ]
     },
     "execution_count": 201,
     "metadata": {},
     "output_type": "execute_result"
    }
   ],
   "source": [
    "xq.shape[:-1] + (-1, 2)"
   ]
  },
  {
   "cell_type": "code",
   "execution_count": 202,
   "id": "4473b4b8",
   "metadata": {},
   "outputs": [
    {
     "data": {
      "text/plain": [
       "torch.Size([16, 1024, 8, 32, 2])"
      ]
     },
     "execution_count": 202,
     "metadata": {},
     "output_type": "execute_result"
    }
   ],
   "source": [
    "xq.float().reshape(xq.shape[:-1] + (-1, 2)).shape"
   ]
  },
  {
   "cell_type": "code",
   "execution_count": null,
   "id": "4bfa3936",
   "metadata": {},
   "outputs": [],
   "source": []
  },
  {
   "cell_type": "code",
   "execution_count": 167,
   "id": "b99a10b6",
   "metadata": {},
   "outputs": [],
   "source": [
    "rope = RoPE(config)"
   ]
  },
  {
   "cell_type": "code",
   "execution_count": 168,
   "id": "01843ec9",
   "metadata": {},
   "outputs": [],
   "source": [
    "x = torch.ones(size=(16, config.seq_len, config.dim)) * 1.0"
   ]
  },
  {
   "cell_type": "code",
   "execution_count": 169,
   "id": "2d2c02c1",
   "metadata": {},
   "outputs": [
    {
     "data": {
      "text/plain": [
       "(torch.Size([16, 1024, 512]), torch.Size([16, 1024, 8, 64]))"
      ]
     },
     "execution_count": 169,
     "metadata": {},
     "output_type": "execute_result"
    }
   ],
   "source": [
    "x.shape, x.view(16, config.seq_len, config.n_heads, config.head_size).shape"
   ]
  },
  {
   "cell_type": "code",
   "execution_count": 170,
   "id": "9b500585",
   "metadata": {},
   "outputs": [],
   "source": [
    "x = x.view(16, config.seq_len, config.n_heads, config.head_size)"
   ]
  },
  {
   "cell_type": "code",
   "execution_count": 171,
   "id": "a7c3265f",
   "metadata": {},
   "outputs": [],
   "source": [
    "x = x.permute(0, 2, 1, 3)"
   ]
  },
  {
   "cell_type": "code",
   "execution_count": 172,
   "id": "943f08ac",
   "metadata": {},
   "outputs": [
    {
     "data": {
      "text/plain": [
       "torch.Size([16, 8, 1024, 64])"
      ]
     },
     "execution_count": 172,
     "metadata": {},
     "output_type": "execute_result"
    }
   ],
   "source": [
    "x.shape"
   ]
  },
  {
   "cell_type": "code",
   "execution_count": null,
   "id": "f62c44aa",
   "metadata": {},
   "outputs": [],
   "source": []
  },
  {
   "cell_type": "code",
   "execution_count": null,
   "id": "dfec69fd",
   "metadata": {},
   "outputs": [],
   "source": []
  },
  {
   "cell_type": "code",
   "execution_count": 173,
   "id": "337db8d1",
   "metadata": {},
   "outputs": [],
   "source": [
    "x_rope = rope(x)"
   ]
  },
  {
   "cell_type": "code",
   "execution_count": 174,
   "id": "27f44d35",
   "metadata": {},
   "outputs": [
    {
     "data": {
      "text/plain": [
       "(torch.Size([16, 8, 1024, 64]), torch.Size([16, 8, 1024, 64]))"
      ]
     },
     "execution_count": 174,
     "metadata": {},
     "output_type": "execute_result"
    }
   ],
   "source": [
    "x.shape, x_rope.shape"
   ]
  },
  {
   "cell_type": "code",
   "execution_count": 73,
   "id": "7b1d9131",
   "metadata": {},
   "outputs": [
    {
     "data": {
      "text/plain": [
       "(tensor([1., 1.]), tensor([1., 1.]))"
      ]
     },
     "execution_count": 73,
     "metadata": {},
     "output_type": "execute_result"
    }
   ],
   "source": [
    "x[0,0,:], x_rope[0,0,:]"
   ]
  },
  {
   "cell_type": "code",
   "execution_count": 75,
   "id": "43e4df5b",
   "metadata": {},
   "outputs": [
    {
     "data": {
      "text/plain": [
       "torch.Size([1024, 2])"
      ]
     },
     "execution_count": 75,
     "metadata": {},
     "output_type": "execute_result"
    }
   ],
   "source": [
    "x_rope[0,:,:].shape"
   ]
  },
  {
   "cell_type": "code",
   "execution_count": 76,
   "id": "c519eb69",
   "metadata": {},
   "outputs": [],
   "source": [
    "import seaborn as sns\n",
    "import matplotlib.pyplot as plt"
   ]
  },
  {
   "cell_type": "code",
   "execution_count": 95,
   "id": "996ec059",
   "metadata": {},
   "outputs": [
    {
     "data": {
      "image/png": "[encoded data removed]",
      "text/plain": [
       "<Figure size 640x480 with 1 Axes>"
      ]
     },
     "metadata": {},
     "output_type": "display_data"
    }
   ],
   "source": [
    "sns.scatterplot(x=x_rope[0,:1,0], y=x_rope[0,:1,1])\n",
    "plt.xlim((-2,2))\n",
    "plt.ylim((-2,2))\n",
    "plt.show()"
   ]
  },
  {
   "cell_type": "code",
   "execution_count": 97,
   "id": "2e9fa0a7",
   "metadata": {},
   "outputs": [
    {
     "data": {
      "text/plain": [
       "torch.Size([1024, 2])"
      ]
     },
     "execution_count": 97,
     "metadata": {},
     "output_type": "execute_result"
    }
   ],
   "source": [
    "x_rope[0,:,:].shape"
   ]
  },
  {
   "cell_type": "code",
   "execution_count": 139,
   "id": "bb46c192",
   "metadata": {},
   "outputs": [],
   "source": [
    "data = [[(0.0, 0.0, i),tuple(point +[i,])] for i,point in enumerate(x_rope[0,:,:].numpy().tolist())]"
   ]
  },
  {
   "cell_type": "code",
   "execution_count": 140,
   "id": "497d7ba1",
   "metadata": {},
   "outputs": [
    {
     "data": {
      "text/plain": [
       "[(0.0, 0.0, 0),\n",
       " (1.0, 1.0, 0),\n",
       " (0.0, 0.0, 1),\n",
       " (-0.30116862058639526, 1.3817732334136963, 1),\n",
       " (0.0, 0.0, 2)]"
      ]
     },
     "execution_count": 140,
     "metadata": {},
     "output_type": "execute_result"
    }
   ],
   "source": [
    "data = [row for sub in data for row in sub]\n",
    "data[:5]"
   ]
  },
  {
   "cell_type": "code",
   "execution_count": 141,
   "id": "b14ead7d",
   "metadata": {},
   "outputs": [
    {
     "data": {
      "text/html": [
       "<div>\n",
       "<style scoped>\n",
       "    .dataframe tbody tr th:only-of-type {\n",
       "        vertical-align: middle;\n",
       "    }\n",
       "\n",
       "    .dataframe tbody tr th {\n",
       "        vertical-align: top;\n",
       "    }\n",
       "\n",
       "    .dataframe thead th {\n",
       "        text-align: right;\n",
       "    }\n",
       "</style>\n",
       "<table border=\"1\" class=\"dataframe\">\n",
       "  <thead>\n",
       "    <tr style=\"text-align: right;\">\n",
       "      <th></th>\n",
       "      <th>x1</th>\n",
       "      <th>x2</th>\n",
       "      <th>t</th>\n",
       "    </tr>\n",
       "  </thead>\n",
       "  <tbody>\n",
       "    <tr>\n",
       "      <th>0</th>\n",
       "      <td>0.000000</td>\n",
       "      <td>0.000000</td>\n",
       "      <td>0</td>\n",
       "    </tr>\n",
       "    <tr>\n",
       "      <th>1</th>\n",
       "      <td>1.000000</td>\n",
       "      <td>1.000000</td>\n",
       "      <td>0</td>\n",
       "    </tr>\n",
       "    <tr>\n",
       "      <th>2</th>\n",
       "      <td>0.000000</td>\n",
       "      <td>0.000000</td>\n",
       "      <td>1</td>\n",
       "    </tr>\n",
       "    <tr>\n",
       "      <th>3</th>\n",
       "      <td>-0.301169</td>\n",
       "      <td>1.381773</td>\n",
       "      <td>1</td>\n",
       "    </tr>\n",
       "    <tr>\n",
       "      <th>4</th>\n",
       "      <td>0.000000</td>\n",
       "      <td>0.000000</td>\n",
       "      <td>2</td>\n",
       "    </tr>\n",
       "  </tbody>\n",
       "</table>\n",
       "</div>"
      ],
      "text/plain": [
       "         x1        x2  t\n",
       "0  0.000000  0.000000  0\n",
       "1  1.000000  1.000000  0\n",
       "2  0.000000  0.000000  1\n",
       "3 -0.301169  1.381773  1\n",
       "4  0.000000  0.000000  2"
      ]
     },
     "execution_count": 141,
     "metadata": {},
     "output_type": "execute_result"
    }
   ],
   "source": [
    "df = pd.DataFrame(data=data, columns=[\"x1\",\"x2\",\"t\"])\n",
    "df.head()"
   ]
  },
  {
   "cell_type": "code",
   "execution_count": 142,
   "id": "341163f8",
   "metadata": {},
   "outputs": [
    {
     "data": {
      "image/png": "[encoded data removed]",
      "text/plain": [
       "<Figure size 640x480 with 1 Axes>"
      ]
     },
     "metadata": {},
     "output_type": "display_data"
    }
   ],
   "source": [
    "sns.lineplot(x=\"x1\", y=\"x2\",hue=\"t\",data=df)\n",
    "plt.xlim((-2,2))\n",
    "plt.ylim((-2,2))\n",
    "plt.show()"
   ]
  },
  {
   "cell_type": "code",
   "execution_count": 108,
   "id": "9d1202b3",
   "metadata": {},
   "outputs": [
    {
     "data": {
      "text/plain": [
       "(0.31338733434677124, -1.3790533542633057)"
      ]
     },
     "execution_count": 108,
     "metadata": {},
     "output_type": "execute_result"
    }
   ],
   "source": [
    "tuple( [0.31338733434677124, -1.3790533542633057])"
   ]
  },
  {
   "cell_type": "code",
   "execution_count": 99,
   "id": "34ff6c36",
   "metadata": {},
   "outputs": [
    {
     "data": {
      "text/html": [
       "<div>\n",
       "<style scoped>\n",
       "    .dataframe tbody tr th:only-of-type {\n",
       "        vertical-align: middle;\n",
       "    }\n",
       "\n",
       "    .dataframe tbody tr th {\n",
       "        vertical-align: top;\n",
       "    }\n",
       "\n",
       "    .dataframe thead th {\n",
       "        text-align: right;\n",
       "    }\n",
       "</style>\n",
       "<table border=\"1\" class=\"dataframe\">\n",
       "  <thead>\n",
       "    <tr style=\"text-align: right;\">\n",
       "      <th></th>\n",
       "      <th>x1</th>\n",
       "      <th>x2</th>\n",
       "    </tr>\n",
       "  </thead>\n",
       "  <tbody>\n",
       "    <tr>\n",
       "      <th>0</th>\n",
       "      <td>1.000000</td>\n",
       "      <td>1.000000</td>\n",
       "    </tr>\n",
       "    <tr>\n",
       "      <th>1</th>\n",
       "      <td>-0.301169</td>\n",
       "      <td>1.381773</td>\n",
       "    </tr>\n",
       "    <tr>\n",
       "      <th>2</th>\n",
       "      <td>-1.325444</td>\n",
       "      <td>0.493151</td>\n",
       "    </tr>\n",
       "    <tr>\n",
       "      <th>3</th>\n",
       "      <td>-1.131112</td>\n",
       "      <td>-0.848872</td>\n",
       "    </tr>\n",
       "    <tr>\n",
       "      <th>4</th>\n",
       "      <td>0.103159</td>\n",
       "      <td>-1.410446</td>\n",
       "    </tr>\n",
       "    <tr>\n",
       "      <th>...</th>\n",
       "      <td>...</td>\n",
       "      <td>...</td>\n",
       "    </tr>\n",
       "    <tr>\n",
       "      <th>1019</th>\n",
       "      <td>-0.469731</td>\n",
       "      <td>1.333924</td>\n",
       "    </tr>\n",
       "    <tr>\n",
       "      <th>1020</th>\n",
       "      <td>-1.376255</td>\n",
       "      <td>0.325457</td>\n",
       "    </tr>\n",
       "    <tr>\n",
       "      <th>1021</th>\n",
       "      <td>-1.017456</td>\n",
       "      <td>-0.982233</td>\n",
       "    </tr>\n",
       "    <tr>\n",
       "      <th>1022</th>\n",
       "      <td>0.276787</td>\n",
       "      <td>-1.386863</td>\n",
       "    </tr>\n",
       "    <tr>\n",
       "      <th>1023</th>\n",
       "      <td>1.316554</td>\n",
       "      <td>-0.516417</td>\n",
       "    </tr>\n",
       "  </tbody>\n",
       "</table>\n",
       "<p>1024 rows × 2 columns</p>\n",
       "</div>"
      ],
      "text/plain": [
       "            x1        x2\n",
       "0     1.000000  1.000000\n",
       "1    -0.301169  1.381773\n",
       "2    -1.325444  0.493151\n",
       "3    -1.131112 -0.848872\n",
       "4     0.103159 -1.410446\n",
       "...        ...       ...\n",
       "1019 -0.469731  1.333924\n",
       "1020 -1.376255  0.325457\n",
       "1021 -1.017456 -0.982233\n",
       "1022  0.276787 -1.386863\n",
       "1023  1.316554 -0.516417\n",
       "\n",
       "[1024 rows x 2 columns]"
      ]
     },
     "execution_count": 99,
     "metadata": {},
     "output_type": "execute_result"
    }
   ],
   "source": [
    "import pandas as pd\n",
    "pd.DataFrame(x_rope[0,:,:], columns=['x1','x2'])"
   ]
  },
  {
   "cell_type": "markdown",
   "id": "2eb6ac2b",
   "metadata": {},
   "source": [
    "### Revision"
   ]
  },
  {
   "cell_type": "code",
   "execution_count": null,
   "id": "7b91000b",
   "metadata": {},
   "outputs": [],
   "source": []
  },
  {
   "cell_type": "code",
   "execution_count": 68,
   "id": "e12ed0a8",
   "metadata": {},
   "outputs": [],
   "source": [
    "## Some parameters\n",
    "vocab_size = 4096\n",
    "context_length = 1024\n",
    "tokenizers_path = \"saved_artifacts/tokenizers\"\n",
    "subset_size = 2000\n",
    "batch_size = 4\n",
    "dim = 512\n",
    "n_heads = 8\n",
    "n_layers = 8\n",
    "head_size = dim // n_heads"
   ]
  },
  {
   "cell_type": "code",
   "execution_count": 4,
   "id": "d3cff91b",
   "metadata": {},
   "outputs": [],
   "source": [
    "## Data preparation\n",
    "\n",
    "from datasets import load_dataset, load_from_disk\n",
    "from torch.utils.data import DataLoader\n",
    "import sentencepiece as spm\n",
    "import os\n",
    "from functools import partial\n",
    "\n",
    "tokenizer_model_path = os.path.join(tokenizers_path,f\"tok_{vocab_size}.model\")\n",
    "tokenizer = spm.SentencePieceProcessor(model_file=tokenizer_model_path)    "
   ]
  },
  {
   "cell_type": "code",
   "execution_count": 19,
   "id": "0b7ea0ef",
   "metadata": {},
   "outputs": [],
   "source": [
    "def process_rows_func(examples, tokenizer, context_length):     \n",
    "    idx = 0 \n",
    "    inputs, targets = [],[]\n",
    "\n",
    "\n",
    "    tokenized_examples = tokenizer.encode(examples[\"text\"], add_bos=True)\n",
    "    merged_text = [token for example in tokenized_examples for token in example]\n",
    "\n",
    "    while idx < len(merged_text)-context_length:\n",
    "        chunk = merged_text[idx:idx+context_length+1]\n",
    "        inputs.append(chunk[:-1])\n",
    "        targets.append(chunk[1:])\n",
    "        idx += context_length\n",
    "    return {\"inputs\":inputs, \"targets\":targets}"
   ]
  },
  {
   "cell_type": "code",
   "execution_count": 36,
   "id": "5c3a6dc3",
   "metadata": {},
   "outputs": [],
   "source": [
    "dataset = load_dataset(\"roneneldan/TinyStories\")\n",
    "dataset = dataset[\"train\"]\n",
    "dataset = dataset.select(range(subset_size))\n",
    "            \n",
    "dataset = dataset.map(\n",
    "    process_rows_func,\n",
    "    fn_kwargs={'tokenizer':tokenizer, 'context_length':context_length},\n",
    "    batched=True,\n",
    "    num_proc=4,\n",
    "    remove_columns=dataset.column_names    \n",
    ")\n",
    "dataset.set_format(type='torch', columns=dataset.column_names)\n",
    "train_loader = DataLoader(dataset, batch_size=batch_size, shuffle=True)"
   ]
  },
  {
   "cell_type": "code",
   "execution_count": 37,
   "id": "9b2e616a",
   "metadata": {},
   "outputs": [
    {
     "name": "stdout",
     "output_type": "stream",
     "text": [
      "tensor([   1,  422,  361, 3968,  261,  399,  447,  502,  349,  592])\n",
      "tensor([ 422,  361, 3968,  261,  399,  447,  502,  349,  592,  261])\n"
     ]
    }
   ],
   "source": [
    "## Print dataste example\n",
    "print(dataset[\"inputs\"][0][:10])\n",
    "print(dataset[\"targets\"][0][:10])"
   ]
  },
  {
   "cell_type": "code",
   "execution_count": 40,
   "id": "d250a937",
   "metadata": {},
   "outputs": [],
   "source": [
    "### Modeling part\n",
    "import torch\n",
    "from torch import nn"
   ]
  },
  {
   "cell_type": "code",
   "execution_count": null,
   "id": "c8285b6a",
   "metadata": {},
   "outputs": [],
   "source": []
  },
  {
   "cell_type": "code",
   "execution_count": null,
   "id": "f58db860",
   "metadata": {},
   "outputs": [],
   "source": []
  },
  {
   "cell_type": "code",
   "execution_count": 61,
   "id": "e834e48a",
   "metadata": {},
   "outputs": [],
   "source": [
    "query = nn.Linear(dim, dim, bias=False)\n",
    "key = nn.Linear(dim, dim, bias=False)\n",
    "value = nn.Linear(dim, dim, bias=False)"
   ]
  },
  {
   "cell_type": "code",
   "execution_count": 62,
   "id": "552f8125",
   "metadata": {},
   "outputs": [],
   "source": [
    "token_embeddings = nn.Embedding(vocab_size, dim)\n",
    "position_embeddings = nn.Embedding(context_length, dim)"
   ]
  },
  {
   "cell_type": "code",
   "execution_count": 63,
   "id": "076b2673",
   "metadata": {},
   "outputs": [],
   "source": [
    "x = token_embeddings(dataset[\"inputs\"][0:4])\n",
    "positions = torch.tensor(range(x.shape[-2]))\n",
    "x = x + position_embeddings(positions)\n"
   ]
  },
  {
   "cell_type": "code",
   "execution_count": 70,
   "id": "b23a56e7",
   "metadata": {},
   "outputs": [],
   "source": [
    "q = query(x)\n",
    "k = key(x)\n",
    "v = value(x)"
   ]
  },
  {
   "cell_type": "code",
   "execution_count": 72,
   "id": "5529cf76",
   "metadata": {},
   "outputs": [
    {
     "data": {
      "text/plain": [
       "(torch.Size([4, 1024, 512]),\n",
       " torch.Size([4, 1024, 512]),\n",
       " torch.Size([4, 1024, 512]))"
      ]
     },
     "execution_count": 72,
     "metadata": {},
     "output_type": "execute_result"
    }
   ],
   "source": [
    "q.shape, k.shape, v.shape"
   ]
  },
  {
   "cell_type": "code",
   "execution_count": 73,
   "id": "ab3026c2",
   "metadata": {},
   "outputs": [],
   "source": [
    "b, s, e = q.shape\n",
    "q = q.view(b, s, n_heads, head_size)\n",
    "k = k.view(b, s, n_heads, head_size)\n",
    "v = v.view(b, s, n_heads, head_size)"
   ]
  },
  {
   "cell_type": "code",
   "execution_count": 74,
   "id": "47383da6",
   "metadata": {},
   "outputs": [
    {
     "data": {
      "text/plain": [
       "(torch.Size([4, 1024, 8, 64]),\n",
       " torch.Size([4, 1024, 8, 64]),\n",
       " torch.Size([4, 1024, 8, 64]))"
      ]
     },
     "execution_count": 74,
     "metadata": {},
     "output_type": "execute_result"
    }
   ],
   "source": [
    "q.shape, k.shape, v.shape"
   ]
  },
  {
   "cell_type": "code",
   "execution_count": 75,
   "id": "669d5787",
   "metadata": {},
   "outputs": [],
   "source": [
    "## permute shapes"
   ]
  },
  {
   "cell_type": "code",
   "execution_count": 80,
   "id": "c3696154",
   "metadata": {},
   "outputs": [],
   "source": [
    "q = q.permute(0,2,1,3)\n",
    "k = k.permute(0,2,1,3)\n",
    "v = v.permute(0,2,1,3)"
   ]
  },
  {
   "cell_type": "code",
   "execution_count": 81,
   "id": "b8290263",
   "metadata": {},
   "outputs": [
    {
     "data": {
      "text/plain": [
       "(torch.Size([4, 8, 1024, 64]),\n",
       " torch.Size([4, 8, 1024, 64]),\n",
       " torch.Size([4, 8, 1024, 64]))"
      ]
     },
     "execution_count": 81,
     "metadata": {},
     "output_type": "execute_result"
    }
   ],
   "source": [
    "q.shape, k.shape, v.shape"
   ]
  },
  {
   "cell_type": "code",
   "execution_count": 83,
   "id": "db08e244",
   "metadata": {},
   "outputs": [
    {
     "ename": "TypeError",
     "evalue": "sqrt(): argument 'input' (position 1) must be Tensor, not int",
     "output_type": "error",
     "traceback": [
      "\u001b[1;31m---------------------------------------------------------------------------\u001b[0m",
      "\u001b[1;31mTypeError\u001b[0m                                 Traceback (most recent call last)",
      "Cell \u001b[1;32mIn[83], line 4\u001b[0m\n\u001b[0;32m      1\u001b[0m \u001b[38;5;66;03m### Self attention\u001b[39;00m\n\u001b[0;32m      2\u001b[0m dk \u001b[38;5;241m=\u001b[39m k\u001b[38;5;241m.\u001b[39mshape[\u001b[38;5;241m-\u001b[39m\u001b[38;5;241m1\u001b[39m]\n\u001b[1;32m----> 4\u001b[0m (q \u001b[38;5;241m@\u001b[39m k\u001b[38;5;241m.\u001b[39mtranspose(\u001b[38;5;241m-\u001b[39m\u001b[38;5;241m2\u001b[39m,\u001b[38;5;241m-\u001b[39m\u001b[38;5;241m1\u001b[39m)) \u001b[38;5;241m/\u001b[39m \u001b[43mtorch\u001b[49m\u001b[38;5;241;43m.\u001b[39;49m\u001b[43msqrt\u001b[49m\u001b[43m(\u001b[49m\u001b[43mdk\u001b[49m\u001b[43m)\u001b[49m \u001b[38;5;241m*\u001b[39m v\n",
      "\u001b[1;31mTypeError\u001b[0m: sqrt(): argument 'input' (position 1) must be Tensor, not int"
     ]
    }
   ],
   "source": [
    "### Self attention\n",
    "dk = k.shape[-1]\n",
    "\n",
    "(q @ k.transpose(-2,-1)) / torch.sqrt(dk) * v\n"
   ]
  },
  {
   "cell_type": "code",
   "execution_count": 82,
   "id": "ad6fce28",
   "metadata": {},
   "outputs": [
    {
     "data": {
      "text/plain": [
       "torch.Size([4, 8, 64, 1024])"
      ]
     },
     "execution_count": 82,
     "metadata": {},
     "output_type": "execute_result"
    }
   ],
   "source": [
    "k.transpose(-2,-1).shape"
   ]
  },
  {
   "cell_type": "code",
   "execution_count": null,
   "id": "e084c55d",
   "metadata": {},
   "outputs": [],
   "source": []
  }
 ],
 "metadata": {
  "kernelspec": {
   "display_name": "venv_clear_text",
   "language": "python",
   "name": "venv_clear_text"
  },
  "language_info": {
   "codemirror_mode": {
    "name": "ipython",
    "version": 3
   },
   "file_extension": ".py",
   "mimetype": "text/x-python",
   "name": "python",
   "nbconvert_exporter": "python",
   "pygments_lexer": "ipython3",
   "version": "3.8.8"
  }
 },
 "nbformat": 4,
 "nbformat_minor": 5
}
